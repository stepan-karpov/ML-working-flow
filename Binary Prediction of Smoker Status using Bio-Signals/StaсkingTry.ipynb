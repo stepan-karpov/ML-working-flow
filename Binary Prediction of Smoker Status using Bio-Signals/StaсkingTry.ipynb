{
 "cells": [
  {
   "cell_type": "code",
   "execution_count": 1,
   "metadata": {
    "ExecuteTime": {
     "end_time": "2023-11-07T22:17:47.162262Z",
     "start_time": "2023-11-07T22:17:44.068161Z"
    }
   },
   "outputs": [
    {
     "name": "stdout",
     "output_type": "stream",
     "text": [
      "Defaulting to user installation because normal site-packages is not writeable\n",
      "Requirement already satisfied: torchsummary in /home/stepa/.local/lib/python3.6/site-packages (1.5.1)\n",
      "Defaulting to user installation because normal site-packages is not writeable\n",
      "Requirement already satisfied: torchmetrics in /home/stepa/.local/lib/python3.6/site-packages (0.8.2)\n",
      "Requirement already satisfied: torch>=1.3.1 in /home/stepa/.local/lib/python3.6/site-packages (from torchmetrics) (1.10.1)\n",
      "Requirement already satisfied: numpy>=1.17.2 in /home/stepa/.local/lib/python3.6/site-packages (from torchmetrics) (1.19.5)\n",
      "Requirement already satisfied: packaging in /home/stepa/.local/lib/python3.6/site-packages (from torchmetrics) (21.3)\n",
      "Requirement already satisfied: pyDeprecate==0.3.* in /home/stepa/.local/lib/python3.6/site-packages (from torchmetrics) (0.3.2)\n",
      "Requirement already satisfied: typing-extensions in /home/stepa/.local/lib/python3.6/site-packages (from torch>=1.3.1->torchmetrics) (4.1.1)\n",
      "Requirement already satisfied: dataclasses in /home/stepa/.local/lib/python3.6/site-packages (from torch>=1.3.1->torchmetrics) (0.8)\n",
      "Requirement already satisfied: pyparsing!=3.0.5,>=2.0.2 in /home/stepa/.local/lib/python3.6/site-packages (from packaging->torchmetrics) (3.1.1)\n",
      "Defaulting to user installation because normal site-packages is not writeable\n",
      "Requirement already satisfied: scikit-learn in /home/stepa/.local/lib/python3.6/site-packages (0.24.2)\n",
      "Requirement already satisfied: threadpoolctl>=2.0.0 in /home/stepa/.local/lib/python3.6/site-packages (from scikit-learn) (3.1.0)\n",
      "Requirement already satisfied: numpy>=1.13.3 in /home/stepa/.local/lib/python3.6/site-packages (from scikit-learn) (1.19.5)\n",
      "Requirement already satisfied: scipy>=0.19.1 in /home/stepa/.local/lib/python3.6/site-packages (from scikit-learn) (1.5.4)\n",
      "Requirement already satisfied: joblib>=0.11 in /home/stepa/.local/lib/python3.6/site-packages (from scikit-learn) (1.1.1)\n"
     ]
    }
   ],
   "source": [
    "!pip install torchsummary\n",
    "!pip install torchmetrics\n",
    "!pip install scikit-learn"
   ]
  },
  {
   "cell_type": "code",
   "execution_count": 2,
   "metadata": {
    "ExecuteTime": {
     "end_time": "2023-11-07T22:17:47.167206Z",
     "start_time": "2023-11-07T22:17:47.164502Z"
    }
   },
   "outputs": [],
   "source": [
    "# train_filename = \"/kaggle/input/playground-series-s3e24/train.csv\"\n",
    "# test_filename = \"/kaggle/input/playground-series-s3e24/test.csv\"\n",
    "train_filename = \"./train.csv\"\n",
    "test_filename = \"./test.csv\"\n",
    "\n",
    "output_name = \"./answers.csv\""
   ]
  },
  {
   "cell_type": "markdown",
   "metadata": {
    "id": "TK7oX5qdEEYr"
   },
   "source": [
    "\n",
    "# Binary Prediction of Smoker Status using Bio-Signals\n",
    "\n",
    "This notebook contains solution for Binary Prediction of Smoker Status using Bio-Signals competition on Kaggle.com"
   ]
  },
  {
   "cell_type": "markdown",
   "metadata": {
    "id": "IrDNNkNTEEYz"
   },
   "source": [
    "# Part 1. Data analysis"
   ]
  },
  {
   "cell_type": "code",
   "execution_count": 3,
   "metadata": {
    "ExecuteTime": {
     "end_time": "2023-11-07T22:17:49.336724Z",
     "start_time": "2023-11-07T22:17:49.047224Z"
    },
    "id": "lzLqEeZKEEYz"
   },
   "outputs": [],
   "source": [
    "import pandas as pd\n",
    "import numpy as np\n",
    "from matplotlib import pyplot as plt"
   ]
  },
  {
   "cell_type": "markdown",
   "metadata": {
    "id": "LOlxdURSEEY3"
   },
   "source": [
    "## Data downloading\n",
    "\n",
    "1) Lets watch on some dataset rows\n",
    "\n",
    "2) Lets explore if there are NaN or None values"
   ]
  },
  {
   "cell_type": "code",
   "execution_count": 4,
   "metadata": {
    "ExecuteTime": {
     "end_time": "2023-11-07T22:17:50.668560Z",
     "start_time": "2023-11-07T22:17:50.471316Z"
    },
    "colab": {
     "base_uri": "https://localhost:8080/",
     "height": 479
    },
    "executionInfo": {
     "elapsed": 650,
     "status": "ok",
     "timestamp": 1697787833002,
     "user": {
      "displayName": "Степан Карпов",
      "userId": "08179695351102028322"
     },
     "user_tz": -180
    },
    "id": "pw-Brue9EEY3",
    "outputId": "714cb236-860c-46ec-fc2e-47ba43137d4c"
   },
   "outputs": [
    {
     "data": {
      "text/html": [
       "<div>\n",
       "<style scoped>\n",
       "    .dataframe tbody tr th:only-of-type {\n",
       "        vertical-align: middle;\n",
       "    }\n",
       "\n",
       "    .dataframe tbody tr th {\n",
       "        vertical-align: top;\n",
       "    }\n",
       "\n",
       "    .dataframe thead th {\n",
       "        text-align: right;\n",
       "    }\n",
       "</style>\n",
       "<table border=\"1\" class=\"dataframe\">\n",
       "  <thead>\n",
       "    <tr style=\"text-align: right;\">\n",
       "      <th></th>\n",
       "      <th>id</th>\n",
       "      <th>age</th>\n",
       "      <th>height(cm)</th>\n",
       "      <th>weight(kg)</th>\n",
       "      <th>waist(cm)</th>\n",
       "      <th>eyesight(left)</th>\n",
       "      <th>eyesight(right)</th>\n",
       "      <th>hearing(left)</th>\n",
       "      <th>hearing(right)</th>\n",
       "      <th>systolic</th>\n",
       "      <th>...</th>\n",
       "      <th>HDL</th>\n",
       "      <th>LDL</th>\n",
       "      <th>hemoglobin</th>\n",
       "      <th>Urine protein</th>\n",
       "      <th>serum creatinine</th>\n",
       "      <th>AST</th>\n",
       "      <th>ALT</th>\n",
       "      <th>Gtp</th>\n",
       "      <th>dental caries</th>\n",
       "      <th>smoking</th>\n",
       "    </tr>\n",
       "  </thead>\n",
       "  <tbody>\n",
       "    <tr>\n",
       "      <th>0</th>\n",
       "      <td>0</td>\n",
       "      <td>55</td>\n",
       "      <td>165</td>\n",
       "      <td>60</td>\n",
       "      <td>81.0</td>\n",
       "      <td>0.5</td>\n",
       "      <td>0.6</td>\n",
       "      <td>1</td>\n",
       "      <td>1</td>\n",
       "      <td>135</td>\n",
       "      <td>...</td>\n",
       "      <td>40</td>\n",
       "      <td>75</td>\n",
       "      <td>16.5</td>\n",
       "      <td>1</td>\n",
       "      <td>1.0</td>\n",
       "      <td>22</td>\n",
       "      <td>25</td>\n",
       "      <td>27</td>\n",
       "      <td>0</td>\n",
       "      <td>1</td>\n",
       "    </tr>\n",
       "    <tr>\n",
       "      <th>1</th>\n",
       "      <td>1</td>\n",
       "      <td>70</td>\n",
       "      <td>165</td>\n",
       "      <td>65</td>\n",
       "      <td>89.0</td>\n",
       "      <td>0.6</td>\n",
       "      <td>0.7</td>\n",
       "      <td>2</td>\n",
       "      <td>2</td>\n",
       "      <td>146</td>\n",
       "      <td>...</td>\n",
       "      <td>57</td>\n",
       "      <td>126</td>\n",
       "      <td>16.2</td>\n",
       "      <td>1</td>\n",
       "      <td>1.1</td>\n",
       "      <td>27</td>\n",
       "      <td>23</td>\n",
       "      <td>37</td>\n",
       "      <td>1</td>\n",
       "      <td>0</td>\n",
       "    </tr>\n",
       "    <tr>\n",
       "      <th>2</th>\n",
       "      <td>2</td>\n",
       "      <td>20</td>\n",
       "      <td>170</td>\n",
       "      <td>75</td>\n",
       "      <td>81.0</td>\n",
       "      <td>0.4</td>\n",
       "      <td>0.5</td>\n",
       "      <td>1</td>\n",
       "      <td>1</td>\n",
       "      <td>118</td>\n",
       "      <td>...</td>\n",
       "      <td>45</td>\n",
       "      <td>93</td>\n",
       "      <td>17.4</td>\n",
       "      <td>1</td>\n",
       "      <td>0.8</td>\n",
       "      <td>27</td>\n",
       "      <td>31</td>\n",
       "      <td>53</td>\n",
       "      <td>0</td>\n",
       "      <td>1</td>\n",
       "    </tr>\n",
       "    <tr>\n",
       "      <th>3</th>\n",
       "      <td>3</td>\n",
       "      <td>35</td>\n",
       "      <td>180</td>\n",
       "      <td>95</td>\n",
       "      <td>105.0</td>\n",
       "      <td>1.5</td>\n",
       "      <td>1.2</td>\n",
       "      <td>1</td>\n",
       "      <td>1</td>\n",
       "      <td>131</td>\n",
       "      <td>...</td>\n",
       "      <td>38</td>\n",
       "      <td>102</td>\n",
       "      <td>15.9</td>\n",
       "      <td>1</td>\n",
       "      <td>1.0</td>\n",
       "      <td>20</td>\n",
       "      <td>27</td>\n",
       "      <td>30</td>\n",
       "      <td>1</td>\n",
       "      <td>0</td>\n",
       "    </tr>\n",
       "    <tr>\n",
       "      <th>4</th>\n",
       "      <td>4</td>\n",
       "      <td>30</td>\n",
       "      <td>165</td>\n",
       "      <td>60</td>\n",
       "      <td>80.5</td>\n",
       "      <td>1.5</td>\n",
       "      <td>1.0</td>\n",
       "      <td>1</td>\n",
       "      <td>1</td>\n",
       "      <td>121</td>\n",
       "      <td>...</td>\n",
       "      <td>44</td>\n",
       "      <td>93</td>\n",
       "      <td>15.4</td>\n",
       "      <td>1</td>\n",
       "      <td>0.8</td>\n",
       "      <td>19</td>\n",
       "      <td>13</td>\n",
       "      <td>17</td>\n",
       "      <td>0</td>\n",
       "      <td>1</td>\n",
       "    </tr>\n",
       "    <tr>\n",
       "      <th>...</th>\n",
       "      <td>...</td>\n",
       "      <td>...</td>\n",
       "      <td>...</td>\n",
       "      <td>...</td>\n",
       "      <td>...</td>\n",
       "      <td>...</td>\n",
       "      <td>...</td>\n",
       "      <td>...</td>\n",
       "      <td>...</td>\n",
       "      <td>...</td>\n",
       "      <td>...</td>\n",
       "      <td>...</td>\n",
       "      <td>...</td>\n",
       "      <td>...</td>\n",
       "      <td>...</td>\n",
       "      <td>...</td>\n",
       "      <td>...</td>\n",
       "      <td>...</td>\n",
       "      <td>...</td>\n",
       "      <td>...</td>\n",
       "      <td>...</td>\n",
       "    </tr>\n",
       "    <tr>\n",
       "      <th>159251</th>\n",
       "      <td>159251</td>\n",
       "      <td>40</td>\n",
       "      <td>155</td>\n",
       "      <td>45</td>\n",
       "      <td>69.0</td>\n",
       "      <td>1.5</td>\n",
       "      <td>2.0</td>\n",
       "      <td>1</td>\n",
       "      <td>1</td>\n",
       "      <td>127</td>\n",
       "      <td>...</td>\n",
       "      <td>72</td>\n",
       "      <td>159</td>\n",
       "      <td>14.5</td>\n",
       "      <td>1</td>\n",
       "      <td>0.8</td>\n",
       "      <td>25</td>\n",
       "      <td>26</td>\n",
       "      <td>13</td>\n",
       "      <td>0</td>\n",
       "      <td>0</td>\n",
       "    </tr>\n",
       "    <tr>\n",
       "      <th>159252</th>\n",
       "      <td>159252</td>\n",
       "      <td>50</td>\n",
       "      <td>155</td>\n",
       "      <td>75</td>\n",
       "      <td>82.0</td>\n",
       "      <td>1.0</td>\n",
       "      <td>1.0</td>\n",
       "      <td>1</td>\n",
       "      <td>1</td>\n",
       "      <td>120</td>\n",
       "      <td>...</td>\n",
       "      <td>64</td>\n",
       "      <td>108</td>\n",
       "      <td>14.5</td>\n",
       "      <td>1</td>\n",
       "      <td>0.6</td>\n",
       "      <td>21</td>\n",
       "      <td>20</td>\n",
       "      <td>18</td>\n",
       "      <td>0</td>\n",
       "      <td>0</td>\n",
       "    </tr>\n",
       "    <tr>\n",
       "      <th>159253</th>\n",
       "      <td>159253</td>\n",
       "      <td>40</td>\n",
       "      <td>160</td>\n",
       "      <td>50</td>\n",
       "      <td>66.0</td>\n",
       "      <td>1.5</td>\n",
       "      <td>1.0</td>\n",
       "      <td>1</td>\n",
       "      <td>1</td>\n",
       "      <td>114</td>\n",
       "      <td>...</td>\n",
       "      <td>87</td>\n",
       "      <td>93</td>\n",
       "      <td>10.9</td>\n",
       "      <td>1</td>\n",
       "      <td>0.6</td>\n",
       "      <td>15</td>\n",
       "      <td>9</td>\n",
       "      <td>12</td>\n",
       "      <td>0</td>\n",
       "      <td>0</td>\n",
       "    </tr>\n",
       "    <tr>\n",
       "      <th>159254</th>\n",
       "      <td>159254</td>\n",
       "      <td>50</td>\n",
       "      <td>165</td>\n",
       "      <td>75</td>\n",
       "      <td>92.0</td>\n",
       "      <td>1.2</td>\n",
       "      <td>1.0</td>\n",
       "      <td>1</td>\n",
       "      <td>1</td>\n",
       "      <td>121</td>\n",
       "      <td>...</td>\n",
       "      <td>55</td>\n",
       "      <td>80</td>\n",
       "      <td>14.4</td>\n",
       "      <td>1</td>\n",
       "      <td>1.1</td>\n",
       "      <td>22</td>\n",
       "      <td>17</td>\n",
       "      <td>37</td>\n",
       "      <td>0</td>\n",
       "      <td>1</td>\n",
       "    </tr>\n",
       "    <tr>\n",
       "      <th>159255</th>\n",
       "      <td>159255</td>\n",
       "      <td>40</td>\n",
       "      <td>145</td>\n",
       "      <td>45</td>\n",
       "      <td>76.4</td>\n",
       "      <td>1.0</td>\n",
       "      <td>1.2</td>\n",
       "      <td>1</td>\n",
       "      <td>1</td>\n",
       "      <td>125</td>\n",
       "      <td>...</td>\n",
       "      <td>87</td>\n",
       "      <td>81</td>\n",
       "      <td>14.0</td>\n",
       "      <td>1</td>\n",
       "      <td>0.8</td>\n",
       "      <td>21</td>\n",
       "      <td>16</td>\n",
       "      <td>17</td>\n",
       "      <td>0</td>\n",
       "      <td>0</td>\n",
       "    </tr>\n",
       "  </tbody>\n",
       "</table>\n",
       "<p>159256 rows × 24 columns</p>\n",
       "</div>"
      ],
      "text/plain": [
       "            id  age  height(cm)  weight(kg)  waist(cm)  eyesight(left)  \\\n",
       "0            0   55         165          60       81.0             0.5   \n",
       "1            1   70         165          65       89.0             0.6   \n",
       "2            2   20         170          75       81.0             0.4   \n",
       "3            3   35         180          95      105.0             1.5   \n",
       "4            4   30         165          60       80.5             1.5   \n",
       "...        ...  ...         ...         ...        ...             ...   \n",
       "159251  159251   40         155          45       69.0             1.5   \n",
       "159252  159252   50         155          75       82.0             1.0   \n",
       "159253  159253   40         160          50       66.0             1.5   \n",
       "159254  159254   50         165          75       92.0             1.2   \n",
       "159255  159255   40         145          45       76.4             1.0   \n",
       "\n",
       "        eyesight(right)  hearing(left)  hearing(right)  systolic  ...  HDL  \\\n",
       "0                   0.6              1               1       135  ...   40   \n",
       "1                   0.7              2               2       146  ...   57   \n",
       "2                   0.5              1               1       118  ...   45   \n",
       "3                   1.2              1               1       131  ...   38   \n",
       "4                   1.0              1               1       121  ...   44   \n",
       "...                 ...            ...             ...       ...  ...  ...   \n",
       "159251              2.0              1               1       127  ...   72   \n",
       "159252              1.0              1               1       120  ...   64   \n",
       "159253              1.0              1               1       114  ...   87   \n",
       "159254              1.0              1               1       121  ...   55   \n",
       "159255              1.2              1               1       125  ...   87   \n",
       "\n",
       "        LDL  hemoglobin  Urine protein  serum creatinine  AST  ALT  Gtp  \\\n",
       "0        75        16.5              1               1.0   22   25   27   \n",
       "1       126        16.2              1               1.1   27   23   37   \n",
       "2        93        17.4              1               0.8   27   31   53   \n",
       "3       102        15.9              1               1.0   20   27   30   \n",
       "4        93        15.4              1               0.8   19   13   17   \n",
       "...     ...         ...            ...               ...  ...  ...  ...   \n",
       "159251  159        14.5              1               0.8   25   26   13   \n",
       "159252  108        14.5              1               0.6   21   20   18   \n",
       "159253   93        10.9              1               0.6   15    9   12   \n",
       "159254   80        14.4              1               1.1   22   17   37   \n",
       "159255   81        14.0              1               0.8   21   16   17   \n",
       "\n",
       "        dental caries  smoking  \n",
       "0                   0        1  \n",
       "1                   1        0  \n",
       "2                   0        1  \n",
       "3                   1        0  \n",
       "4                   0        1  \n",
       "...               ...      ...  \n",
       "159251              0        0  \n",
       "159252              0        0  \n",
       "159253              0        0  \n",
       "159254              0        1  \n",
       "159255              0        0  \n",
       "\n",
       "[159256 rows x 24 columns]"
      ]
     },
     "execution_count": 4,
     "metadata": {},
     "output_type": "execute_result"
    }
   ],
   "source": [
    "def GetData(filename=train_filename):\n",
    "  return pd.read_csv(filename, low_memory=False)\n",
    "\n",
    "GetData()"
   ]
  },
  {
   "cell_type": "code",
   "execution_count": 5,
   "metadata": {
    "ExecuteTime": {
     "end_time": "2023-11-07T22:17:51.686569Z",
     "start_time": "2023-11-07T22:17:51.544172Z"
    },
    "colab": {
     "base_uri": "https://localhost:8080/"
    },
    "executionInfo": {
     "elapsed": 5,
     "status": "ok",
     "timestamp": 1697787835756,
     "user": {
      "displayName": "Степан Карпов",
      "userId": "08179695351102028322"
     },
     "user_tz": -180
    },
    "id": "0dScIDt9GkBI",
    "outputId": "97102ea0-d9bf-4e88-acb7-7f44c199c74a"
   },
   "outputs": [
    {
     "name": "stdout",
     "output_type": "stream",
     "text": [
      "<class 'pandas.core.frame.DataFrame'>\n",
      "RangeIndex: 159256 entries, 0 to 159255\n",
      "Data columns (total 24 columns):\n",
      " #   Column               Non-Null Count   Dtype  \n",
      "---  ------               --------------   -----  \n",
      " 0   id                   159256 non-null  int64  \n",
      " 1   age                  159256 non-null  int64  \n",
      " 2   height(cm)           159256 non-null  int64  \n",
      " 3   weight(kg)           159256 non-null  int64  \n",
      " 4   waist(cm)            159256 non-null  float64\n",
      " 5   eyesight(left)       159256 non-null  float64\n",
      " 6   eyesight(right)      159256 non-null  float64\n",
      " 7   hearing(left)        159256 non-null  int64  \n",
      " 8   hearing(right)       159256 non-null  int64  \n",
      " 9   systolic             159256 non-null  int64  \n",
      " 10  relaxation           159256 non-null  int64  \n",
      " 11  fasting blood sugar  159256 non-null  int64  \n",
      " 12  Cholesterol          159256 non-null  int64  \n",
      " 13  triglyceride         159256 non-null  int64  \n",
      " 14  HDL                  159256 non-null  int64  \n",
      " 15  LDL                  159256 non-null  int64  \n",
      " 16  hemoglobin           159256 non-null  float64\n",
      " 17  Urine protein        159256 non-null  int64  \n",
      " 18  serum creatinine     159256 non-null  float64\n",
      " 19  AST                  159256 non-null  int64  \n",
      " 20  ALT                  159256 non-null  int64  \n",
      " 21  Gtp                  159256 non-null  int64  \n",
      " 22  dental caries        159256 non-null  int64  \n",
      " 23  smoking              159256 non-null  int64  \n",
      "dtypes: float64(5), int64(19)\n",
      "memory usage: 29.2 MB\n"
     ]
    }
   ],
   "source": [
    "GetData().info()"
   ]
  },
  {
   "cell_type": "code",
   "execution_count": 6,
   "metadata": {
    "ExecuteTime": {
     "end_time": "2023-11-07T22:17:52.812066Z",
     "start_time": "2023-11-07T22:17:52.673376Z"
    }
   },
   "outputs": [
    {
     "data": {
      "text/plain": [
       "['id',\n",
       " 'age',\n",
       " 'height(cm)',\n",
       " 'weight(kg)',\n",
       " 'waist(cm)',\n",
       " 'eyesight(left)',\n",
       " 'eyesight(right)',\n",
       " 'hearing(left)',\n",
       " 'hearing(right)',\n",
       " 'systolic',\n",
       " 'relaxation',\n",
       " 'fasting blood sugar',\n",
       " 'Cholesterol',\n",
       " 'triglyceride',\n",
       " 'HDL',\n",
       " 'LDL',\n",
       " 'hemoglobin',\n",
       " 'Urine protein',\n",
       " 'serum creatinine',\n",
       " 'AST',\n",
       " 'ALT',\n",
       " 'Gtp',\n",
       " 'dental caries',\n",
       " 'smoking']"
      ]
     },
     "execution_count": 6,
     "metadata": {},
     "output_type": "execute_result"
    }
   ],
   "source": [
    "GetData().columns.tolist()"
   ]
  },
  {
   "cell_type": "code",
   "execution_count": 7,
   "metadata": {
    "ExecuteTime": {
     "end_time": "2023-11-07T22:17:53.937270Z",
     "start_time": "2023-11-07T22:17:53.933337Z"
    },
    "id": "KgnkkF5bEEY9"
   },
   "outputs": [],
   "source": [
    "num_cols = ['id',\n",
    " 'age',\n",
    " 'height(cm)',\n",
    " 'weight(kg)',\n",
    " 'waist(cm)',\n",
    " 'eyesight(left)',\n",
    " 'eyesight(right)',\n",
    " 'hearing(left)',\n",
    " 'hearing(right)',\n",
    " 'systolic',\n",
    " 'relaxation',\n",
    " 'fasting blood sugar',\n",
    " 'Cholesterol',\n",
    " 'triglyceride',\n",
    " 'HDL',\n",
    " 'LDL',\n",
    " 'hemoglobin',\n",
    " 'Urine protein',\n",
    " 'serum creatinine',\n",
    " 'AST',\n",
    " 'ALT',\n",
    " 'Gtp',\n",
    " 'dental caries'\n",
    "]\n",
    "\n",
    "cat_cols = [\n",
    "]\n",
    "\n",
    "feature_cols = num_cols + cat_cols\n",
    "target_col = 'smoking'"
   ]
  },
  {
   "cell_type": "code",
   "execution_count": 9,
   "metadata": {
    "ExecuteTime": {
     "end_time": "2023-11-07T22:18:00.825419Z",
     "start_time": "2023-11-07T22:17:59.115029Z"
    },
    "colab": {
     "base_uri": "https://localhost:8080/",
     "height": 224
    },
    "executionInfo": {
     "elapsed": 889,
     "status": "ok",
     "timestamp": 1697787841405,
     "user": {
      "displayName": "Степан Карпов",
      "userId": "08179695351102028322"
     },
     "user_tz": -180
    },
    "id": "tHC6gWabEEZA",
    "outputId": "2fec0005-56a3-423b-83f5-8b86eae1fdd6"
   },
   "outputs": [
    {
     "name": "stdout",
     "output_type": "stream",
     "text": [
      "(159256, 24)\n"
     ]
    },
    {
     "data": {
      "text/html": [
       "<div>\n",
       "<style scoped>\n",
       "    .dataframe tbody tr th:only-of-type {\n",
       "        vertical-align: middle;\n",
       "    }\n",
       "\n",
       "    .dataframe tbody tr th {\n",
       "        vertical-align: top;\n",
       "    }\n",
       "\n",
       "    .dataframe thead th {\n",
       "        text-align: right;\n",
       "    }\n",
       "</style>\n",
       "<table border=\"1\" class=\"dataframe\">\n",
       "  <thead>\n",
       "    <tr style=\"text-align: right;\">\n",
       "      <th></th>\n",
       "      <th>id</th>\n",
       "      <th>age</th>\n",
       "      <th>height(cm)</th>\n",
       "      <th>weight(kg)</th>\n",
       "      <th>waist(cm)</th>\n",
       "      <th>eyesight(left)</th>\n",
       "      <th>eyesight(right)</th>\n",
       "      <th>hearing(left)</th>\n",
       "      <th>hearing(right)</th>\n",
       "      <th>systolic</th>\n",
       "      <th>...</th>\n",
       "      <th>HDL</th>\n",
       "      <th>LDL</th>\n",
       "      <th>hemoglobin</th>\n",
       "      <th>Urine protein</th>\n",
       "      <th>serum creatinine</th>\n",
       "      <th>AST</th>\n",
       "      <th>ALT</th>\n",
       "      <th>Gtp</th>\n",
       "      <th>dental caries</th>\n",
       "      <th>smoking</th>\n",
       "    </tr>\n",
       "  </thead>\n",
       "  <tbody>\n",
       "  </tbody>\n",
       "</table>\n",
       "<p>0 rows × 24 columns</p>\n",
       "</div>"
      ],
      "text/plain": [
       "Empty DataFrame\n",
       "Columns: [id, age, height(cm), weight(kg), waist(cm), eyesight(left), eyesight(right), hearing(left), hearing(right), systolic, relaxation, fasting blood sugar, Cholesterol, triglyceride, HDL, LDL, hemoglobin, Urine protein, serum creatinine, AST, ALT, Gtp, dental caries, smoking]\n",
       "Index: []\n",
       "\n",
       "[0 rows x 24 columns]"
      ]
     },
     "execution_count": 9,
     "metadata": {},
     "output_type": "execute_result"
    }
   ],
   "source": [
    "def has_empty_string(row):\n",
    "    return any(cell == ' ' or cell == '' or cell == np.nan for cell in row)\n",
    "\n",
    "def FindDefectRows(data):\n",
    "    return data.apply(has_empty_string, axis=1)\n",
    "\n",
    "print(GetData().shape)\n",
    "\n",
    "GetData()[FindDefectRows(GetData())]"
   ]
  },
  {
   "cell_type": "code",
   "execution_count": 10,
   "metadata": {
    "ExecuteTime": {
     "end_time": "2023-11-07T22:18:23.153228Z",
     "start_time": "2023-11-07T22:18:22.940201Z"
    },
    "colab": {
     "base_uri": "https://localhost:8080/",
     "height": 497
    },
    "executionInfo": {
     "elapsed": 744,
     "status": "ok",
     "timestamp": 1697787848289,
     "user": {
      "displayName": "Степан Карпов",
      "userId": "08179695351102028322"
     },
     "user_tz": -180
    },
    "id": "j_05zN8FRFAg",
    "outputId": "534c45e4-37cf-4f64-9f24-027d8698c358"
   },
   "outputs": [
    {
     "name": "stdout",
     "output_type": "stream",
     "text": [
      "0 rows were deleted, 159256 remains\n"
     ]
    },
    {
     "data": {
      "text/html": [
       "<div>\n",
       "<style scoped>\n",
       "    .dataframe tbody tr th:only-of-type {\n",
       "        vertical-align: middle;\n",
       "    }\n",
       "\n",
       "    .dataframe tbody tr th {\n",
       "        vertical-align: top;\n",
       "    }\n",
       "\n",
       "    .dataframe thead th {\n",
       "        text-align: right;\n",
       "    }\n",
       "</style>\n",
       "<table border=\"1\" class=\"dataframe\">\n",
       "  <thead>\n",
       "    <tr style=\"text-align: right;\">\n",
       "      <th></th>\n",
       "      <th>id</th>\n",
       "      <th>age</th>\n",
       "      <th>height(cm)</th>\n",
       "      <th>weight(kg)</th>\n",
       "      <th>waist(cm)</th>\n",
       "      <th>eyesight(left)</th>\n",
       "      <th>eyesight(right)</th>\n",
       "      <th>hearing(left)</th>\n",
       "      <th>hearing(right)</th>\n",
       "      <th>systolic</th>\n",
       "      <th>...</th>\n",
       "      <th>HDL</th>\n",
       "      <th>LDL</th>\n",
       "      <th>hemoglobin</th>\n",
       "      <th>Urine protein</th>\n",
       "      <th>serum creatinine</th>\n",
       "      <th>AST</th>\n",
       "      <th>ALT</th>\n",
       "      <th>Gtp</th>\n",
       "      <th>dental caries</th>\n",
       "      <th>smoking</th>\n",
       "    </tr>\n",
       "  </thead>\n",
       "  <tbody>\n",
       "    <tr>\n",
       "      <th>0</th>\n",
       "      <td>0</td>\n",
       "      <td>55</td>\n",
       "      <td>165</td>\n",
       "      <td>60</td>\n",
       "      <td>81.0</td>\n",
       "      <td>0.5</td>\n",
       "      <td>0.6</td>\n",
       "      <td>1</td>\n",
       "      <td>1</td>\n",
       "      <td>135</td>\n",
       "      <td>...</td>\n",
       "      <td>40</td>\n",
       "      <td>75</td>\n",
       "      <td>16.5</td>\n",
       "      <td>1</td>\n",
       "      <td>1.0</td>\n",
       "      <td>22</td>\n",
       "      <td>25</td>\n",
       "      <td>27</td>\n",
       "      <td>0</td>\n",
       "      <td>1</td>\n",
       "    </tr>\n",
       "    <tr>\n",
       "      <th>1</th>\n",
       "      <td>1</td>\n",
       "      <td>70</td>\n",
       "      <td>165</td>\n",
       "      <td>65</td>\n",
       "      <td>89.0</td>\n",
       "      <td>0.6</td>\n",
       "      <td>0.7</td>\n",
       "      <td>2</td>\n",
       "      <td>2</td>\n",
       "      <td>146</td>\n",
       "      <td>...</td>\n",
       "      <td>57</td>\n",
       "      <td>126</td>\n",
       "      <td>16.2</td>\n",
       "      <td>1</td>\n",
       "      <td>1.1</td>\n",
       "      <td>27</td>\n",
       "      <td>23</td>\n",
       "      <td>37</td>\n",
       "      <td>1</td>\n",
       "      <td>0</td>\n",
       "    </tr>\n",
       "    <tr>\n",
       "      <th>2</th>\n",
       "      <td>2</td>\n",
       "      <td>20</td>\n",
       "      <td>170</td>\n",
       "      <td>75</td>\n",
       "      <td>81.0</td>\n",
       "      <td>0.4</td>\n",
       "      <td>0.5</td>\n",
       "      <td>1</td>\n",
       "      <td>1</td>\n",
       "      <td>118</td>\n",
       "      <td>...</td>\n",
       "      <td>45</td>\n",
       "      <td>93</td>\n",
       "      <td>17.4</td>\n",
       "      <td>1</td>\n",
       "      <td>0.8</td>\n",
       "      <td>27</td>\n",
       "      <td>31</td>\n",
       "      <td>53</td>\n",
       "      <td>0</td>\n",
       "      <td>1</td>\n",
       "    </tr>\n",
       "    <tr>\n",
       "      <th>3</th>\n",
       "      <td>3</td>\n",
       "      <td>35</td>\n",
       "      <td>180</td>\n",
       "      <td>95</td>\n",
       "      <td>105.0</td>\n",
       "      <td>1.5</td>\n",
       "      <td>1.2</td>\n",
       "      <td>1</td>\n",
       "      <td>1</td>\n",
       "      <td>131</td>\n",
       "      <td>...</td>\n",
       "      <td>38</td>\n",
       "      <td>102</td>\n",
       "      <td>15.9</td>\n",
       "      <td>1</td>\n",
       "      <td>1.0</td>\n",
       "      <td>20</td>\n",
       "      <td>27</td>\n",
       "      <td>30</td>\n",
       "      <td>1</td>\n",
       "      <td>0</td>\n",
       "    </tr>\n",
       "    <tr>\n",
       "      <th>4</th>\n",
       "      <td>4</td>\n",
       "      <td>30</td>\n",
       "      <td>165</td>\n",
       "      <td>60</td>\n",
       "      <td>80.5</td>\n",
       "      <td>1.5</td>\n",
       "      <td>1.0</td>\n",
       "      <td>1</td>\n",
       "      <td>1</td>\n",
       "      <td>121</td>\n",
       "      <td>...</td>\n",
       "      <td>44</td>\n",
       "      <td>93</td>\n",
       "      <td>15.4</td>\n",
       "      <td>1</td>\n",
       "      <td>0.8</td>\n",
       "      <td>19</td>\n",
       "      <td>13</td>\n",
       "      <td>17</td>\n",
       "      <td>0</td>\n",
       "      <td>1</td>\n",
       "    </tr>\n",
       "    <tr>\n",
       "      <th>...</th>\n",
       "      <td>...</td>\n",
       "      <td>...</td>\n",
       "      <td>...</td>\n",
       "      <td>...</td>\n",
       "      <td>...</td>\n",
       "      <td>...</td>\n",
       "      <td>...</td>\n",
       "      <td>...</td>\n",
       "      <td>...</td>\n",
       "      <td>...</td>\n",
       "      <td>...</td>\n",
       "      <td>...</td>\n",
       "      <td>...</td>\n",
       "      <td>...</td>\n",
       "      <td>...</td>\n",
       "      <td>...</td>\n",
       "      <td>...</td>\n",
       "      <td>...</td>\n",
       "      <td>...</td>\n",
       "      <td>...</td>\n",
       "      <td>...</td>\n",
       "    </tr>\n",
       "    <tr>\n",
       "      <th>159251</th>\n",
       "      <td>159251</td>\n",
       "      <td>40</td>\n",
       "      <td>155</td>\n",
       "      <td>45</td>\n",
       "      <td>69.0</td>\n",
       "      <td>1.5</td>\n",
       "      <td>2.0</td>\n",
       "      <td>1</td>\n",
       "      <td>1</td>\n",
       "      <td>127</td>\n",
       "      <td>...</td>\n",
       "      <td>72</td>\n",
       "      <td>159</td>\n",
       "      <td>14.5</td>\n",
       "      <td>1</td>\n",
       "      <td>0.8</td>\n",
       "      <td>25</td>\n",
       "      <td>26</td>\n",
       "      <td>13</td>\n",
       "      <td>0</td>\n",
       "      <td>0</td>\n",
       "    </tr>\n",
       "    <tr>\n",
       "      <th>159252</th>\n",
       "      <td>159252</td>\n",
       "      <td>50</td>\n",
       "      <td>155</td>\n",
       "      <td>75</td>\n",
       "      <td>82.0</td>\n",
       "      <td>1.0</td>\n",
       "      <td>1.0</td>\n",
       "      <td>1</td>\n",
       "      <td>1</td>\n",
       "      <td>120</td>\n",
       "      <td>...</td>\n",
       "      <td>64</td>\n",
       "      <td>108</td>\n",
       "      <td>14.5</td>\n",
       "      <td>1</td>\n",
       "      <td>0.6</td>\n",
       "      <td>21</td>\n",
       "      <td>20</td>\n",
       "      <td>18</td>\n",
       "      <td>0</td>\n",
       "      <td>0</td>\n",
       "    </tr>\n",
       "    <tr>\n",
       "      <th>159253</th>\n",
       "      <td>159253</td>\n",
       "      <td>40</td>\n",
       "      <td>160</td>\n",
       "      <td>50</td>\n",
       "      <td>66.0</td>\n",
       "      <td>1.5</td>\n",
       "      <td>1.0</td>\n",
       "      <td>1</td>\n",
       "      <td>1</td>\n",
       "      <td>114</td>\n",
       "      <td>...</td>\n",
       "      <td>87</td>\n",
       "      <td>93</td>\n",
       "      <td>10.9</td>\n",
       "      <td>1</td>\n",
       "      <td>0.6</td>\n",
       "      <td>15</td>\n",
       "      <td>9</td>\n",
       "      <td>12</td>\n",
       "      <td>0</td>\n",
       "      <td>0</td>\n",
       "    </tr>\n",
       "    <tr>\n",
       "      <th>159254</th>\n",
       "      <td>159254</td>\n",
       "      <td>50</td>\n",
       "      <td>165</td>\n",
       "      <td>75</td>\n",
       "      <td>92.0</td>\n",
       "      <td>1.2</td>\n",
       "      <td>1.0</td>\n",
       "      <td>1</td>\n",
       "      <td>1</td>\n",
       "      <td>121</td>\n",
       "      <td>...</td>\n",
       "      <td>55</td>\n",
       "      <td>80</td>\n",
       "      <td>14.4</td>\n",
       "      <td>1</td>\n",
       "      <td>1.1</td>\n",
       "      <td>22</td>\n",
       "      <td>17</td>\n",
       "      <td>37</td>\n",
       "      <td>0</td>\n",
       "      <td>1</td>\n",
       "    </tr>\n",
       "    <tr>\n",
       "      <th>159255</th>\n",
       "      <td>159255</td>\n",
       "      <td>40</td>\n",
       "      <td>145</td>\n",
       "      <td>45</td>\n",
       "      <td>76.4</td>\n",
       "      <td>1.0</td>\n",
       "      <td>1.2</td>\n",
       "      <td>1</td>\n",
       "      <td>1</td>\n",
       "      <td>125</td>\n",
       "      <td>...</td>\n",
       "      <td>87</td>\n",
       "      <td>81</td>\n",
       "      <td>14.0</td>\n",
       "      <td>1</td>\n",
       "      <td>0.8</td>\n",
       "      <td>21</td>\n",
       "      <td>16</td>\n",
       "      <td>17</td>\n",
       "      <td>0</td>\n",
       "      <td>0</td>\n",
       "    </tr>\n",
       "  </tbody>\n",
       "</table>\n",
       "<p>159256 rows × 24 columns</p>\n",
       "</div>"
      ],
      "text/plain": [
       "            id  age  height(cm)  weight(kg)  waist(cm)  eyesight(left)  \\\n",
       "0            0   55         165          60       81.0             0.5   \n",
       "1            1   70         165          65       89.0             0.6   \n",
       "2            2   20         170          75       81.0             0.4   \n",
       "3            3   35         180          95      105.0             1.5   \n",
       "4            4   30         165          60       80.5             1.5   \n",
       "...        ...  ...         ...         ...        ...             ...   \n",
       "159251  159251   40         155          45       69.0             1.5   \n",
       "159252  159252   50         155          75       82.0             1.0   \n",
       "159253  159253   40         160          50       66.0             1.5   \n",
       "159254  159254   50         165          75       92.0             1.2   \n",
       "159255  159255   40         145          45       76.4             1.0   \n",
       "\n",
       "        eyesight(right)  hearing(left)  hearing(right)  systolic  ...  HDL  \\\n",
       "0                   0.6              1               1       135  ...   40   \n",
       "1                   0.7              2               2       146  ...   57   \n",
       "2                   0.5              1               1       118  ...   45   \n",
       "3                   1.2              1               1       131  ...   38   \n",
       "4                   1.0              1               1       121  ...   44   \n",
       "...                 ...            ...             ...       ...  ...  ...   \n",
       "159251              2.0              1               1       127  ...   72   \n",
       "159252              1.0              1               1       120  ...   64   \n",
       "159253              1.0              1               1       114  ...   87   \n",
       "159254              1.0              1               1       121  ...   55   \n",
       "159255              1.2              1               1       125  ...   87   \n",
       "\n",
       "        LDL  hemoglobin  Urine protein  serum creatinine  AST  ALT  Gtp  \\\n",
       "0        75        16.5              1               1.0   22   25   27   \n",
       "1       126        16.2              1               1.1   27   23   37   \n",
       "2        93        17.4              1               0.8   27   31   53   \n",
       "3       102        15.9              1               1.0   20   27   30   \n",
       "4        93        15.4              1               0.8   19   13   17   \n",
       "...     ...         ...            ...               ...  ...  ...  ...   \n",
       "159251  159        14.5              1               0.8   25   26   13   \n",
       "159252  108        14.5              1               0.6   21   20   18   \n",
       "159253   93        10.9              1               0.6   15    9   12   \n",
       "159254   80        14.4              1               1.1   22   17   37   \n",
       "159255   81        14.0              1               0.8   21   16   17   \n",
       "\n",
       "        dental caries  smoking  \n",
       "0                   0        1  \n",
       "1                   1        0  \n",
       "2                   0        1  \n",
       "3                   1        0  \n",
       "4                   0        1  \n",
       "...               ...      ...  \n",
       "159251              0        0  \n",
       "159252              0        0  \n",
       "159253              0        0  \n",
       "159254              0        1  \n",
       "159255              0        0  \n",
       "\n",
       "[159256 rows x 24 columns]"
      ]
     },
     "execution_count": 10,
     "metadata": {},
     "output_type": "execute_result"
    }
   ],
   "source": [
    "def DeleteDefectRows(data, delete=True):\n",
    "    old_shape = data.shape[0]\n",
    "    data = data.replace(' ', np.nan)\n",
    "    data = data.replace('', np.nan)\n",
    "\n",
    "    if (not delete):\n",
    "        for column in num_cols:\n",
    "            data[column] = pd.to_numeric(data[column], errors='coerce')\n",
    "            average_value = data[column].mean()\n",
    "            data[column].fillna(average_value, inplace=True)\n",
    "\n",
    "    data = data.dropna()\n",
    "    new_shape = data.shape[0]\n",
    "    delta = old_shape - new_shape\n",
    "    print(delta, 'rows were deleted,', new_shape, 'remains')\n",
    "    return data\n",
    "\n",
    "def GetClearData(filename=train_filename, delete=True):\n",
    "    return DeleteDefectRows(GetData(filename), delete)\n",
    "\n",
    "GetClearData(train_filename, False)"
   ]
  },
  {
   "cell_type": "markdown",
   "metadata": {},
   "source": [
    "As we can see, there are non string or NaN or None values, which is very great and convenient for further analysis!!!"
   ]
  },
  {
   "cell_type": "markdown",
   "metadata": {
    "id": "dK370bPCEEZD"
   },
   "source": [
    "# Part 2. Data Analysis part\n",
    "\n",
    "1) Lets build hystogram for numerical features\n",
    "\n",
    "2) Lets the target variable distribution"
   ]
  },
  {
   "cell_type": "code",
   "execution_count": 11,
   "metadata": {
    "ExecuteTime": {
     "end_time": "2023-11-07T22:18:30.470280Z",
     "start_time": "2023-11-07T22:18:27.903217Z"
    },
    "colab": {
     "base_uri": "https://localhost:8080/",
     "height": 1000
    },
    "executionInfo": {
     "elapsed": 8209,
     "status": "ok",
     "timestamp": 1697722128167,
     "user": {
      "displayName": "Степан Карпов",
      "userId": "08179695351102028322"
     },
     "user_tz": -180
    },
    "id": "Ofud0iUHRw-K",
    "outputId": "54bcf645-e391-4380-ccf8-1609b3ad190c"
   },
   "outputs": [
    {
     "name": "stdout",
     "output_type": "stream",
     "text": [
      "0 rows were deleted, 159256 remains\n"
     ]
    },
    {
     "data": {
      "image/png": "[encoded data removed]",
      "text/plain": [
       "<Figure size 2160x2160 with 24 Axes>"
      ]
     },
     "metadata": {
      "needs_background": "light"
     },
     "output_type": "display_data"
    }
   ],
   "source": [
    "fig, axs = plt.subplots(6, 4, figsize=(30, 30))\n",
    "axs = axs.flatten()\n",
    "fig.tight_layout(pad=3.0)\n",
    "\n",
    "data = GetClearData(train_filename, False)\n",
    "\n",
    "for i, feature_name in enumerate(num_cols):\n",
    "    axs[i].hist(data[feature_name], bins=20, color='blue', alpha=0.7)\n",
    "    axs[i].set_xlabel('Value')\n",
    "    axs[i].set_ylabel('Frequency')\n",
    "    axs[i].set_title(f'Histogram of {feature_name}')\n",
    "    axs[i].grid(True)\n",
    "\n",
    "plt.show()"
   ]
  },
  {
   "cell_type": "code",
   "execution_count": 12,
   "metadata": {
    "ExecuteTime": {
     "end_time": "2023-11-07T22:18:30.738242Z",
     "start_time": "2023-11-07T22:18:30.472043Z"
    }
   },
   "outputs": [
    {
     "name": "stdout",
     "output_type": "stream",
     "text": [
      "0 rows were deleted, 159256 remains\n"
     ]
    },
    {
     "data": {
      "image/png": "[encoded data removed]",
      "text/plain": [
       "<Figure size 432x288 with 1 Axes>"
      ]
     },
     "metadata": {
      "needs_background": "light"
     },
     "output_type": "display_data"
    }
   ],
   "source": [
    "numpy_array = GetClearData(train_filename, False)[target_col].values\n",
    "\n",
    "plt.hist(numpy_array, bins=30)\n",
    "plt.title(\"Distribution of Tensor Values\")\n",
    "plt.xlabel(\"Value\")\n",
    "plt.ylabel(\"Frequency\")\n",
    "plt.show()"
   ]
  },
  {
   "cell_type": "markdown",
   "metadata": {
    "id": "X6uYesb0R04p"
   },
   "source": [
    "As we can see from a previous plot, our class is almost balanced, so lets not further use techniques which we usually use with unbalanced classes"
   ]
  },
  {
   "cell_type": "markdown",
   "metadata": {
    "id": "DviiJd8REEZK"
   },
   "source": [
    "# Part 3. Linear Regression\n",
    "\n",
    "Lets see, how well does linear regression work"
   ]
  },
  {
   "cell_type": "code",
   "execution_count": 13,
   "metadata": {
    "ExecuteTime": {
     "end_time": "2023-11-07T22:18:36.349774Z",
     "start_time": "2023-11-07T22:18:36.087984Z"
    },
    "id": "xHCLDmwqEEZL"
   },
   "outputs": [],
   "source": [
    "from sklearn.linear_model import LogisticRegression, LogisticRegressionCV\n",
    "from sklearn.model_selection import train_test_split, GridSearchCV\n",
    "from sklearn.preprocessing import StandardScaler, RobustScaler, LabelEncoder, OneHotEncoder\n",
    "from sklearn.pipeline import make_pipeline\n",
    "from sklearn.metrics import roc_auc_score"
   ]
  },
  {
   "cell_type": "code",
   "execution_count": 14,
   "metadata": {
    "ExecuteTime": {
     "end_time": "2023-11-07T22:18:53.307228Z",
     "start_time": "2023-11-07T22:18:52.747007Z"
    },
    "colab": {
     "base_uri": "https://localhost:8080/"
    },
    "executionInfo": {
     "elapsed": 704,
     "status": "ok",
     "timestamp": 1697787886894,
     "user": {
      "displayName": "Степан Карпов",
      "userId": "08179695351102028322"
     },
     "user_tz": -180
    },
    "id": "uDqadXKGcuaz",
    "outputId": "1c54f828-c1f0-4e11-fe33-0bf255a3ee87"
   },
   "outputs": [
    {
     "name": "stdout",
     "output_type": "stream",
     "text": [
      "0 rows were deleted, 159256 remains\n"
     ]
    },
    {
     "name": "stderr",
     "output_type": "stream",
     "text": [
      "/home/stepa/.local/lib/python3.6/site-packages/ipykernel_launcher.py:3: SettingWithCopyWarning: \n",
      "A value is trying to be set on a copy of a slice from a DataFrame.\n",
      "Try using .loc[row_indexer,col_indexer] = value instead\n",
      "\n",
      "See the caveats in the documentation: https://pandas.pydata.org/pandas-docs/stable/user_guide/indexing.html#returning-a-view-versus-a-copy\n",
      "  This is separate from the ipykernel package so we can avoid doing imports until\n",
      "/home/stepa/.local/lib/python3.6/site-packages/pandas/core/indexing.py:1734: SettingWithCopyWarning: \n",
      "A value is trying to be set on a copy of a slice from a DataFrame.\n",
      "Try using .loc[row_indexer,col_indexer] = value instead\n",
      "\n",
      "See the caveats in the documentation: https://pandas.pydata.org/pandas-docs/stable/user_guide/indexing.html#returning-a-view-versus-a-copy\n",
      "  isetter(loc, value[:, i].tolist())\n",
      "/home/stepa/.local/lib/python3.6/site-packages/ipykernel_launcher.py:4: SettingWithCopyWarning: \n",
      "A value is trying to be set on a copy of a slice from a DataFrame.\n",
      "Try using .loc[row_indexer,col_indexer] = value instead\n",
      "\n",
      "See the caveats in the documentation: https://pandas.pydata.org/pandas-docs/stable/user_guide/indexing.html#returning-a-view-versus-a-copy\n",
      "  after removing the cwd from sys.path.\n",
      "/home/stepa/.local/lib/python3.6/site-packages/pandas/core/indexing.py:1734: SettingWithCopyWarning: \n",
      "A value is trying to be set on a copy of a slice from a DataFrame.\n",
      "Try using .loc[row_indexer,col_indexer] = value instead\n",
      "\n",
      "See the caveats in the documentation: https://pandas.pydata.org/pandas-docs/stable/user_guide/indexing.html#returning-a-view-versus-a-copy\n",
      "  isetter(loc, value[:, i].tolist())\n"
     ]
    },
    {
     "data": {
      "text/html": [
       "<div>\n",
       "<style scoped>\n",
       "    .dataframe tbody tr th:only-of-type {\n",
       "        vertical-align: middle;\n",
       "    }\n",
       "\n",
       "    .dataframe tbody tr th {\n",
       "        vertical-align: top;\n",
       "    }\n",
       "\n",
       "    .dataframe thead th {\n",
       "        text-align: right;\n",
       "    }\n",
       "</style>\n",
       "<table border=\"1\" class=\"dataframe\">\n",
       "  <thead>\n",
       "    <tr style=\"text-align: right;\">\n",
       "      <th></th>\n",
       "      <th>id</th>\n",
       "      <th>age</th>\n",
       "      <th>height(cm)</th>\n",
       "      <th>weight(kg)</th>\n",
       "      <th>waist(cm)</th>\n",
       "      <th>eyesight(left)</th>\n",
       "      <th>eyesight(right)</th>\n",
       "      <th>hearing(left)</th>\n",
       "      <th>hearing(right)</th>\n",
       "      <th>systolic</th>\n",
       "      <th>...</th>\n",
       "      <th>triglyceride</th>\n",
       "      <th>HDL</th>\n",
       "      <th>LDL</th>\n",
       "      <th>hemoglobin</th>\n",
       "      <th>Urine protein</th>\n",
       "      <th>serum creatinine</th>\n",
       "      <th>AST</th>\n",
       "      <th>ALT</th>\n",
       "      <th>Gtp</th>\n",
       "      <th>dental caries</th>\n",
       "    </tr>\n",
       "  </thead>\n",
       "  <tbody>\n",
       "    <tr>\n",
       "      <th>60700</th>\n",
       "      <td>-0.408001</td>\n",
       "      <td>-0.363764</td>\n",
       "      <td>-1.729695</td>\n",
       "      <td>-1.361653</td>\n",
       "      <td>-0.333247</td>\n",
       "      <td>-1.261648</td>\n",
       "      <td>-1.278404</td>\n",
       "      <td>-0.156031</td>\n",
       "      <td>-0.154653</td>\n",
       "      <td>-0.194342</td>\n",
       "      <td>...</td>\n",
       "      <td>-1.201312</td>\n",
       "      <td>0.296177</td>\n",
       "      <td>-0.197121</td>\n",
       "      <td>-2.090771</td>\n",
       "      <td>-0.213745</td>\n",
       "      <td>-1.626365</td>\n",
       "      <td>-1.190789</td>\n",
       "      <td>-0.851755</td>\n",
       "      <td>-0.871202</td>\n",
       "      <td>-0.497426</td>\n",
       "    </tr>\n",
       "    <tr>\n",
       "      <th>44065</th>\n",
       "      <td>-0.769588</td>\n",
       "      <td>1.750195</td>\n",
       "      <td>-1.729695</td>\n",
       "      <td>-1.361653</td>\n",
       "      <td>-1.563035</td>\n",
       "      <td>-0.762843</td>\n",
       "      <td>-0.002432</td>\n",
       "      <td>-0.156031</td>\n",
       "      <td>-0.154653</td>\n",
       "      <td>1.298727</td>\n",
       "      <td>...</td>\n",
       "      <td>-0.446249</td>\n",
       "      <td>0.797395</td>\n",
       "      <td>0.258438</td>\n",
       "      <td>1.052672</td>\n",
       "      <td>-0.213745</td>\n",
       "      <td>-1.626365</td>\n",
       "      <td>-0.880976</td>\n",
       "      <td>-0.139049</td>\n",
       "      <td>-0.358082</td>\n",
       "      <td>-0.497426</td>\n",
       "    </tr>\n",
       "    <tr>\n",
       "      <th>39538</th>\n",
       "      <td>-0.867989</td>\n",
       "      <td>0.904612</td>\n",
       "      <td>-1.162983</td>\n",
       "      <td>-0.963707</td>\n",
       "      <td>-0.333247</td>\n",
       "      <td>0.484171</td>\n",
       "      <td>0.507957</td>\n",
       "      <td>-0.156031</td>\n",
       "      <td>-0.154653</td>\n",
       "      <td>-1.058751</td>\n",
       "      <td>...</td>\n",
       "      <td>-1.246616</td>\n",
       "      <td>-0.563054</td>\n",
       "      <td>-0.652681</td>\n",
       "      <td>-0.973102</td>\n",
       "      <td>-0.213745</td>\n",
       "      <td>-1.626365</td>\n",
       "      <td>-0.674434</td>\n",
       "      <td>-0.632461</td>\n",
       "      <td>-0.646712</td>\n",
       "      <td>-0.497426</td>\n",
       "    </tr>\n",
       "    <tr>\n",
       "      <th>105427</th>\n",
       "      <td>0.564210</td>\n",
       "      <td>0.904612</td>\n",
       "      <td>-0.596270</td>\n",
       "      <td>-0.565762</td>\n",
       "      <td>0.002149</td>\n",
       "      <td>-0.762843</td>\n",
       "      <td>-0.512820</td>\n",
       "      <td>-0.156031</td>\n",
       "      <td>-0.154653</td>\n",
       "      <td>0.591484</td>\n",
       "      <td>...</td>\n",
       "      <td>-0.672768</td>\n",
       "      <td>-0.133439</td>\n",
       "      <td>1.555031</td>\n",
       "      <td>-0.134851</td>\n",
       "      <td>-0.213745</td>\n",
       "      <td>-1.071018</td>\n",
       "      <td>-1.190789</td>\n",
       "      <td>-0.742108</td>\n",
       "      <td>-0.326012</td>\n",
       "      <td>-0.497426</td>\n",
       "    </tr>\n",
       "    <tr>\n",
       "      <th>148669</th>\n",
       "      <td>1.504141</td>\n",
       "      <td>-1.209348</td>\n",
       "      <td>1.670580</td>\n",
       "      <td>1.821910</td>\n",
       "      <td>1.343736</td>\n",
       "      <td>-0.014635</td>\n",
       "      <td>0.507957</td>\n",
       "      <td>-0.156031</td>\n",
       "      <td>-0.154653</td>\n",
       "      <td>-0.194342</td>\n",
       "      <td>...</td>\n",
       "      <td>-0.159325</td>\n",
       "      <td>-0.133439</td>\n",
       "      <td>-1.003112</td>\n",
       "      <td>-0.693685</td>\n",
       "      <td>-0.213745</td>\n",
       "      <td>0.039675</td>\n",
       "      <td>-0.054807</td>\n",
       "      <td>0.189892</td>\n",
       "      <td>-0.486362</td>\n",
       "      <td>-0.497426</td>\n",
       "    </tr>\n",
       "    <tr>\n",
       "      <th>...</th>\n",
       "      <td>...</td>\n",
       "      <td>...</td>\n",
       "      <td>...</td>\n",
       "      <td>...</td>\n",
       "      <td>...</td>\n",
       "      <td>...</td>\n",
       "      <td>...</td>\n",
       "      <td>...</td>\n",
       "      <td>...</td>\n",
       "      <td>...</td>\n",
       "      <td>...</td>\n",
       "      <td>...</td>\n",
       "      <td>...</td>\n",
       "      <td>...</td>\n",
       "      <td>...</td>\n",
       "      <td>...</td>\n",
       "      <td>...</td>\n",
       "      <td>...</td>\n",
       "      <td>...</td>\n",
       "      <td>...</td>\n",
       "      <td>...</td>\n",
       "    </tr>\n",
       "    <tr>\n",
       "      <th>119879</th>\n",
       "      <td>0.878346</td>\n",
       "      <td>-1.209348</td>\n",
       "      <td>1.670580</td>\n",
       "      <td>1.026020</td>\n",
       "      <td>0.561144</td>\n",
       "      <td>0.484171</td>\n",
       "      <td>0.507957</td>\n",
       "      <td>-0.156031</td>\n",
       "      <td>-0.154653</td>\n",
       "      <td>-0.980168</td>\n",
       "      <td>...</td>\n",
       "      <td>1.154484</td>\n",
       "      <td>-0.992669</td>\n",
       "      <td>0.994342</td>\n",
       "      <td>0.354129</td>\n",
       "      <td>-0.213745</td>\n",
       "      <td>0.595022</td>\n",
       "      <td>1.597530</td>\n",
       "      <td>3.314834</td>\n",
       "      <td>0.924716</td>\n",
       "      <td>-0.497426</td>\n",
       "    </tr>\n",
       "    <tr>\n",
       "      <th>103694</th>\n",
       "      <td>0.526540</td>\n",
       "      <td>-0.363764</td>\n",
       "      <td>-0.029558</td>\n",
       "      <td>-0.167816</td>\n",
       "      <td>-0.445046</td>\n",
       "      <td>1.232379</td>\n",
       "      <td>0.507957</td>\n",
       "      <td>-0.156031</td>\n",
       "      <td>-0.154653</td>\n",
       "      <td>1.613058</td>\n",
       "      <td>...</td>\n",
       "      <td>0.429624</td>\n",
       "      <td>-0.563054</td>\n",
       "      <td>-0.862939</td>\n",
       "      <td>0.773255</td>\n",
       "      <td>-0.213745</td>\n",
       "      <td>0.039675</td>\n",
       "      <td>-0.158078</td>\n",
       "      <td>-0.029402</td>\n",
       "      <td>0.539877</td>\n",
       "      <td>2.010351</td>\n",
       "    </tr>\n",
       "    <tr>\n",
       "      <th>131932</th>\n",
       "      <td>1.140337</td>\n",
       "      <td>0.059028</td>\n",
       "      <td>-0.596270</td>\n",
       "      <td>-0.565762</td>\n",
       "      <td>-0.221448</td>\n",
       "      <td>-0.014635</td>\n",
       "      <td>-0.002432</td>\n",
       "      <td>-0.156031</td>\n",
       "      <td>-0.154653</td>\n",
       "      <td>-1.765994</td>\n",
       "      <td>...</td>\n",
       "      <td>-0.521756</td>\n",
       "      <td>1.298613</td>\n",
       "      <td>-1.423628</td>\n",
       "      <td>-0.693685</td>\n",
       "      <td>-0.213745</td>\n",
       "      <td>-1.626365</td>\n",
       "      <td>-0.467892</td>\n",
       "      <td>-0.742108</td>\n",
       "      <td>-0.710852</td>\n",
       "      <td>-0.497426</td>\n",
       "    </tr>\n",
       "    <tr>\n",
       "      <th>146867</th>\n",
       "      <td>1.464972</td>\n",
       "      <td>1.327404</td>\n",
       "      <td>0.537155</td>\n",
       "      <td>1.423965</td>\n",
       "      <td>1.567333</td>\n",
       "      <td>0.484171</td>\n",
       "      <td>1.273540</td>\n",
       "      <td>-0.156031</td>\n",
       "      <td>-0.154653</td>\n",
       "      <td>0.984397</td>\n",
       "      <td>...</td>\n",
       "      <td>-0.627464</td>\n",
       "      <td>-0.992669</td>\n",
       "      <td>0.048180</td>\n",
       "      <td>0.144566</td>\n",
       "      <td>-0.213745</td>\n",
       "      <td>0.595022</td>\n",
       "      <td>0.771361</td>\n",
       "      <td>1.450834</td>\n",
       "      <td>0.122967</td>\n",
       "      <td>-0.497426</td>\n",
       "    </tr>\n",
       "    <tr>\n",
       "      <th>121958</th>\n",
       "      <td>0.923536</td>\n",
       "      <td>-0.363764</td>\n",
       "      <td>1.103867</td>\n",
       "      <td>1.423965</td>\n",
       "      <td>0.561144</td>\n",
       "      <td>0.484171</td>\n",
       "      <td>-0.002432</td>\n",
       "      <td>-0.156031</td>\n",
       "      <td>-0.154653</td>\n",
       "      <td>-1.765994</td>\n",
       "      <td>...</td>\n",
       "      <td>0.852459</td>\n",
       "      <td>-0.348246</td>\n",
       "      <td>3.307184</td>\n",
       "      <td>0.284275</td>\n",
       "      <td>-0.213745</td>\n",
       "      <td>0.039675</td>\n",
       "      <td>-0.880976</td>\n",
       "      <td>-0.742108</td>\n",
       "      <td>0.604017</td>\n",
       "      <td>-0.497426</td>\n",
       "    </tr>\n",
       "  </tbody>\n",
       "</table>\n",
       "<p>127404 rows × 23 columns</p>\n",
       "</div>"
      ],
      "text/plain": [
       "              id       age  height(cm)  weight(kg)  waist(cm)  eyesight(left)  \\\n",
       "60700  -0.408001 -0.363764   -1.729695   -1.361653  -0.333247       -1.261648   \n",
       "44065  -0.769588  1.750195   -1.729695   -1.361653  -1.563035       -0.762843   \n",
       "39538  -0.867989  0.904612   -1.162983   -0.963707  -0.333247        0.484171   \n",
       "105427  0.564210  0.904612   -0.596270   -0.565762   0.002149       -0.762843   \n",
       "148669  1.504141 -1.209348    1.670580    1.821910   1.343736       -0.014635   \n",
       "...          ...       ...         ...         ...        ...             ...   \n",
       "119879  0.878346 -1.209348    1.670580    1.026020   0.561144        0.484171   \n",
       "103694  0.526540 -0.363764   -0.029558   -0.167816  -0.445046        1.232379   \n",
       "131932  1.140337  0.059028   -0.596270   -0.565762  -0.221448       -0.014635   \n",
       "146867  1.464972  1.327404    0.537155    1.423965   1.567333        0.484171   \n",
       "121958  0.923536 -0.363764    1.103867    1.423965   0.561144        0.484171   \n",
       "\n",
       "        eyesight(right)  hearing(left)  hearing(right)  systolic  ...  \\\n",
       "60700         -1.278404      -0.156031       -0.154653 -0.194342  ...   \n",
       "44065         -0.002432      -0.156031       -0.154653  1.298727  ...   \n",
       "39538          0.507957      -0.156031       -0.154653 -1.058751  ...   \n",
       "105427        -0.512820      -0.156031       -0.154653  0.591484  ...   \n",
       "148669         0.507957      -0.156031       -0.154653 -0.194342  ...   \n",
       "...                 ...            ...             ...       ...  ...   \n",
       "119879         0.507957      -0.156031       -0.154653 -0.980168  ...   \n",
       "103694         0.507957      -0.156031       -0.154653  1.613058  ...   \n",
       "131932        -0.002432      -0.156031       -0.154653 -1.765994  ...   \n",
       "146867         1.273540      -0.156031       -0.154653  0.984397  ...   \n",
       "121958        -0.002432      -0.156031       -0.154653 -1.765994  ...   \n",
       "\n",
       "        triglyceride       HDL       LDL  hemoglobin  Urine protein  \\\n",
       "60700      -1.201312  0.296177 -0.197121   -2.090771      -0.213745   \n",
       "44065      -0.446249  0.797395  0.258438    1.052672      -0.213745   \n",
       "39538      -1.246616 -0.563054 -0.652681   -0.973102      -0.213745   \n",
       "105427     -0.672768 -0.133439  1.555031   -0.134851      -0.213745   \n",
       "148669     -0.159325 -0.133439 -1.003112   -0.693685      -0.213745   \n",
       "...              ...       ...       ...         ...            ...   \n",
       "119879      1.154484 -0.992669  0.994342    0.354129      -0.213745   \n",
       "103694      0.429624 -0.563054 -0.862939    0.773255      -0.213745   \n",
       "131932     -0.521756  1.298613 -1.423628   -0.693685      -0.213745   \n",
       "146867     -0.627464 -0.992669  0.048180    0.144566      -0.213745   \n",
       "121958      0.852459 -0.348246  3.307184    0.284275      -0.213745   \n",
       "\n",
       "        serum creatinine       AST       ALT       Gtp  dental caries  \n",
       "60700          -1.626365 -1.190789 -0.851755 -0.871202      -0.497426  \n",
       "44065          -1.626365 -0.880976 -0.139049 -0.358082      -0.497426  \n",
       "39538          -1.626365 -0.674434 -0.632461 -0.646712      -0.497426  \n",
       "105427         -1.071018 -1.190789 -0.742108 -0.326012      -0.497426  \n",
       "148669          0.039675 -0.054807  0.189892 -0.486362      -0.497426  \n",
       "...                  ...       ...       ...       ...            ...  \n",
       "119879          0.595022  1.597530  3.314834  0.924716      -0.497426  \n",
       "103694          0.039675 -0.158078 -0.029402  0.539877       2.010351  \n",
       "131932         -1.626365 -0.467892 -0.742108 -0.710852      -0.497426  \n",
       "146867          0.595022  0.771361  1.450834  0.122967      -0.497426  \n",
       "121958          0.039675 -0.880976 -0.742108  0.604017      -0.497426  \n",
       "\n",
       "[127404 rows x 23 columns]"
      ]
     },
     "execution_count": 14,
     "metadata": {},
     "output_type": "execute_result"
    }
   ],
   "source": [
    "def Scale(X_train, X_test):\n",
    "    scaler = StandardScaler()\n",
    "    X_train_copy = X_train.copy()\n",
    "    X_test_copy = X_test.copy()\n",
    "    X_train_copy[num_cols] = scaler.fit_transform(X_train_copy[num_cols])\n",
    "    X_test_copy[num_cols] = scaler.transform(X_test_copy[num_cols])\n",
    "    return X_train_copy, X_test_copy\n",
    "\n",
    "def ScaleSingle(X_train):\n",
    "    scaler = StandardScaler()\n",
    "    X_train[num_cols] = scaler.fit_transform(X_train[num_cols])\n",
    "    return X_train\n",
    "\n",
    "def Split(data):\n",
    "    X = data.drop(target_col, axis=1)\n",
    "    y = data[target_col]\n",
    "    return X, y\n",
    "\n",
    "X, y = Split(GetClearData(train_filename, False))\n",
    "X_train, X_test, y_train, y_test = train_test_split(X, y, test_size=0.2, random_state=42)\n",
    "X_train, X_test = Scale(X_train, X_test)\n",
    "X_train"
   ]
  },
  {
   "cell_type": "code",
   "execution_count": 15,
   "metadata": {
    "ExecuteTime": {
     "end_time": "2023-11-07T22:18:59.122438Z",
     "start_time": "2023-11-07T22:18:59.118374Z"
    },
    "colab": {
     "base_uri": "https://localhost:8080/"
    },
    "executionInfo": {
     "elapsed": 2,
     "status": "ok",
     "timestamp": 1697787889325,
     "user": {
      "displayName": "Степан Карпов",
      "userId": "08179695351102028322"
     },
     "user_tz": -180
    },
    "id": "SwNofj03IZy5",
    "outputId": "3612335e-d2d6-4ef0-98f2-09916e73d45a"
   },
   "outputs": [
    {
     "data": {
      "text/plain": [
       "((127404, 23), (127404,), (31852, 23), (31852,))"
      ]
     },
     "execution_count": 15,
     "metadata": {},
     "output_type": "execute_result"
    }
   ],
   "source": [
    "X_train.shape, y_train.shape, X_test.shape, y_test.shape"
   ]
  },
  {
   "cell_type": "code",
   "execution_count": 15,
   "metadata": {
    "ExecuteTime": {
     "end_time": "2023-11-07T19:30:00.536995Z",
     "start_time": "2023-11-07T19:29:53.741042Z"
    },
    "colab": {
     "base_uri": "https://localhost:8080/"
    },
    "executionInfo": {
     "elapsed": 9594,
     "status": "ok",
     "timestamp": 1697747133675,
     "user": {
      "displayName": "Степан Карпов",
      "userId": "08179695351102028322"
     },
     "user_tz": -180
    },
    "id": "_QdnVOnPgqX8",
    "outputId": "81b533b1-2ed4-45a5-debe-5538c5837c50"
   },
   "outputs": [
    {
     "name": "stdout",
     "output_type": "stream",
     "text": [
      "{'C': 100.0}\n"
     ]
    },
    {
     "data": {
      "text/plain": [
       "0.8319381129373031"
      ]
     },
     "execution_count": 15,
     "metadata": {},
     "output_type": "execute_result"
    }
   ],
   "source": [
    "param_grid = {\n",
    "    'C': np.linspace(1, 100, 5),\n",
    "}\n",
    "\n",
    "grid_search = GridSearchCV(LogisticRegression(max_iter=1000),\n",
    "                           param_grid, cv=5,\n",
    "                           scoring='roc_auc')\n",
    "\n",
    "grid_search.fit(X_train, y_train)\n",
    "\n",
    "y_pred = grid_search.predict_proba(X_test)[:, 1]\n",
    "\n",
    "print(grid_search.best_params_)\n",
    "roc_auc_score(pd.DataFrame(y_test).values, pd.DataFrame(y_pred).values)"
   ]
  },
  {
   "cell_type": "code",
   "execution_count": 16,
   "metadata": {
    "ExecuteTime": {
     "end_time": "2023-11-07T19:30:01.246163Z",
     "start_time": "2023-11-07T19:30:00.538833Z"
    },
    "colab": {
     "base_uri": "https://localhost:8080/"
    },
    "executionInfo": {
     "elapsed": 1192,
     "status": "ok",
     "timestamp": 1697722846848,
     "user": {
      "displayName": "Степан Карпов",
      "userId": "08179695351102028322"
     },
     "user_tz": -180
    },
    "id": "9dU4v5c82O7l",
    "outputId": "0399e158-9e53-4c6d-c80f-b924ac32bf07"
   },
   "outputs": [
    {
     "name": "stdout",
     "output_type": "stream",
     "text": [
      "0 rows were deleted, 106171 remains\n"
     ]
    },
    {
     "data": {
      "text/html": [
       "<div>\n",
       "<style scoped>\n",
       "    .dataframe tbody tr th:only-of-type {\n",
       "        vertical-align: middle;\n",
       "    }\n",
       "\n",
       "    .dataframe tbody tr th {\n",
       "        vertical-align: top;\n",
       "    }\n",
       "\n",
       "    .dataframe thead th {\n",
       "        text-align: right;\n",
       "    }\n",
       "</style>\n",
       "<table border=\"1\" class=\"dataframe\">\n",
       "  <thead>\n",
       "    <tr style=\"text-align: right;\">\n",
       "      <th></th>\n",
       "      <th>0</th>\n",
       "    </tr>\n",
       "  </thead>\n",
       "  <tbody>\n",
       "    <tr>\n",
       "      <th>0</th>\n",
       "      <td>0.398327</td>\n",
       "    </tr>\n",
       "    <tr>\n",
       "      <th>1</th>\n",
       "      <td>0.200352</td>\n",
       "    </tr>\n",
       "    <tr>\n",
       "      <th>2</th>\n",
       "      <td>0.641999</td>\n",
       "    </tr>\n",
       "    <tr>\n",
       "      <th>3</th>\n",
       "      <td>0.128431</td>\n",
       "    </tr>\n",
       "    <tr>\n",
       "      <th>4</th>\n",
       "      <td>0.656032</td>\n",
       "    </tr>\n",
       "    <tr>\n",
       "      <th>5</th>\n",
       "      <td>0.784984</td>\n",
       "    </tr>\n",
       "    <tr>\n",
       "      <th>6</th>\n",
       "      <td>0.245661</td>\n",
       "    </tr>\n",
       "    <tr>\n",
       "      <th>7</th>\n",
       "      <td>0.110611</td>\n",
       "    </tr>\n",
       "    <tr>\n",
       "      <th>8</th>\n",
       "      <td>0.125212</td>\n",
       "    </tr>\n",
       "    <tr>\n",
       "      <th>9</th>\n",
       "      <td>0.074698</td>\n",
       "    </tr>\n",
       "    <tr>\n",
       "      <th>10</th>\n",
       "      <td>0.458020</td>\n",
       "    </tr>\n",
       "    <tr>\n",
       "      <th>11</th>\n",
       "      <td>0.140396</td>\n",
       "    </tr>\n",
       "    <tr>\n",
       "      <th>12</th>\n",
       "      <td>0.061125</td>\n",
       "    </tr>\n",
       "    <tr>\n",
       "      <th>13</th>\n",
       "      <td>0.191959</td>\n",
       "    </tr>\n",
       "    <tr>\n",
       "      <th>14</th>\n",
       "      <td>0.016114</td>\n",
       "    </tr>\n",
       "    <tr>\n",
       "      <th>15</th>\n",
       "      <td>0.821269</td>\n",
       "    </tr>\n",
       "    <tr>\n",
       "      <th>16</th>\n",
       "      <td>0.838102</td>\n",
       "    </tr>\n",
       "    <tr>\n",
       "      <th>17</th>\n",
       "      <td>0.906840</td>\n",
       "    </tr>\n",
       "    <tr>\n",
       "      <th>18</th>\n",
       "      <td>0.125837</td>\n",
       "    </tr>\n",
       "    <tr>\n",
       "      <th>19</th>\n",
       "      <td>0.456025</td>\n",
       "    </tr>\n",
       "  </tbody>\n",
       "</table>\n",
       "</div>"
      ],
      "text/plain": [
       "           0\n",
       "0   0.398327\n",
       "1   0.200352\n",
       "2   0.641999\n",
       "3   0.128431\n",
       "4   0.656032\n",
       "5   0.784984\n",
       "6   0.245661\n",
       "7   0.110611\n",
       "8   0.125212\n",
       "9   0.074698\n",
       "10  0.458020\n",
       "11  0.140396\n",
       "12  0.061125\n",
       "13  0.191959\n",
       "14  0.016114\n",
       "15  0.821269\n",
       "16  0.838102\n",
       "17  0.906840\n",
       "18  0.125837\n",
       "19  0.456025"
      ]
     },
     "execution_count": 16,
     "metadata": {},
     "output_type": "execute_result"
    }
   ],
   "source": [
    "clf = LogisticRegression(C=100.0, max_iter=1000)\n",
    "clf.fit(X_train, y_train)\n",
    "\n",
    "\n",
    "test_data = GetClearData(test_filename, False)\n",
    "test_data = ScaleSingle(test_data)\n",
    "\n",
    "final_pred = clf.predict_proba(test_data)\n",
    "final_pred = [pair[1] for pair in final_pred]\n",
    "pd.DataFrame(final_pred).head(20)\n",
    "# df = pd.DataFrame({'id': range(159256, 265426 + 1),\n",
    "#                    'smoking': final_pred})\n",
    "\n",
    "# df.to_csv(output_name, index=False)"
   ]
  },
  {
   "cell_type": "markdown",
   "metadata": {
    "id": "uVahy6JKEEZQ"
   },
   "source": [
    "Using linear regression we were able to achive:\n",
    "\n",
    "roc_auc: 0.83824"
   ]
  },
  {
   "cell_type": "markdown",
   "metadata": {
    "id": "BlTeVy7fEEZR"
   },
   "source": [
    "# Part 4. CatBoost + GridSearchCV\n",
    "\n",
    "Lets see how good gradient boosting completes this task without any data cleaning\n",
    "\n",
    "We will use catboost even though we don't have any categorical features"
   ]
  },
  {
   "cell_type": "code",
   "execution_count": 17,
   "metadata": {
    "ExecuteTime": {
     "end_time": "2023-11-07T19:30:02.288345Z",
     "start_time": "2023-11-07T19:30:01.247421Z"
    },
    "colab": {
     "base_uri": "https://localhost:8080/"
    },
    "executionInfo": {
     "elapsed": 10291,
     "status": "ok",
     "timestamp": 1697747311898,
     "user": {
      "displayName": "Степан Карпов",
      "userId": "08179695351102028322"
     },
     "user_tz": -180
    },
    "id": "tdwCoGXj5MmW",
    "outputId": "e3de619c-3acf-4bae-b77f-a3d3306127c1"
   },
   "outputs": [
    {
     "name": "stdout",
     "output_type": "stream",
     "text": [
      "Defaulting to user installation because normal site-packages is not writeable\n",
      "Requirement already satisfied: catboost in /home/stepa/.local/lib/python3.6/site-packages (1.1.1)\n",
      "Requirement already satisfied: six in /usr/lib/python3/dist-packages (from catboost) (1.11.0)\n",
      "Requirement already satisfied: pandas>=0.24.0 in /home/stepa/.local/lib/python3.6/site-packages (from catboost) (1.1.5)\n",
      "Requirement already satisfied: graphviz in /home/stepa/.local/lib/python3.6/site-packages (from catboost) (0.19.1)\n",
      "Requirement already satisfied: numpy>=1.16.0 in /home/stepa/.local/lib/python3.6/site-packages (from catboost) (1.19.5)\n",
      "Requirement already satisfied: matplotlib in /home/stepa/.local/lib/python3.6/site-packages (from catboost) (3.3.4)\n",
      "Requirement already satisfied: scipy in /home/stepa/.local/lib/python3.6/site-packages (from catboost) (1.5.4)\n",
      "Requirement already satisfied: plotly in /home/stepa/.local/lib/python3.6/site-packages (from catboost) (5.18.0)\n",
      "Requirement already satisfied: python-dateutil>=2.7.3 in /home/stepa/.local/lib/python3.6/site-packages (from pandas>=0.24.0->catboost) (2.8.2)\n",
      "Requirement already satisfied: pytz>=2017.2 in /home/stepa/.local/lib/python3.6/site-packages (from pandas>=0.24.0->catboost) (2023.3.post1)\n",
      "Requirement already satisfied: pyparsing!=2.0.4,!=2.1.2,!=2.1.6,>=2.0.3 in /home/stepa/.local/lib/python3.6/site-packages (from matplotlib->catboost) (3.1.1)\n",
      "Requirement already satisfied: cycler>=0.10 in /home/stepa/.local/lib/python3.6/site-packages (from matplotlib->catboost) (0.11.0)\n",
      "Requirement already satisfied: pillow>=6.2.0 in /home/stepa/.local/lib/python3.6/site-packages (from matplotlib->catboost) (7.2.0)\n",
      "Requirement already satisfied: kiwisolver>=1.0.1 in /home/stepa/.local/lib/python3.6/site-packages (from matplotlib->catboost) (1.3.1)\n",
      "Requirement already satisfied: packaging in /home/stepa/.local/lib/python3.6/site-packages (from plotly->catboost) (21.3)\n",
      "Requirement already satisfied: tenacity>=6.2.0 in /home/stepa/.local/lib/python3.6/site-packages (from plotly->catboost) (8.2.2)\n"
     ]
    }
   ],
   "source": [
    "!pip3 install catboost"
   ]
  },
  {
   "cell_type": "code",
   "execution_count": 97,
   "metadata": {
    "ExecuteTime": {
     "end_time": "2023-11-07T23:19:34.625642Z",
     "start_time": "2023-11-07T23:19:34.605243Z"
    },
    "id": "Fioxxlp-EEZS"
   },
   "outputs": [],
   "source": [
    "import catboost\n",
    "from catboost import CatBoostClassifier, CatBoostRegressor"
   ]
  },
  {
   "cell_type": "code",
   "execution_count": 19,
   "metadata": {
    "ExecuteTime": {
     "end_time": "2023-11-07T19:30:02.535061Z",
     "start_time": "2023-11-07T19:30:02.350775Z"
    },
    "colab": {
     "base_uri": "https://localhost:8080/"
    },
    "executionInfo": {
     "elapsed": 890,
     "status": "ok",
     "timestamp": 1697747315208,
     "user": {
      "displayName": "Степан Карпов",
      "userId": "08179695351102028322"
     },
     "user_tz": -180
    },
    "id": "QwichrV2GaPD",
    "outputId": "33c7cff6-29de-4527-836a-11f70ec56a94"
   },
   "outputs": [
    {
     "name": "stdout",
     "output_type": "stream",
     "text": [
      "0 rows were deleted, 159256 remains\n"
     ]
    }
   ],
   "source": [
    "X, y = Split(GetClearData(train_filename, False))\n",
    "X_train, X_test, y_train, y_test = train_test_split(X, y, test_size=0.2, random_state=42)"
   ]
  },
  {
   "cell_type": "code",
   "execution_count": 20,
   "metadata": {
    "ExecuteTime": {
     "end_time": "2023-11-07T19:30:02.538754Z",
     "start_time": "2023-11-07T19:30:02.536158Z"
    },
    "colab": {
     "base_uri": "https://localhost:8080/"
    },
    "executionInfo": {
     "elapsed": 2,
     "status": "ok",
     "timestamp": 1697747316378,
     "user": {
      "displayName": "Степан Карпов",
      "userId": "08179695351102028322"
     },
     "user_tz": -180
    },
    "id": "mhjDu4iuQ8q2",
    "outputId": "9025672c-edc6-4c9e-cf7b-df5e089ec522"
   },
   "outputs": [
    {
     "data": {
      "text/plain": [
       "((127404, 23), (127404,), (31852, 23), (31852,))"
      ]
     },
     "execution_count": 20,
     "metadata": {},
     "output_type": "execute_result"
    }
   ],
   "source": [
    "X_train.shape, y_train.shape, X_test.shape, y_test.shape"
   ]
  },
  {
   "cell_type": "markdown",
   "metadata": {
    "id": "aWbI5jcUugpK"
   },
   "source": [
    "Lets use GridSearchCV + Catboost to get better parameters for our gradient boosting"
   ]
  },
  {
   "cell_type": "code",
   "execution_count": 21,
   "metadata": {
    "ExecuteTime": {
     "end_time": "2023-11-07T19:30:49.815521Z",
     "start_time": "2023-11-07T19:30:02.539680Z"
    },
    "colab": {
     "base_uri": "https://localhost:8080/"
    },
    "executionInfo": {
     "elapsed": 92897,
     "status": "ok",
     "timestamp": 1697747419909,
     "user": {
      "displayName": "Степан Карпов",
      "userId": "08179695351102028322"
     },
     "user_tz": -180
    },
    "id": "8VIxU4eFufzD",
    "outputId": "7ce8149c-d1a7-4c96-e9d4-1b68a424e1c1"
   },
   "outputs": [
    {
     "name": "stdout",
     "output_type": "stream",
     "text": [
      "0:\ttotal: 56.5ms\tremaining: 3.9s\n",
      "2:\ttotal: 71.2ms\tremaining: 1.59s\n",
      "4:\ttotal: 85.6ms\tremaining: 1.11s\n",
      "6:\ttotal: 99.9ms\tremaining: 899ms\n",
      "8:\ttotal: 115ms\tremaining: 777ms\n",
      "10:\ttotal: 129ms\tremaining: 693ms\n",
      "12:\ttotal: 144ms\tremaining: 633ms\n",
      "14:\ttotal: 160ms\tremaining: 585ms\n",
      "16:\ttotal: 174ms\tremaining: 544ms\n",
      "18:\ttotal: 190ms\tremaining: 510ms\n",
      "20:\ttotal: 205ms\tremaining: 479ms\n",
      "22:\ttotal: 220ms\tremaining: 449ms\n",
      "24:\ttotal: 235ms\tremaining: 422ms\n",
      "26:\ttotal: 248ms\tremaining: 395ms\n",
      "28:\ttotal: 263ms\tremaining: 372ms\n",
      "30:\ttotal: 278ms\tremaining: 349ms\n",
      "32:\ttotal: 292ms\tremaining: 328ms\n",
      "34:\ttotal: 307ms\tremaining: 307ms\n",
      "36:\ttotal: 322ms\tremaining: 287ms\n",
      "38:\ttotal: 336ms\tremaining: 267ms\n",
      "40:\ttotal: 350ms\tremaining: 247ms\n",
      "42:\ttotal: 364ms\tremaining: 229ms\n",
      "44:\ttotal: 379ms\tremaining: 210ms\n",
      "46:\ttotal: 394ms\tremaining: 193ms\n",
      "48:\ttotal: 408ms\tremaining: 175ms\n",
      "50:\ttotal: 422ms\tremaining: 157ms\n",
      "52:\ttotal: 437ms\tremaining: 140ms\n",
      "54:\ttotal: 452ms\tremaining: 123ms\n",
      "56:\ttotal: 467ms\tremaining: 107ms\n",
      "58:\ttotal: 481ms\tremaining: 89.7ms\n",
      "60:\ttotal: 495ms\tremaining: 73.1ms\n",
      "62:\ttotal: 509ms\tremaining: 56.6ms\n",
      "64:\ttotal: 524ms\tremaining: 40.3ms\n",
      "66:\ttotal: 538ms\tremaining: 24.1ms\n",
      "68:\ttotal: 553ms\tremaining: 8.01ms\n",
      "69:\ttotal: 560ms\tremaining: 0us\n",
      "{'depth': 6, 'iterations': 70, 'learning_rate': 0.1}\n"
     ]
    },
    {
     "data": {
      "text/plain": [
       "0.8569365354300692"
      ]
     },
     "execution_count": 21,
     "metadata": {},
     "output_type": "execute_result"
    }
   ],
   "source": [
    "param_grid = {\n",
    "    'iterations': [50, 70],\n",
    "    'depth': [5, 6],\n",
    "    'learning_rate': [0.08, 0.1],\n",
    "}\n",
    "\n",
    "grid_search = GridSearchCV(CatBoostClassifier(verbose=2, eval_metric='AUC', cat_features=cat_cols),\n",
    "                           param_grid, cv=5,\n",
    "                           scoring='roc_auc', n_jobs=-1)\n",
    "\n",
    "grid_search.fit(X_train, y_train)\n",
    "\n",
    "print(grid_search.best_params_)\n",
    "\n",
    "y_pred = grid_search.predict_proba(X_test)[:, 1]\n",
    "roc_auc_score(pd.DataFrame(y_test).values, pd.DataFrame(y_pred).values)"
   ]
  },
  {
   "cell_type": "code",
   "execution_count": 22,
   "metadata": {
    "ExecuteTime": {
     "end_time": "2023-11-07T19:30:54.175820Z",
     "start_time": "2023-11-07T19:30:49.816758Z"
    }
   },
   "outputs": [
    {
     "name": "stdout",
     "output_type": "stream",
     "text": [
      "0 rows were deleted, 159256 remains\n",
      "0 rows were deleted, 106171 remains\n"
     ]
    },
    {
     "data": {
      "text/html": [
       "<div>\n",
       "<style scoped>\n",
       "    .dataframe tbody tr th:only-of-type {\n",
       "        vertical-align: middle;\n",
       "    }\n",
       "\n",
       "    .dataframe tbody tr th {\n",
       "        vertical-align: top;\n",
       "    }\n",
       "\n",
       "    .dataframe thead th {\n",
       "        text-align: right;\n",
       "    }\n",
       "</style>\n",
       "<table border=\"1\" class=\"dataframe\">\n",
       "  <thead>\n",
       "    <tr style=\"text-align: right;\">\n",
       "      <th></th>\n",
       "      <th>0</th>\n",
       "    </tr>\n",
       "  </thead>\n",
       "  <tbody>\n",
       "    <tr>\n",
       "      <th>0</th>\n",
       "      <td>0.537705</td>\n",
       "    </tr>\n",
       "    <tr>\n",
       "      <th>1</th>\n",
       "      <td>0.181015</td>\n",
       "    </tr>\n",
       "    <tr>\n",
       "      <th>2</th>\n",
       "      <td>0.287753</td>\n",
       "    </tr>\n",
       "    <tr>\n",
       "      <th>3</th>\n",
       "      <td>0.023911</td>\n",
       "    </tr>\n",
       "    <tr>\n",
       "      <th>4</th>\n",
       "      <td>0.534587</td>\n",
       "    </tr>\n",
       "    <tr>\n",
       "      <th>5</th>\n",
       "      <td>0.938942</td>\n",
       "    </tr>\n",
       "    <tr>\n",
       "      <th>6</th>\n",
       "      <td>0.446448</td>\n",
       "    </tr>\n",
       "    <tr>\n",
       "      <th>7</th>\n",
       "      <td>0.049100</td>\n",
       "    </tr>\n",
       "    <tr>\n",
       "      <th>8</th>\n",
       "      <td>0.105971</td>\n",
       "    </tr>\n",
       "    <tr>\n",
       "      <th>9</th>\n",
       "      <td>0.045467</td>\n",
       "    </tr>\n",
       "    <tr>\n",
       "      <th>10</th>\n",
       "      <td>0.356752</td>\n",
       "    </tr>\n",
       "    <tr>\n",
       "      <th>11</th>\n",
       "      <td>0.137224</td>\n",
       "    </tr>\n",
       "    <tr>\n",
       "      <th>12</th>\n",
       "      <td>0.003544</td>\n",
       "    </tr>\n",
       "    <tr>\n",
       "      <th>13</th>\n",
       "      <td>0.121516</td>\n",
       "    </tr>\n",
       "    <tr>\n",
       "      <th>14</th>\n",
       "      <td>0.013879</td>\n",
       "    </tr>\n",
       "    <tr>\n",
       "      <th>15</th>\n",
       "      <td>0.610370</td>\n",
       "    </tr>\n",
       "    <tr>\n",
       "      <th>16</th>\n",
       "      <td>0.832321</td>\n",
       "    </tr>\n",
       "    <tr>\n",
       "      <th>17</th>\n",
       "      <td>0.723172</td>\n",
       "    </tr>\n",
       "    <tr>\n",
       "      <th>18</th>\n",
       "      <td>0.085038</td>\n",
       "    </tr>\n",
       "    <tr>\n",
       "      <th>19</th>\n",
       "      <td>0.361324</td>\n",
       "    </tr>\n",
       "  </tbody>\n",
       "</table>\n",
       "</div>"
      ],
      "text/plain": [
       "           0\n",
       "0   0.537705\n",
       "1   0.181015\n",
       "2   0.287753\n",
       "3   0.023911\n",
       "4   0.534587\n",
       "5   0.938942\n",
       "6   0.446448\n",
       "7   0.049100\n",
       "8   0.105971\n",
       "9   0.045467\n",
       "10  0.356752\n",
       "11  0.137224\n",
       "12  0.003544\n",
       "13  0.121516\n",
       "14  0.013879\n",
       "15  0.610370\n",
       "16  0.832321\n",
       "17  0.723172\n",
       "18  0.085038\n",
       "19  0.361324"
      ]
     },
     "execution_count": 22,
     "metadata": {},
     "output_type": "execute_result"
    }
   ],
   "source": [
    "# hyperparameters which were calculated during 1h search with optuna on a local machine\n",
    "best_params = {'iterations': 400, 'depth': 7, 'learning_rate': 0.11}\n",
    "best_model = CatBoostClassifier(**best_params, verbose=0, eval_metric='AUC', cat_features=cat_cols)\n",
    "X, y = Split(GetClearData(train_filename, False))\n",
    "\n",
    "best_model.fit(X, y)\n",
    "\n",
    "test_data = GetClearData(test_filename, False)\n",
    "\n",
    "\n",
    "final_pred = best_model.predict_proba(test_data)\n",
    "final_pred = [pair[1] for pair in final_pred]\n",
    "pd.DataFrame(final_pred).head(20)\n",
    "\n",
    "# df = pd.DataFrame({'id': range(159256, 265426 + 1),\n",
    "#                    'smoking': final_pred})\n",
    "\n",
    "# df.to_csv(output_name, index=False)"
   ]
  },
  {
   "cell_type": "markdown",
   "metadata": {},
   "source": [
    "# Part 5. XGBoost + optuna\n",
    "\n",
    "Lets also test xgboost + optuna combination"
   ]
  },
  {
   "cell_type": "code",
   "execution_count": 23,
   "metadata": {
    "ExecuteTime": {
     "end_time": "2023-11-07T19:30:55.277825Z",
     "start_time": "2023-11-07T19:30:54.176906Z"
    },
    "colab": {
     "base_uri": "https://localhost:8080/"
    },
    "executionInfo": {
     "elapsed": 5992,
     "status": "ok",
     "timestamp": 1697787905899,
     "user": {
      "displayName": "Степан Карпов",
      "userId": "08179695351102028322"
     },
     "user_tz": -180
    },
    "id": "V6O57cCgsiCi",
    "outputId": "a6cffb83-c3e0-4d0b-cfe7-19d9af4fc3e5"
   },
   "outputs": [
    {
     "name": "stdout",
     "output_type": "stream",
     "text": [
      "Defaulting to user installation because normal site-packages is not writeable\n",
      "Requirement already satisfied: optuna in /home/stepa/.local/lib/python3.6/site-packages (3.0.6)\n",
      "Requirement already satisfied: sqlalchemy>=1.3.0 in /home/stepa/.local/lib/python3.6/site-packages (from optuna) (1.4.49)\n",
      "Requirement already satisfied: tqdm in /home/stepa/.local/lib/python3.6/site-packages (from optuna) (4.64.1)\n",
      "Requirement already satisfied: scipy!=1.4.0,<1.9.0 in /home/stepa/.local/lib/python3.6/site-packages (from optuna) (1.5.4)\n",
      "Requirement already satisfied: numpy in /home/stepa/.local/lib/python3.6/site-packages (from optuna) (1.19.5)\n",
      "Requirement already satisfied: cmaes>=0.8.2 in /home/stepa/.local/lib/python3.6/site-packages (from optuna) (0.9.0)\n",
      "Requirement already satisfied: importlib-metadata<5.0.0 in /home/stepa/.local/lib/python3.6/site-packages (from optuna) (4.8.3)\n",
      "Requirement already satisfied: PyYAML in /usr/lib/python3/dist-packages (from optuna) (3.12)\n",
      "Requirement already satisfied: cliff in /home/stepa/.local/lib/python3.6/site-packages (from optuna) (3.10.1)\n",
      "Requirement already satisfied: packaging>=20.0 in /home/stepa/.local/lib/python3.6/site-packages (from optuna) (21.3)\n",
      "Requirement already satisfied: colorlog in /home/stepa/.local/lib/python3.6/site-packages (from optuna) (6.7.0)\n",
      "Requirement already satisfied: alembic>=1.5.0 in /home/stepa/.local/lib/python3.6/site-packages (from optuna) (1.7.7)\n",
      "Requirement already satisfied: importlib-resources in /home/stepa/.local/lib/python3.6/site-packages (from alembic>=1.5.0->optuna) (5.4.0)\n",
      "Requirement already satisfied: Mako in /home/stepa/.local/lib/python3.6/site-packages (from alembic>=1.5.0->optuna) (1.1.6)\n",
      "Requirement already satisfied: zipp>=0.5 in /home/stepa/.local/lib/python3.6/site-packages (from importlib-metadata<5.0.0->optuna) (3.6.0)\n",
      "Requirement already satisfied: typing-extensions>=3.6.4 in /home/stepa/.local/lib/python3.6/site-packages (from importlib-metadata<5.0.0->optuna) (4.1.1)\n",
      "Requirement already satisfied: pyparsing!=3.0.5,>=2.0.2 in /home/stepa/.local/lib/python3.6/site-packages (from packaging>=20.0->optuna) (3.1.1)\n",
      "Requirement already satisfied: greenlet!=0.4.17 in /home/stepa/.local/lib/python3.6/site-packages (from sqlalchemy>=1.3.0->optuna) (2.0.2)\n",
      "Requirement already satisfied: stevedore>=2.0.1 in /home/stepa/.local/lib/python3.6/site-packages (from cliff->optuna) (3.5.2)\n",
      "Requirement already satisfied: autopage>=0.4.0 in /home/stepa/.local/lib/python3.6/site-packages (from cliff->optuna) (0.5.2)\n",
      "Requirement already satisfied: pbr!=2.1.0,>=2.0.0 in /home/stepa/.local/lib/python3.6/site-packages (from cliff->optuna) (5.11.1)\n",
      "Requirement already satisfied: PrettyTable>=0.7.2 in /home/stepa/.local/lib/python3.6/site-packages (from cliff->optuna) (2.5.0)\n",
      "Requirement already satisfied: cmd2>=1.0.0 in /home/stepa/.local/lib/python3.6/site-packages (from cliff->optuna) (2.4.3)\n",
      "Requirement already satisfied: attrs>=16.3.0 in /home/stepa/.local/lib/python3.6/site-packages (from cmd2>=1.0.0->cliff->optuna) (22.2.0)\n",
      "Requirement already satisfied: pyperclip>=1.6 in /home/stepa/.local/lib/python3.6/site-packages (from cmd2>=1.0.0->cliff->optuna) (1.8.2)\n",
      "Requirement already satisfied: wcwidth>=0.1.7 in /home/stepa/.local/lib/python3.6/site-packages (from cmd2>=1.0.0->cliff->optuna) (0.2.8)\n",
      "Requirement already satisfied: MarkupSafe>=0.9.2 in /home/stepa/.local/lib/python3.6/site-packages (from Mako->alembic>=1.5.0->optuna) (2.0.1)\n"
     ]
    }
   ],
   "source": [
    "!pip install optuna"
   ]
  },
  {
   "cell_type": "code",
   "execution_count": 89,
   "metadata": {
    "ExecuteTime": {
     "end_time": "2023-11-07T23:12:31.978805Z",
     "start_time": "2023-11-07T23:12:31.837220Z"
    }
   },
   "outputs": [],
   "source": [
    "import optuna\n",
    "import xgboost as xgb\n",
    "import pandas as pd\n",
    "from sklearn.model_selection import train_test_split\n",
    "from sklearn.metrics import roc_auc_score"
   ]
  },
  {
   "cell_type": "code",
   "execution_count": null,
   "metadata": {
    "ExecuteTime": {
     "end_time": "2023-11-06T15:59:38.660798Z",
     "start_time": "2023-11-06T11:17:12.892798Z"
    },
    "colab": {
     "base_uri": "https://localhost:8080/"
    },
    "executionInfo": {
     "elapsed": 4216983,
     "status": "ok",
     "timestamp": 1697798710598,
     "user": {
      "displayName": "Степан Карпов",
      "userId": "08179695351102028322"
     },
     "user_tz": -180
    },
    "id": "dgy8gsHisfcA",
    "outputId": "70697a43-444e-4259-8417-c546088f241c"
   },
   "outputs": [],
   "source": [
    "def objective(trial):\n",
    "    params = {\n",
    "        \"n_estimators\": trial.suggest_int(\"n_estimators\", 7500, 12000, step=100),\n",
    "        \"max_depth\":trial.suggest_int(\"max_depth\", 4, 10),\n",
    "        \"min_child_weight\": trial.suggest_int(\"min_child_weight\", 7, 8),\n",
    "        \"learning_rate\": trial.suggest_float(\"learning_rate\", 1e-4, 1e-1, log=True),\n",
    "        \"subsample\": trial.suggest_float(\"subsample\", 0.7, 1.0),\n",
    "        \"colsample_bytree\": trial.suggest_float(\"colsample_bytree\", 0.1, 1.0),\n",
    "        \"reg_alpha\": trial.suggest_float(\"reg_alpha\", 1e-2, 10.),\n",
    "        \"reg_lambda\": trial.suggest_float(\"reg_lambda\", 1e-2, 10.),\n",
    "        \"gamma\": trial.suggest_float(\"gamma\", 0.7, 1.0, step=0.1),\n",
    "    }\n",
    "    model = xgb.XGBClassifier(\n",
    "        **params,\n",
    "        n_jobs=-1,\n",
    "        tree_method='hist',\n",
    "        gpu_id=0\n",
    "    )\n",
    "\n",
    "    model.fit(X_train, y_train)\n",
    "    y_pred = model.predict_proba(X_test)[:, 1]\n",
    "    roc_auc = roc_auc_score(y_test, y_pred)\n",
    "\n",
    "    return roc_auc\n",
    "\n",
    "study = optuna.create_study(direction='maximize')\n",
    "study.optimize(objective, n_trials=3)\n",
    "\n",
    "best_params = study.best_params\n",
    "best_roc_auc = study.best_value\n",
    "\n",
    "print(\"Best Hyperparameters:\", best_params)\n",
    "print(\"Best ROC AUC:\", best_roc_auc)\n",
    "\n",
    "# Train a model with the best hyperparameters\n",
    "best_model = xgb.XGBClassifier(**best_params)\n",
    "best_model.fit(X_train, y_train)\n",
    "y_pred = best_model.predict_proba(X_test)[:, 1]\n",
    "final_roc_auc = roc_auc_score(y_test, y_pred)\n",
    "\n",
    "print(\"Final ROC AUC with Best Hyperparameters:\", final_roc_auc)\n"
   ]
  },
  {
   "cell_type": "code",
   "execution_count": null,
   "metadata": {
    "ExecuteTime": {
     "end_time": "2023-11-07T10:33:50.408580Z",
     "start_time": "2023-11-07T10:31:07.006290Z"
    },
    "colab": {
     "base_uri": "https://localhost:8080/"
    },
    "executionInfo": {
     "elapsed": 154312,
     "status": "ok",
     "timestamp": 1697754046572,
     "user": {
      "displayName": "Степан Карпов",
      "userId": "08179695351102028322"
     },
     "user_tz": -180
    },
    "id": "vg5PWPVZAOpe",
    "outputId": "d066f56d-46d0-4c4b-ad84-218a6dd8ac6d"
   },
   "outputs": [],
   "source": [
    "# hyperparameters which were calculated during 5h search with optuna on a local machine\n",
    "best_params = {'n_estimators': 8500, 'max_depth': 6, 'min_child_weight': 7, 'learning_rate': 0.01562020794850652, 'subsample': 0.9936797243169001, 'colsample_bytree': 0.16999716191331965, 'reg_alpha': 3.4576146388015996, 'reg_lambda': 5.597056682360282, 'gamma': 0.8999999999999999}\n",
    "best_model = xgb.XGBClassifier(**best_params)\n",
    "X, y = Split(GetClearData(train_filename, False))\n",
    "\n",
    "best_model.fit(X, y)\n",
    "\n",
    "test_data = GetClearData(test_filename, False)\n",
    "\n",
    "\n",
    "final_pred = best_model.predict_proba(test_data)\n",
    "final_pred = [pair[1] for pair in final_pred]\n",
    "pd.DataFrame(final_pred).head(20)\n",
    "\n",
    "# df = pd.DataFrame({'id': range(159256, 265426 + 1),\n",
    "#                    'smoking': final_pred})\n",
    "\n",
    "# df.to_csv(output_name, index=False)"
   ]
  },
  {
   "cell_type": "markdown",
   "metadata": {},
   "source": [
    "# Part 6. Dense neural network\n",
    "\n",
    "Since our data can not be linearly-classified or solved well by gradient boosting/trees, lets use some neural networks to solve out dataset. Lets try dense neural networks first"
   ]
  },
  {
   "cell_type": "code",
   "execution_count": 73,
   "metadata": {
    "ExecuteTime": {
     "end_time": "2023-11-07T20:19:45.220400Z",
     "start_time": "2023-11-07T20:19:44.883957Z"
    }
   },
   "outputs": [],
   "source": [
    "X, y = Split(GetClearData(train_filename, False))\n",
    "X_train, X_test, y_train, y_test = train_test_split(X, y, test_size=0.2, random_state=42)\n",
    "X_train, X_test = Scale(X_train, X_test)"
   ]
  },
  {
   "cell_type": "code",
   "execution_count": null,
   "metadata": {},
   "outputs": [],
   "source": [
    "import numpy as np\n",
    "import pandas as pd\n",
    "\n",
    "import seaborn as sns\n",
    "from matplotlib import pyplot as plt\n",
    "\n",
    "from sklearn.datasets import make_moons\n",
    "from sklearn.model_selection import train_test_split\n",
    "\n",
    "import torch\n",
    "from torch import nn\n",
    "from torch.nn import functional as F\n",
    "\n",
    "from torch.utils.data import TensorDataset, DataLoader\n",
    "\n",
    "import os\n",
    "from torchvision.datasets import MNIST\n",
    "from torchvision import transforms as tfs\n",
    "from torch.utils.data import Dataset, DataLoader\n",
    "from torchsummary import summary\n",
    "from sklearn.metrics import roc_auc_score\n",
    "\n",
    "sns.set(style=\"darkgrid\", font_scale=1.4)"
   ]
  },
  {
   "cell_type": "markdown",
   "metadata": {},
   "source": [
    "lets see what device are we going to train our network on:"
   ]
  },
  {
   "cell_type": "code",
   "execution_count": null,
   "metadata": {},
   "outputs": [],
   "source": [
    "device = \"cuda\" if torch.cuda.is_available() else \"cpu\"\n",
    "device"
   ]
  },
  {
   "cell_type": "code",
   "execution_count": 67,
   "metadata": {
    "ExecuteTime": {
     "end_time": "2023-11-07T22:51:06.565986Z",
     "start_time": "2023-11-07T22:51:06.544941Z"
    }
   },
   "outputs": [],
   "source": [
    "class CustomDataset(Dataset):\n",
    "    def __init__(self, X, y, has_target: bool):\n",
    "        self.has_target = has_target\n",
    "        self.data_features = pd.DataFrame(X)\n",
    "        self.data_target = pd.DataFrame(y)\n",
    "        print(\"Downloaded dataset with size: \", self.data_features.shape)\n",
    "\n",
    "    def __len__(self):\n",
    "        return len(self.data_features)\n",
    "\n",
    "    def __getitem__(self, idx):\n",
    "        features = torch.tensor(self.data_features.iloc[idx].values, dtype=torch.float32)\n",
    "        if (self.has_target):\n",
    "            target = torch.tensor(self.data_target.iloc[idx].values, dtype=torch.int64)\n",
    "        else:\n",
    "            target = torch.tensor(-1, dtype=torch.int64)\n",
    "\n",
    "        features = features.to(device)\n",
    "        target = target.to(device)\n",
    "        \n",
    "        return features, target\n",
    "\n",
    "class NeuralNetwork:\n",
    "    def __init__(self, num_epochs=10, activation=nn.ELU, criterion=nn.CrossEntropyLoss(), batch_size=128):\n",
    "        self.batch_size = batch_size\n",
    "        self.num_epochs = num_epochs\n",
    "        self.criterion = criterion\n",
    "        self.features = 23  # number of flattened array\n",
    "        self.classes = 2    # number of classes\n",
    "\n",
    "        self.model = nn.Sequential(\n",
    "          nn.Flatten(),\n",
    "          nn.Linear(self.features, 256),\n",
    "          activation(),\n",
    "          nn.Linear(256, 256),\n",
    "          activation(),\n",
    "          nn.Linear(256, 128),\n",
    "          activation(),\n",
    "          nn.Linear(128, self.classes),\n",
    "          # don't need softmax here!\n",
    "        )\n",
    "        \n",
    "    def summary(self):\n",
    "        summary(self.model, (self.features,), batch_size=self.batch_size)\n",
    "        \n",
    "    def fit(self, X_train, y_train, X_test, y_test):\n",
    "        \"\"\"\n",
    "            X_train, X_test should be scaled!!! \n",
    "            X_test used only for roc_auc monitoring\n",
    "        \"\"\"\n",
    "        \n",
    "\n",
    "        train_dataset = CustomDataset(X_train, y_train, True)\n",
    "        test_dataset = CustomDataset(X_test, y_test, True)\n",
    "\n",
    "        train_dataloader = DataLoader(train_dataset, batch_size=self.batch_size, drop_last=True, shuffle=False)\n",
    "        test_dataloader = DataLoader(test_dataset, batch_size=self.batch_size, drop_last=True, shuffle=False)\n",
    "        \n",
    "        print(\"-----DATA SAMPLES:  ---------\")\n",
    "        print(\"------train-----\")\n",
    "        for x, y in train_dataloader:\n",
    "            print(x.shape)\n",
    "            print(x[0])\n",
    "            print(x.dtype)\n",
    "            print(y.dtype)\n",
    "            print(y[0])\n",
    "            break\n",
    "        print(\"------test-----\")\n",
    "        for x, y in test_dataloader:\n",
    "            print(x.shape)\n",
    "            print(x[0])\n",
    "            print(x.dtype)\n",
    "            print(y.dtype)\n",
    "            print(y[0])\n",
    "            break\n",
    "        \n",
    "        print(\"\\n\\n\\n\")\n",
    "        optimizer = torch.optim.Adam(self.model.parameters(), lr=0.001)\n",
    "\n",
    "        loaders = {\"train\": train_dataloader, \"test\": test_dataloader}\n",
    "        accuracy = {\"train\": [], \"test\": []}\n",
    "        for epoch in range(self.num_epochs):\n",
    "            for k, dataloader in loaders.items():\n",
    "                epoch_correct = 0\n",
    "                epoch_all = 0\n",
    "                predictions = []\n",
    "                labels = []\n",
    "                for x_batch, y_batch in dataloader:\n",
    "                    y_batch = y_batch.view(128)\n",
    "                    if k == \"train\":\n",
    "                        self.model.train()\n",
    "                        optimizer.zero_grad()\n",
    "                        outp = self.model(x_batch)\n",
    "                    else:\n",
    "                        self.model.eval()\n",
    "                        with torch.no_grad():\n",
    "                            outp = self.model(x_batch)\n",
    "                    preds = outp.argmax(-1)\n",
    "                    prob = nn.Softmax(dim=1)(outp)\n",
    "                    predictions.extend(prob[:, 1].tolist())\n",
    "                    labels.extend(y_batch.tolist())\n",
    "                    epoch_correct += (preds == y_batch).sum().item()\n",
    "                    epoch_all += self.batch_size\n",
    "                    if k == \"train\":\n",
    "                        loss = self.criterion(outp, y_batch)\n",
    "                        loss.backward()\n",
    "                        optimizer.step()\n",
    "                if k == \"train\":\n",
    "                    print(f\"Epoch: {epoch+1}\")\n",
    "                current_roc_auc = roc_auc_score(labels, predictions)\n",
    "                print(f\"Loader: {k}. Accuracy: {epoch_correct/epoch_all}\")\n",
    "                print(f\"Loader: {k}. roc_auc: {current_roc_auc}\")\n",
    "                accuracy[k].append(current_roc_auc)\n",
    "        return accuracy\n",
    "    \n",
    "    def predict_proba(self, X_test):\n",
    "        test_dataset = CustomDataset(X_test, [], False)\n",
    "        test_dataloader = DataLoader(test_dataset, batch_size=X_test.shape[0], drop_last=True, shuffle=False)\n",
    "        predictions = []\n",
    "        self.model.eval()\n",
    "        for x_batch, y_batch in test_dataloader:\n",
    "            with torch.no_grad():\n",
    "                outp = self.model(x_batch)\n",
    "            prob = nn.Softmax(dim=1)(outp)[:, 1]\n",
    "            predictions.extend(prob.tolist())\n",
    "        return predictions"
   ]
  },
  {
   "cell_type": "code",
   "execution_count": 69,
   "metadata": {
    "ExecuteTime": {
     "end_time": "2023-11-07T22:51:08.244848Z",
     "start_time": "2023-11-07T22:51:08.235324Z"
    }
   },
   "outputs": [
    {
     "name": "stdout",
     "output_type": "stream",
     "text": [
      "----------------------------------------------------------------\n",
      "        Layer (type)               Output Shape         Param #\n",
      "================================================================\n",
      "           Flatten-1                  [128, 23]               0\n",
      "            Linear-2                 [128, 256]           6,144\n",
      "               ELU-3                 [128, 256]               0\n",
      "            Linear-4                 [128, 256]          65,792\n",
      "               ELU-5                 [128, 256]               0\n",
      "            Linear-6                 [128, 128]          32,896\n",
      "               ELU-7                 [128, 128]               0\n",
      "            Linear-8                   [128, 2]             258\n",
      "================================================================\n",
      "Total params: 105,090\n",
      "Trainable params: 105,090\n",
      "Non-trainable params: 0\n",
      "----------------------------------------------------------------\n",
      "Input size (MB): 0.01\n",
      "Forward/backward pass size (MB): 1.27\n",
      "Params size (MB): 0.40\n",
      "Estimated Total Size (MB): 1.69\n",
      "----------------------------------------------------------------\n"
     ]
    }
   ],
   "source": [
    "dense_neural_network_elu = NeuralNetwork(num_epochs=5, activation=nn.ELU, criterion=nn.CrossEntropyLoss(), batch_size=128)\n",
    "dense_neural_network_elu.summary()"
   ]
  },
  {
   "cell_type": "markdown",
   "metadata": {},
   "source": [
    "As we can see from output above, our model consists of ~1e5 neurons, which is optimal number for our types of tasks"
   ]
  },
  {
   "cell_type": "code",
   "execution_count": 70,
   "metadata": {
    "ExecuteTime": {
     "end_time": "2023-11-07T22:51:40.469360Z",
     "start_time": "2023-11-07T22:51:10.616540Z"
    }
   },
   "outputs": [
    {
     "name": "stdout",
     "output_type": "stream",
     "text": [
      "Downloaded dataset with size:  (127404, 23)\n",
      "Downloaded dataset with size:  (31852, 23)\n",
      "Epoch: 1\n",
      "Loader: train. Accuracy: 0.7637170226130653\n",
      "Loader: train. roc_auc: 0.8465326897083711\n",
      "Loader: test. Accuracy: 0.7599546370967742\n",
      "Loader: test. roc_auc: 0.8472279972847494\n"
     ]
    }
   ],
   "source": [
    "roc_auc_elu = dense_neural_network_elu.fit(X_train, y_train, X_test, y_test)"
   ]
  },
  {
   "cell_type": "markdown",
   "metadata": {},
   "source": [
    "Lets see how does dense neural network work with another activation functions"
   ]
  },
  {
   "cell_type": "code",
   "execution_count": 29,
   "metadata": {
    "ExecuteTime": {
     "end_time": "2023-11-07T22:29:00.723139Z",
     "start_time": "2023-11-07T22:29:00.720146Z"
    }
   },
   "outputs": [],
   "source": [
    "class Identical(nn.Module):\n",
    "    def forward(self, x):\n",
    "        return x"
   ]
  },
  {
   "cell_type": "code",
   "execution_count": 34,
   "metadata": {
    "ExecuteTime": {
     "end_time": "2023-11-07T22:38:00.923646Z",
     "start_time": "2023-11-07T22:38:00.920361Z"
    }
   },
   "outputs": [],
   "source": [
    "def test_activation_function(activation):\n",
    "    print(\"Activation function to test: \", activation)\n",
    "    neural_network = NeuralNetwork(num_epochs=5, activation=activation)\n",
    "    return neural_network.fit(X_train, y_train, X_test, y_test)"
   ]
  },
  {
   "cell_type": "code",
   "execution_count": 35,
   "metadata": {
    "ExecuteTime": {
     "end_time": "2023-11-07T22:41:01.201824Z",
     "start_time": "2023-11-07T22:38:02.906630Z"
    }
   },
   "outputs": [
    {
     "name": "stdout",
     "output_type": "stream",
     "text": [
      "Activation function to test:  <class '__main__.Identical'>\n",
      "Downloaded dataset with size:  (127404, 23)\n",
      "Downloaded dataset with size:  (31852, 23)\n",
      "Epoch: 1\n",
      "Loader: train. Accuracy: 0.7467650753768844\n",
      "Loader: train. roc_auc: 0.8311946102282312\n",
      "Loader: test. Accuracy: 0.7448336693548387\n",
      "Loader: test. roc_auc: 0.8309748904665507\n",
      "Epoch: 2\n",
      "Loader: train. Accuracy: 0.7481469849246232\n",
      "Loader: train. roc_auc: 0.8329955013516802\n",
      "Loader: test. Accuracy: 0.7450226814516129\n",
      "Loader: test. roc_auc: 0.8312062801888607\n",
      "Epoch: 3\n",
      "Loader: train. Accuracy: 0.7482569095477387\n",
      "Loader: train. roc_auc: 0.833294582756171\n",
      "Loader: test. Accuracy: 0.745085685483871\n",
      "Loader: test. roc_auc: 0.8314883350810671\n",
      "Activation function to test:  <class 'torch.nn.modules.activation.ELU'>\n",
      "Downloaded dataset with size:  (127404, 23)\n",
      "Downloaded dataset with size:  (31852, 23)\n",
      "Epoch: 1\n",
      "Loader: train. Accuracy: 0.7633951005025126\n",
      "Loader: train. roc_auc: 0.8462375432474392\n",
      "Loader: test. Accuracy: 0.7624432963709677\n",
      "Loader: test. roc_auc: 0.8490319167752913\n",
      "Epoch: 2\n",
      "Loader: train. Accuracy: 0.770595163316583\n",
      "Loader: train. roc_auc: 0.8540266104223645\n",
      "Loader: test. Accuracy: 0.7654044858870968\n",
      "Loader: test. roc_auc: 0.8508423716300836\n",
      "Epoch: 3\n",
      "Loader: train. Accuracy: 0.773186243718593\n",
      "Loader: train. roc_auc: 0.8560936437314174\n",
      "Loader: test. Accuracy: 0.7658455141129032\n",
      "Loader: test. roc_auc: 0.851347387475867\n"
     ]
    }
   ],
   "source": [
    "roc_auc_identical = test_activation_function(Identical)\n",
    "roc_auc_elu = test_activation_function(nn.ELU)\n",
    "roc_auc_relu = test_activation_function(nn.ReLU)\n",
    "roc_auc_leaky_relu = test_activation_function(nn.LeakyReLU)\n",
    "roc_auc_tanh = test_activation_function(nn.Tanh)\n",
    "roc_auc_sigmoid = test_activation_function(nn.Sigmoid)"
   ]
  },
  {
   "cell_type": "code",
   "execution_count": 37,
   "metadata": {
    "ExecuteTime": {
     "end_time": "2023-11-07T22:41:36.476850Z",
     "start_time": "2023-11-07T22:41:36.330564Z"
    }
   },
   "outputs": [
    {
     "data": {
      "image/png": "[encoded data removed]",
      "text/plain": [
       "<Figure size 1152x720 with 1 Axes>"
      ]
     },
     "metadata": {},
     "output_type": "display_data"
    }
   ],
   "source": [
    "sns.set(style=\"darkgrid\", font_scale=1.4)\n",
    "\n",
    "x_size = len(roc_auc_identical['test'])\n",
    "\n",
    "plt.figure(figsize=(16, 10))\n",
    "plt.title(\"Test accuracy\")\n",
    "plt.plot(range(x_size), roc_auc_identical['test'], label=\"No activation\", linewidth=2)\n",
    "plt.plot(range(x_size), roc_auc_elu['test'], label=\"ELU activation\", linewidth=2)\n",
    "plt.plot(range(x_size), roc_auc_relu['test'], label=\"ReLU activation\", linewidth=2)\n",
    "plt.plot(range(x_size), roc_auc_leaky_relu['test'], label=\"LeakyReLU activation\", linewidth=2)\n",
    "plt.plot(range(x_size), roc_auc_tanh['test'], label=\"tanh activation\", linewidth=2)\n",
    "plt.plot(range(x_size), roc_auc_sigmoid['test'], label=\"sigmoid activation\", linewidth=2)\n",
    "plt.legend()\n",
    "plt.xlabel(\"Epoch\")\n",
    "plt.show()"
   ]
  },
  {
   "cell_type": "markdown",
   "metadata": {},
   "source": [
    "\n",
    "As we can see here, ELU function is the most effective one for this task (as it usually is). LeakyReLu and ReLU are less better, tanh subjected to overfitting, sigmoid function shows us low roc auc score, and network with no activation function at all (which is in fact linear regression) has the lowest results"
   ]
  },
  {
   "cell_type": "code",
   "execution_count": 74,
   "metadata": {
    "ExecuteTime": {
     "end_time": "2023-11-07T22:59:56.403022Z",
     "start_time": "2023-11-07T22:59:52.826952Z"
    }
   },
   "outputs": [
    {
     "name": "stdout",
     "output_type": "stream",
     "text": [
      "Downloaded dataset with size:  (31852, 23)\n",
      "ROC_AUC we can achieve using dense neural network:  0.8471181032252066\n"
     ]
    },
    {
     "data": {
      "text/html": [
       "<div>\n",
       "<style scoped>\n",
       "    .dataframe tbody tr th:only-of-type {\n",
       "        vertical-align: middle;\n",
       "    }\n",
       "\n",
       "    .dataframe tbody tr th {\n",
       "        vertical-align: top;\n",
       "    }\n",
       "\n",
       "    .dataframe thead th {\n",
       "        text-align: right;\n",
       "    }\n",
       "</style>\n",
       "<table border=\"1\" class=\"dataframe\">\n",
       "  <thead>\n",
       "    <tr style=\"text-align: right;\">\n",
       "      <th></th>\n",
       "      <th>0</th>\n",
       "    </tr>\n",
       "  </thead>\n",
       "  <tbody>\n",
       "    <tr>\n",
       "      <th>0</th>\n",
       "      <td>0.807385</td>\n",
       "    </tr>\n",
       "    <tr>\n",
       "      <th>1</th>\n",
       "      <td>0.689977</td>\n",
       "    </tr>\n",
       "    <tr>\n",
       "      <th>2</th>\n",
       "      <td>0.744120</td>\n",
       "    </tr>\n",
       "    <tr>\n",
       "      <th>3</th>\n",
       "      <td>0.010447</td>\n",
       "    </tr>\n",
       "    <tr>\n",
       "      <th>4</th>\n",
       "      <td>0.550497</td>\n",
       "    </tr>\n",
       "    <tr>\n",
       "      <th>5</th>\n",
       "      <td>0.388067</td>\n",
       "    </tr>\n",
       "    <tr>\n",
       "      <th>6</th>\n",
       "      <td>0.463060</td>\n",
       "    </tr>\n",
       "    <tr>\n",
       "      <th>7</th>\n",
       "      <td>0.042567</td>\n",
       "    </tr>\n",
       "    <tr>\n",
       "      <th>8</th>\n",
       "      <td>0.858555</td>\n",
       "    </tr>\n",
       "    <tr>\n",
       "      <th>9</th>\n",
       "      <td>0.468414</td>\n",
       "    </tr>\n",
       "  </tbody>\n",
       "</table>\n",
       "</div>"
      ],
      "text/plain": [
       "          0\n",
       "0  0.807385\n",
       "1  0.689977\n",
       "2  0.744120\n",
       "3  0.010447\n",
       "4  0.550497\n",
       "5  0.388067\n",
       "6  0.463060\n",
       "7  0.042567\n",
       "8  0.858555\n",
       "9  0.468414"
      ]
     },
     "execution_count": 74,
     "metadata": {},
     "output_type": "execute_result"
    }
   ],
   "source": [
    "predictions = dense_neural_network_elu.predict_proba(X_test)\n",
    "print(\"ROC_AUC we can achieve using dense neural network: \", roc_auc_score(y_test, predictions))\n",
    "pd.DataFrame(predictions).head(10)"
   ]
  },
  {
   "cell_type": "markdown",
   "metadata": {},
   "source": [
    "# Crossover: Stacking\n",
    "\n",
    "Now, when we have our models trained and analyzed, lets combine them with staking technique. We will create a new dataset and our new features will be models predictions. For staking we will use:\n",
    "\n",
    "1. Linear regression\n",
    "2. Catboost\n",
    "3. XGboost\n",
    "4. Dense neural network\n",
    "5. Ensemble [not ready yet]\n",
    "\n",
    "As a latest models that will work above final predictions-featured dataset will be xgboost"
   ]
  },
  {
   "cell_type": "code",
   "execution_count": 84,
   "metadata": {
    "ExecuteTime": {
     "end_time": "2023-11-07T23:11:54.943399Z",
     "start_time": "2023-11-07T23:11:54.438051Z"
    }
   },
   "outputs": [
    {
     "name": "stdout",
     "output_type": "stream",
     "text": [
      "0 rows were deleted, 159256 remains\n"
     ]
    }
   ],
   "source": [
    "X, y = Split(GetClearData(train_filename, False))\n",
    "X_train, X_test, y_train, y_test = train_test_split(X, y, test_size=0.2, random_state=42)\n",
    "X_train_scaled, X_test_scaled = Scale(X_train, X_test)"
   ]
  },
  {
   "cell_type": "code",
   "execution_count": 203,
   "metadata": {
    "ExecuteTime": {
     "end_time": "2023-11-08T00:04:00.571051Z",
     "start_time": "2023-11-08T00:01:11.885343Z"
    }
   },
   "outputs": [
    {
     "name": "stderr",
     "output_type": "stream",
     "text": [
      "/home/stepa/.local/lib/python3.6/site-packages/xgboost/sklearn.py:1224: UserWarning: The use of label encoder in XGBClassifier is deprecated and will be removed in a future release. To remove this warning, do the following: 1) Pass option use_label_encoder=False when constructing XGBClassifier object; and 2) Encode your labels (y) as integers starting with 0, i.e. 0, 1, 2, ..., [num_class - 1].\n",
      "  warnings.warn(label_encoder_deprecation_msg, UserWarning)\n"
     ]
    },
    {
     "name": "stdout",
     "output_type": "stream",
     "text": [
      "[03:01:11] WARNING: ../src/learner.cc:1115: Starting in XGBoost 1.3.0, the default evaluation metric used with the objective 'binary:logistic' was changed from 'error' to 'logloss'. Explicitly set eval_metric if you'd like to restore the old behavior.\n"
     ]
    },
    {
     "data": {
      "text/plain": [
       "XGBClassifier(base_score=0.5, booster='gbtree', colsample_bylevel=1,\n",
       "              colsample_bynode=1, colsample_bytree=0.16999716191331965,\n",
       "              enable_categorical=False, gamma=0.8999999999999999, gpu_id=-1,\n",
       "              importance_type=None, interaction_constraints='',\n",
       "              learning_rate=0.01562020794850652, max_delta_step=0, max_depth=6,\n",
       "              min_child_weight=7, missing=nan, monotone_constraints='()',\n",
       "              n_estimators=8500, n_jobs=12, num_parallel_tree=1,\n",
       "              predictor='auto', random_state=0, reg_alpha=3.4576146388015996,\n",
       "              reg_lambda=5.597056682360282, scale_pos_weight=1,\n",
       "              subsample=0.9936797243169001, tree_method='exact',\n",
       "              validate_parameters=1, verbosity=None)"
      ]
     },
     "execution_count": 203,
     "metadata": {},
     "output_type": "execute_result"
    }
   ],
   "source": [
    "best_params = {'n_estimators': 8500, 'max_depth': 6, 'min_child_weight': 7, 'learning_rate': 0.01562020794850652, 'subsample': 0.9936797243169001, 'colsample_bytree': 0.16999716191331965, 'reg_alpha': 3.4576146388015996, 'reg_lambda': 5.597056682360282, 'gamma': 0.8999999999999999}\n",
    "xgboost_model = xgb.XGBClassifier(**best_params)\n",
    "xgboost_model.fit(X_train, y_train)"
   ]
  },
  {
   "cell_type": "code",
   "execution_count": 98,
   "metadata": {
    "ExecuteTime": {
     "end_time": "2023-11-07T23:19:48.573583Z",
     "start_time": "2023-11-07T23:19:45.117496Z"
    }
   },
   "outputs": [
    {
     "data": {
      "text/plain": [
       "<catboost.core.CatBoostClassifier at 0x7f94391efa58>"
      ]
     },
     "execution_count": 98,
     "metadata": {},
     "output_type": "execute_result"
    }
   ],
   "source": [
    "best_params = {'iterations': 400, 'depth': 7, 'learning_rate': 0.11}\n",
    "catboost_model = CatBoostClassifier(**best_params, verbose=0, eval_metric='AUC', cat_features=cat_cols)\n",
    "catboost_model.fit(X_train, y_train)"
   ]
  },
  {
   "cell_type": "code",
   "execution_count": 99,
   "metadata": {
    "ExecuteTime": {
     "end_time": "2023-11-07T23:19:57.893150Z",
     "start_time": "2023-11-07T23:19:57.554634Z"
    }
   },
   "outputs": [
    {
     "data": {
      "text/plain": [
       "LogisticRegression(C=100.0, max_iter=1000)"
      ]
     },
     "execution_count": 99,
     "metadata": {},
     "output_type": "execute_result"
    }
   ],
   "source": [
    "linear_regression_model = LogisticRegression(C=100.0, max_iter=1000)\n",
    "linear_regression_model.fit(X_train_scaled, y_train)"
   ]
  },
  {
   "cell_type": "code",
   "execution_count": 100,
   "metadata": {
    "ExecuteTime": {
     "end_time": "2023-11-07T23:20:54.643721Z",
     "start_time": "2023-11-07T23:19:59.879057Z"
    }
   },
   "outputs": [
    {
     "name": "stdout",
     "output_type": "stream",
     "text": [
      "Downloaded dataset with size:  (127404, 23)\n",
      "Downloaded dataset with size:  (127404, 23)\n",
      "Epoch: 1\n",
      "Loader: train. Accuracy: 0.7634814698492463\n",
      "Loader: train. roc_auc: 0.8461391852002075\n",
      "Loader: test. Accuracy: 0.7642509422110553\n",
      "Loader: test. roc_auc: 0.8510683015555877\n"
     ]
    },
    {
     "data": {
      "text/plain": [
       "{'train': [0.8461391852002075], 'test': [0.8510683015555877]}"
      ]
     },
     "execution_count": 100,
     "metadata": {},
     "output_type": "execute_result"
    }
   ],
   "source": [
    "neural_network_model = NeuralNetwork(num_epochs=1)\n",
    "neural_network_model.fit(X_train_scaled, y_train, X_train_scaled, y_train)"
   ]
  },
  {
   "cell_type": "code",
   "execution_count": 164,
   "metadata": {
    "ExecuteTime": {
     "end_time": "2023-11-07T23:32:49.416387Z",
     "start_time": "2023-11-07T23:32:49.411594Z"
    }
   },
   "outputs": [],
   "source": [
    "class Stacking:\n",
    "    def __init__(self, models):\n",
    "        self.models = models\n",
    "    \n",
    "    def predict_proba(self, X_test, X_test_scaled):\n",
    "        predictions = np.array([\n",
    "            self.models[0].predict_proba(X_test)[:, 1],\n",
    "            self.models[1].predict_proba(X_test)[:, 1],\n",
    "            self.models[2].predict_proba(X_test_scaled)[:, 1],\n",
    "            self.models[3].predict_proba(X_test_scaled)\n",
    "        ])\n",
    "        return predictions.T    "
   ]
  },
  {
   "cell_type": "code",
   "execution_count": 165,
   "metadata": {
    "ExecuteTime": {
     "end_time": "2023-11-07T23:32:50.455106Z",
     "start_time": "2023-11-07T23:32:50.452277Z"
    }
   },
   "outputs": [],
   "source": [
    "stacking = Stacking([xgboost_model, catboost_model, linear_regression_model, neural_network_model])"
   ]
  },
  {
   "cell_type": "code",
   "execution_count": 192,
   "metadata": {
    "ExecuteTime": {
     "end_time": "2023-11-07T23:45:45.353112Z",
     "start_time": "2023-11-07T23:45:33.005227Z"
    }
   },
   "outputs": [
    {
     "name": "stdout",
     "output_type": "stream",
     "text": [
      "Downloaded dataset with size:  (127404, 23)\n"
     ]
    },
    {
     "data": {
      "text/html": [
       "<div>\n",
       "<style scoped>\n",
       "    .dataframe tbody tr th:only-of-type {\n",
       "        vertical-align: middle;\n",
       "    }\n",
       "\n",
       "    .dataframe tbody tr th {\n",
       "        vertical-align: top;\n",
       "    }\n",
       "\n",
       "    .dataframe thead th {\n",
       "        text-align: right;\n",
       "    }\n",
       "</style>\n",
       "<table border=\"1\" class=\"dataframe\">\n",
       "  <thead>\n",
       "    <tr style=\"text-align: right;\">\n",
       "      <th></th>\n",
       "      <th>0</th>\n",
       "      <th>1</th>\n",
       "      <th>2</th>\n",
       "      <th>3</th>\n",
       "      <th>0</th>\n",
       "    </tr>\n",
       "  </thead>\n",
       "  <tbody>\n",
       "    <tr>\n",
       "      <th>0</th>\n",
       "      <td>0.002533</td>\n",
       "      <td>0.004998</td>\n",
       "      <td>0.022515</td>\n",
       "      <td>0.002708</td>\n",
       "      <td>0</td>\n",
       "    </tr>\n",
       "    <tr>\n",
       "      <th>1</th>\n",
       "      <td>0.311626</td>\n",
       "      <td>0.168635</td>\n",
       "      <td>0.386511</td>\n",
       "      <td>0.241157</td>\n",
       "      <td>0</td>\n",
       "    </tr>\n",
       "    <tr>\n",
       "      <th>2</th>\n",
       "      <td>0.021685</td>\n",
       "      <td>0.041165</td>\n",
       "      <td>0.095111</td>\n",
       "      <td>0.027860</td>\n",
       "      <td>0</td>\n",
       "    </tr>\n",
       "    <tr>\n",
       "      <th>3</th>\n",
       "      <td>0.120059</td>\n",
       "      <td>0.100922</td>\n",
       "      <td>0.151153</td>\n",
       "      <td>0.099177</td>\n",
       "      <td>0</td>\n",
       "    </tr>\n",
       "    <tr>\n",
       "      <th>4</th>\n",
       "      <td>0.467759</td>\n",
       "      <td>0.461164</td>\n",
       "      <td>0.440781</td>\n",
       "      <td>0.543151</td>\n",
       "      <td>0</td>\n",
       "    </tr>\n",
       "    <tr>\n",
       "      <th>...</th>\n",
       "      <td>...</td>\n",
       "      <td>...</td>\n",
       "      <td>...</td>\n",
       "      <td>...</td>\n",
       "      <td>...</td>\n",
       "    </tr>\n",
       "    <tr>\n",
       "      <th>127399</th>\n",
       "      <td>0.602223</td>\n",
       "      <td>0.596586</td>\n",
       "      <td>0.795645</td>\n",
       "      <td>0.770082</td>\n",
       "      <td>1</td>\n",
       "    </tr>\n",
       "    <tr>\n",
       "      <th>127400</th>\n",
       "      <td>0.910441</td>\n",
       "      <td>0.894664</td>\n",
       "      <td>0.751369</td>\n",
       "      <td>0.831891</td>\n",
       "      <td>1</td>\n",
       "    </tr>\n",
       "    <tr>\n",
       "      <th>127401</th>\n",
       "      <td>0.153114</td>\n",
       "      <td>0.066258</td>\n",
       "      <td>0.161597</td>\n",
       "      <td>0.087234</td>\n",
       "      <td>1</td>\n",
       "    </tr>\n",
       "    <tr>\n",
       "      <th>127402</th>\n",
       "      <td>0.131865</td>\n",
       "      <td>0.184813</td>\n",
       "      <td>0.336948</td>\n",
       "      <td>0.348340</td>\n",
       "      <td>0</td>\n",
       "    </tr>\n",
       "    <tr>\n",
       "      <th>127403</th>\n",
       "      <td>0.892370</td>\n",
       "      <td>0.860268</td>\n",
       "      <td>0.646969</td>\n",
       "      <td>0.760421</td>\n",
       "      <td>1</td>\n",
       "    </tr>\n",
       "  </tbody>\n",
       "</table>\n",
       "<p>127404 rows × 5 columns</p>\n",
       "</div>"
      ],
      "text/plain": [
       "               0         1         2         3  0\n",
       "0       0.002533  0.004998  0.022515  0.002708  0\n",
       "1       0.311626  0.168635  0.386511  0.241157  0\n",
       "2       0.021685  0.041165  0.095111  0.027860  0\n",
       "3       0.120059  0.100922  0.151153  0.099177  0\n",
       "4       0.467759  0.461164  0.440781  0.543151  0\n",
       "...          ...       ...       ...       ... ..\n",
       "127399  0.602223  0.596586  0.795645  0.770082  1\n",
       "127400  0.910441  0.894664  0.751369  0.831891  1\n",
       "127401  0.153114  0.066258  0.161597  0.087234  1\n",
       "127402  0.131865  0.184813  0.336948  0.348340  0\n",
       "127403  0.892370  0.860268  0.646969  0.760421  1\n",
       "\n",
       "[127404 rows x 5 columns]"
      ]
     },
     "execution_count": 192,
     "metadata": {},
     "output_type": "execute_result"
    }
   ],
   "source": [
    "X_train_stacking = stacking.predict_proba(X_train, X_train_scaled)\n",
    "pd.concat([pd.DataFrame(X_train_stacking), pd.DataFrame(y_train.values)], axis=1)"
   ]
  },
  {
   "cell_type": "code",
   "execution_count": 193,
   "metadata": {
    "ExecuteTime": {
     "end_time": "2023-11-07T23:46:30.229654Z",
     "start_time": "2023-11-07T23:46:27.047992Z"
    }
   },
   "outputs": [
    {
     "name": "stdout",
     "output_type": "stream",
     "text": [
      "Downloaded dataset with size:  (31852, 23)\n"
     ]
    },
    {
     "data": {
      "text/html": [
       "<div>\n",
       "<style scoped>\n",
       "    .dataframe tbody tr th:only-of-type {\n",
       "        vertical-align: middle;\n",
       "    }\n",
       "\n",
       "    .dataframe tbody tr th {\n",
       "        vertical-align: top;\n",
       "    }\n",
       "\n",
       "    .dataframe thead th {\n",
       "        text-align: right;\n",
       "    }\n",
       "</style>\n",
       "<table border=\"1\" class=\"dataframe\">\n",
       "  <thead>\n",
       "    <tr style=\"text-align: right;\">\n",
       "      <th></th>\n",
       "      <th>0</th>\n",
       "      <th>1</th>\n",
       "      <th>2</th>\n",
       "      <th>3</th>\n",
       "      <th>0</th>\n",
       "    </tr>\n",
       "  </thead>\n",
       "  <tbody>\n",
       "    <tr>\n",
       "      <th>0</th>\n",
       "      <td>0.840603</td>\n",
       "      <td>0.799814</td>\n",
       "      <td>0.804739</td>\n",
       "      <td>0.797584</td>\n",
       "      <td>1</td>\n",
       "    </tr>\n",
       "    <tr>\n",
       "      <th>1</th>\n",
       "      <td>0.675496</td>\n",
       "      <td>0.689757</td>\n",
       "      <td>0.785354</td>\n",
       "      <td>0.662109</td>\n",
       "      <td>1</td>\n",
       "    </tr>\n",
       "    <tr>\n",
       "      <th>2</th>\n",
       "      <td>0.833149</td>\n",
       "      <td>0.816122</td>\n",
       "      <td>0.664514</td>\n",
       "      <td>0.740615</td>\n",
       "      <td>1</td>\n",
       "    </tr>\n",
       "    <tr>\n",
       "      <th>3</th>\n",
       "      <td>0.002876</td>\n",
       "      <td>0.003098</td>\n",
       "      <td>0.033306</td>\n",
       "      <td>0.011139</td>\n",
       "      <td>0</td>\n",
       "    </tr>\n",
       "    <tr>\n",
       "      <th>4</th>\n",
       "      <td>0.422784</td>\n",
       "      <td>0.464227</td>\n",
       "      <td>0.522218</td>\n",
       "      <td>0.535242</td>\n",
       "      <td>0</td>\n",
       "    </tr>\n",
       "    <tr>\n",
       "      <th>...</th>\n",
       "      <td>...</td>\n",
       "      <td>...</td>\n",
       "      <td>...</td>\n",
       "      <td>...</td>\n",
       "      <td>...</td>\n",
       "    </tr>\n",
       "    <tr>\n",
       "      <th>31847</th>\n",
       "      <td>0.372751</td>\n",
       "      <td>0.455722</td>\n",
       "      <td>0.292447</td>\n",
       "      <td>0.368938</td>\n",
       "      <td>1</td>\n",
       "    </tr>\n",
       "    <tr>\n",
       "      <th>31848</th>\n",
       "      <td>0.018608</td>\n",
       "      <td>0.024139</td>\n",
       "      <td>0.083369</td>\n",
       "      <td>0.024184</td>\n",
       "      <td>0</td>\n",
       "    </tr>\n",
       "    <tr>\n",
       "      <th>31849</th>\n",
       "      <td>0.861131</td>\n",
       "      <td>0.821864</td>\n",
       "      <td>0.925362</td>\n",
       "      <td>0.811740</td>\n",
       "      <td>1</td>\n",
       "    </tr>\n",
       "    <tr>\n",
       "      <th>31850</th>\n",
       "      <td>0.709787</td>\n",
       "      <td>0.770438</td>\n",
       "      <td>0.481655</td>\n",
       "      <td>0.671952</td>\n",
       "      <td>0</td>\n",
       "    </tr>\n",
       "    <tr>\n",
       "      <th>31851</th>\n",
       "      <td>0.523955</td>\n",
       "      <td>0.502891</td>\n",
       "      <td>0.582857</td>\n",
       "      <td>0.569159</td>\n",
       "      <td>1</td>\n",
       "    </tr>\n",
       "  </tbody>\n",
       "</table>\n",
       "<p>31852 rows × 5 columns</p>\n",
       "</div>"
      ],
      "text/plain": [
       "              0         1         2         3  0\n",
       "0      0.840603  0.799814  0.804739  0.797584  1\n",
       "1      0.675496  0.689757  0.785354  0.662109  1\n",
       "2      0.833149  0.816122  0.664514  0.740615  1\n",
       "3      0.002876  0.003098  0.033306  0.011139  0\n",
       "4      0.422784  0.464227  0.522218  0.535242  0\n",
       "...         ...       ...       ...       ... ..\n",
       "31847  0.372751  0.455722  0.292447  0.368938  1\n",
       "31848  0.018608  0.024139  0.083369  0.024184  0\n",
       "31849  0.861131  0.821864  0.925362  0.811740  1\n",
       "31850  0.709787  0.770438  0.481655  0.671952  0\n",
       "31851  0.523955  0.502891  0.582857  0.569159  1\n",
       "\n",
       "[31852 rows x 5 columns]"
      ]
     },
     "execution_count": 193,
     "metadata": {},
     "output_type": "execute_result"
    }
   ],
   "source": [
    "X_test_stacking = stacking.predict_proba(X_test, X_test_scaled)\n",
    "pd.concat([pd.DataFrame(X_test_stacking), pd.DataFrame(y_test.values)], axis=1)"
   ]
  },
  {
   "cell_type": "code",
   "execution_count": 194,
   "metadata": {
    "ExecuteTime": {
     "end_time": "2023-11-07T23:57:53.085289Z",
     "start_time": "2023-11-07T23:54:11.666766Z"
    }
   },
   "outputs": [
    {
     "name": "stderr",
     "output_type": "stream",
     "text": [
      "/home/stepa/.local/lib/python3.6/site-packages/xgboost/sklearn.py:1224: UserWarning: The use of label encoder in XGBClassifier is deprecated and will be removed in a future release. To remove this warning, do the following: 1) Pass option use_label_encoder=False when constructing XGBClassifier object; and 2) Encode your labels (y) as integers starting with 0, i.e. 0, 1, 2, ..., [num_class - 1].\n",
      "  warnings.warn(label_encoder_deprecation_msg, UserWarning)\n"
     ]
    },
    {
     "name": "stdout",
     "output_type": "stream",
     "text": [
      "[02:54:11] WARNING: ../src/learner.cc:1115: Starting in XGBoost 1.3.0, the default evaluation metric used with the objective 'binary:logistic' was changed from 'error' to 'logloss'. Explicitly set eval_metric if you'd like to restore the old behavior.\n"
     ]
    },
    {
     "data": {
      "text/plain": [
       "XGBClassifier(base_score=0.5, booster='gbtree', colsample_bylevel=1,\n",
       "              colsample_bynode=1, colsample_bytree=0.16999716191331965,\n",
       "              enable_categorical=False, gamma=0.8999999999999999, gpu_id=-1,\n",
       "              importance_type=None, interaction_constraints='',\n",
       "              learning_rate=0.01562020794850652, max_delta_step=0, max_depth=6,\n",
       "              min_child_weight=7, missing=nan, monotone_constraints='()',\n",
       "              n_estimators=8500, n_jobs=12, num_parallel_tree=1,\n",
       "              predictor='auto', random_state=0, reg_alpha=3.4576146388015996,\n",
       "              reg_lambda=5.597056682360282, scale_pos_weight=1,\n",
       "              subsample=0.9936797243169001, tree_method='exact',\n",
       "              validate_parameters=1, verbosity=None)"
      ]
     },
     "execution_count": 194,
     "metadata": {},
     "output_type": "execute_result"
    }
   ],
   "source": [
    "best_params = {'n_estimators': 8500, 'max_depth': 6, 'min_child_weight': 7, 'learning_rate': 0.01562020794850652, 'subsample': 0.9936797243169001, 'colsample_bytree': 0.16999716191331965, 'reg_alpha': 3.4576146388015996, 'reg_lambda': 5.597056682360282, 'gamma': 0.8999999999999999}\n",
    "final_xgboost_model = xgb.XGBClassifier(**best_params)\n",
    "final_xgboost_model.fit(X_train_stacking, y_train)"
   ]
  },
  {
   "cell_type": "code",
   "execution_count": 198,
   "metadata": {
    "ExecuteTime": {
     "end_time": "2023-11-07T23:58:41.770293Z",
     "start_time": "2023-11-07T23:58:41.250774Z"
    }
   },
   "outputs": [
    {
     "data": {
      "text/html": [
       "<div>\n",
       "<style scoped>\n",
       "    .dataframe tbody tr th:only-of-type {\n",
       "        vertical-align: middle;\n",
       "    }\n",
       "\n",
       "    .dataframe tbody tr th {\n",
       "        vertical-align: top;\n",
       "    }\n",
       "\n",
       "    .dataframe thead th {\n",
       "        text-align: right;\n",
       "    }\n",
       "</style>\n",
       "<table border=\"1\" class=\"dataframe\">\n",
       "  <thead>\n",
       "    <tr style=\"text-align: right;\">\n",
       "      <th></th>\n",
       "      <th>0</th>\n",
       "    </tr>\n",
       "  </thead>\n",
       "  <tbody>\n",
       "    <tr>\n",
       "      <th>0</th>\n",
       "      <td>0.835104</td>\n",
       "    </tr>\n",
       "    <tr>\n",
       "      <th>1</th>\n",
       "      <td>0.699046</td>\n",
       "    </tr>\n",
       "    <tr>\n",
       "      <th>2</th>\n",
       "      <td>0.919914</td>\n",
       "    </tr>\n",
       "    <tr>\n",
       "      <th>3</th>\n",
       "      <td>0.000604</td>\n",
       "    </tr>\n",
       "    <tr>\n",
       "      <th>4</th>\n",
       "      <td>0.338299</td>\n",
       "    </tr>\n",
       "    <tr>\n",
       "      <th>...</th>\n",
       "      <td>...</td>\n",
       "    </tr>\n",
       "    <tr>\n",
       "      <th>31847</th>\n",
       "      <td>0.430402</td>\n",
       "    </tr>\n",
       "    <tr>\n",
       "      <th>31848</th>\n",
       "      <td>0.009990</td>\n",
       "    </tr>\n",
       "    <tr>\n",
       "      <th>31849</th>\n",
       "      <td>0.912163</td>\n",
       "    </tr>\n",
       "    <tr>\n",
       "      <th>31850</th>\n",
       "      <td>0.824191</td>\n",
       "    </tr>\n",
       "    <tr>\n",
       "      <th>31851</th>\n",
       "      <td>0.555589</td>\n",
       "    </tr>\n",
       "  </tbody>\n",
       "</table>\n",
       "<p>31852 rows × 1 columns</p>\n",
       "</div>"
      ],
      "text/plain": [
       "              0\n",
       "0      0.835104\n",
       "1      0.699046\n",
       "2      0.919914\n",
       "3      0.000604\n",
       "4      0.338299\n",
       "...         ...\n",
       "31847  0.430402\n",
       "31848  0.009990\n",
       "31849  0.912163\n",
       "31850  0.824191\n",
       "31851  0.555589\n",
       "\n",
       "[31852 rows x 1 columns]"
      ]
     },
     "execution_count": 198,
     "metadata": {},
     "output_type": "execute_result"
    }
   ],
   "source": [
    "preds = xgboost_model.predict_proba(X_test_stacking)[:, 1]\n",
    "\n",
    "pd.DataFrame(preds)"
   ]
  },
  {
   "cell_type": "code",
   "execution_count": 200,
   "metadata": {
    "ExecuteTime": {
     "end_time": "2023-11-07T23:58:57.600707Z",
     "start_time": "2023-11-07T23:58:57.587058Z"
    }
   },
   "outputs": [
    {
     "data": {
      "text/plain": [
       "0.8629754753392921"
      ]
     },
     "execution_count": 200,
     "metadata": {},
     "output_type": "execute_result"
    }
   ],
   "source": [
    "roc_auc_score(y_test, preds)"
   ]
  },
  {
   "cell_type": "markdown",
   "metadata": {},
   "source": [
    "# Final part: getting results"
   ]
  },
  {
   "cell_type": "code",
   "execution_count": 204,
   "metadata": {
    "ExecuteTime": {
     "end_time": "2023-11-08T00:04:47.128307Z",
     "start_time": "2023-11-08T00:04:46.344498Z"
    }
   },
   "outputs": [
    {
     "name": "stdout",
     "output_type": "stream",
     "text": [
      "0 rows were deleted, 159256 remains\n",
      "0 rows were deleted, 106171 remains\n"
     ]
    }
   ],
   "source": [
    "X_train, y_train = Split(GetClearData(train_filename, False))\n",
    "X_test = GetClearData(test_filename, False)\n",
    "\n",
    "X_train_scaled, X_test_scaled = Scale(X_train, X_test)"
   ]
  },
  {
   "cell_type": "code",
   "execution_count": 205,
   "metadata": {
    "ExecuteTime": {
     "end_time": "2023-11-08T00:04:48.808085Z",
     "start_time": "2023-11-08T00:04:48.805332Z"
    }
   },
   "outputs": [],
   "source": [
    "stacking = Stacking([xgboost_model, catboost_model, linear_regression_model, neural_network_model])"
   ]
  },
  {
   "cell_type": "code",
   "execution_count": 206,
   "metadata": {
    "ExecuteTime": {
     "end_time": "2023-11-08T00:05:05.928644Z",
     "start_time": "2023-11-08T00:04:50.064403Z"
    }
   },
   "outputs": [
    {
     "name": "stdout",
     "output_type": "stream",
     "text": [
      "Downloaded dataset with size:  (159256, 23)\n"
     ]
    },
    {
     "data": {
      "text/html": [
       "<div>\n",
       "<style scoped>\n",
       "    .dataframe tbody tr th:only-of-type {\n",
       "        vertical-align: middle;\n",
       "    }\n",
       "\n",
       "    .dataframe tbody tr th {\n",
       "        vertical-align: top;\n",
       "    }\n",
       "\n",
       "    .dataframe thead th {\n",
       "        text-align: right;\n",
       "    }\n",
       "</style>\n",
       "<table border=\"1\" class=\"dataframe\">\n",
       "  <thead>\n",
       "    <tr style=\"text-align: right;\">\n",
       "      <th></th>\n",
       "      <th>0</th>\n",
       "      <th>1</th>\n",
       "      <th>2</th>\n",
       "      <th>3</th>\n",
       "      <th>0</th>\n",
       "    </tr>\n",
       "  </thead>\n",
       "  <tbody>\n",
       "    <tr>\n",
       "      <th>0</th>\n",
       "      <td>0.753769</td>\n",
       "      <td>0.674917</td>\n",
       "      <td>0.842616</td>\n",
       "      <td>0.810427</td>\n",
       "      <td>1</td>\n",
       "    </tr>\n",
       "    <tr>\n",
       "      <th>1</th>\n",
       "      <td>0.333190</td>\n",
       "      <td>0.285786</td>\n",
       "      <td>0.588012</td>\n",
       "      <td>0.377899</td>\n",
       "      <td>0</td>\n",
       "    </tr>\n",
       "    <tr>\n",
       "      <th>2</th>\n",
       "      <td>0.940905</td>\n",
       "      <td>0.914193</td>\n",
       "      <td>0.862483</td>\n",
       "      <td>0.817084</td>\n",
       "      <td>1</td>\n",
       "    </tr>\n",
       "    <tr>\n",
       "      <th>3</th>\n",
       "      <td>0.695740</td>\n",
       "      <td>0.696791</td>\n",
       "      <td>0.867768</td>\n",
       "      <td>0.694518</td>\n",
       "      <td>0</td>\n",
       "    </tr>\n",
       "    <tr>\n",
       "      <th>4</th>\n",
       "      <td>0.576351</td>\n",
       "      <td>0.528270</td>\n",
       "      <td>0.440865</td>\n",
       "      <td>0.611095</td>\n",
       "      <td>1</td>\n",
       "    </tr>\n",
       "    <tr>\n",
       "      <th>...</th>\n",
       "      <td>...</td>\n",
       "      <td>...</td>\n",
       "      <td>...</td>\n",
       "      <td>...</td>\n",
       "      <td>...</td>\n",
       "    </tr>\n",
       "    <tr>\n",
       "      <th>159251</th>\n",
       "      <td>0.017049</td>\n",
       "      <td>0.009267</td>\n",
       "      <td>0.052181</td>\n",
       "      <td>0.025260</td>\n",
       "      <td>0</td>\n",
       "    </tr>\n",
       "    <tr>\n",
       "      <th>159252</th>\n",
       "      <td>0.038745</td>\n",
       "      <td>0.036566</td>\n",
       "      <td>0.146568</td>\n",
       "      <td>0.030727</td>\n",
       "      <td>0</td>\n",
       "    </tr>\n",
       "    <tr>\n",
       "      <th>159253</th>\n",
       "      <td>0.003719</td>\n",
       "      <td>0.004340</td>\n",
       "      <td>0.024904</td>\n",
       "      <td>0.003692</td>\n",
       "      <td>0</td>\n",
       "    </tr>\n",
       "    <tr>\n",
       "      <th>159254</th>\n",
       "      <td>0.674530</td>\n",
       "      <td>0.644670</td>\n",
       "      <td>0.498816</td>\n",
       "      <td>0.639076</td>\n",
       "      <td>1</td>\n",
       "    </tr>\n",
       "    <tr>\n",
       "      <th>159255</th>\n",
       "      <td>0.048446</td>\n",
       "      <td>0.064178</td>\n",
       "      <td>0.048689</td>\n",
       "      <td>0.018469</td>\n",
       "      <td>0</td>\n",
       "    </tr>\n",
       "  </tbody>\n",
       "</table>\n",
       "<p>159256 rows × 5 columns</p>\n",
       "</div>"
      ],
      "text/plain": [
       "               0         1         2         3  0\n",
       "0       0.753769  0.674917  0.842616  0.810427  1\n",
       "1       0.333190  0.285786  0.588012  0.377899  0\n",
       "2       0.940905  0.914193  0.862483  0.817084  1\n",
       "3       0.695740  0.696791  0.867768  0.694518  0\n",
       "4       0.576351  0.528270  0.440865  0.611095  1\n",
       "...          ...       ...       ...       ... ..\n",
       "159251  0.017049  0.009267  0.052181  0.025260  0\n",
       "159252  0.038745  0.036566  0.146568  0.030727  0\n",
       "159253  0.003719  0.004340  0.024904  0.003692  0\n",
       "159254  0.674530  0.644670  0.498816  0.639076  1\n",
       "159255  0.048446  0.064178  0.048689  0.018469  0\n",
       "\n",
       "[159256 rows x 5 columns]"
      ]
     },
     "execution_count": 206,
     "metadata": {},
     "output_type": "execute_result"
    }
   ],
   "source": [
    "X_train_stacking = stacking.predict_proba(X_train, X_train_scaled)\n",
    "pd.concat([pd.DataFrame(X_train_stacking), pd.DataFrame(y_train.values)], axis=1)"
   ]
  },
  {
   "cell_type": "code",
   "execution_count": 208,
   "metadata": {
    "ExecuteTime": {
     "end_time": "2023-11-08T00:05:23.424590Z",
     "start_time": "2023-11-08T00:05:12.774548Z"
    }
   },
   "outputs": [
    {
     "name": "stdout",
     "output_type": "stream",
     "text": [
      "Downloaded dataset with size:  (106171, 23)\n"
     ]
    },
    {
     "data": {
      "text/html": [
       "<div>\n",
       "<style scoped>\n",
       "    .dataframe tbody tr th:only-of-type {\n",
       "        vertical-align: middle;\n",
       "    }\n",
       "\n",
       "    .dataframe tbody tr th {\n",
       "        vertical-align: top;\n",
       "    }\n",
       "\n",
       "    .dataframe thead th {\n",
       "        text-align: right;\n",
       "    }\n",
       "</style>\n",
       "<table border=\"1\" class=\"dataframe\">\n",
       "  <thead>\n",
       "    <tr style=\"text-align: right;\">\n",
       "      <th></th>\n",
       "      <th>0</th>\n",
       "      <th>1</th>\n",
       "      <th>2</th>\n",
       "      <th>3</th>\n",
       "    </tr>\n",
       "  </thead>\n",
       "  <tbody>\n",
       "    <tr>\n",
       "      <th>0</th>\n",
       "      <td>0.646176</td>\n",
       "      <td>0.577186</td>\n",
       "      <td>0.392485</td>\n",
       "      <td>0.589834</td>\n",
       "    </tr>\n",
       "    <tr>\n",
       "      <th>1</th>\n",
       "      <td>0.253335</td>\n",
       "      <td>0.103055</td>\n",
       "      <td>0.196437</td>\n",
       "      <td>0.338673</td>\n",
       "    </tr>\n",
       "    <tr>\n",
       "      <th>2</th>\n",
       "      <td>0.326017</td>\n",
       "      <td>0.359602</td>\n",
       "      <td>0.635703</td>\n",
       "      <td>0.406051</td>\n",
       "    </tr>\n",
       "    <tr>\n",
       "      <th>3</th>\n",
       "      <td>0.032104</td>\n",
       "      <td>0.024899</td>\n",
       "      <td>0.125853</td>\n",
       "      <td>0.058693</td>\n",
       "    </tr>\n",
       "    <tr>\n",
       "      <th>4</th>\n",
       "      <td>0.623254</td>\n",
       "      <td>0.491689</td>\n",
       "      <td>0.650709</td>\n",
       "      <td>0.587023</td>\n",
       "    </tr>\n",
       "    <tr>\n",
       "      <th>...</th>\n",
       "      <td>...</td>\n",
       "      <td>...</td>\n",
       "      <td>...</td>\n",
       "      <td>...</td>\n",
       "    </tr>\n",
       "    <tr>\n",
       "      <th>106166</th>\n",
       "      <td>0.737690</td>\n",
       "      <td>0.577726</td>\n",
       "      <td>0.495644</td>\n",
       "      <td>0.654107</td>\n",
       "    </tr>\n",
       "    <tr>\n",
       "      <th>106167</th>\n",
       "      <td>0.540210</td>\n",
       "      <td>0.572138</td>\n",
       "      <td>0.666842</td>\n",
       "      <td>0.668875</td>\n",
       "    </tr>\n",
       "    <tr>\n",
       "      <th>106168</th>\n",
       "      <td>0.412677</td>\n",
       "      <td>0.473954</td>\n",
       "      <td>0.408072</td>\n",
       "      <td>0.507633</td>\n",
       "    </tr>\n",
       "    <tr>\n",
       "      <th>106169</th>\n",
       "      <td>0.102517</td>\n",
       "      <td>0.094198</td>\n",
       "      <td>0.133300</td>\n",
       "      <td>0.144453</td>\n",
       "    </tr>\n",
       "    <tr>\n",
       "      <th>106170</th>\n",
       "      <td>0.036594</td>\n",
       "      <td>0.027108</td>\n",
       "      <td>0.079437</td>\n",
       "      <td>0.011902</td>\n",
       "    </tr>\n",
       "  </tbody>\n",
       "</table>\n",
       "<p>106171 rows × 4 columns</p>\n",
       "</div>"
      ],
      "text/plain": [
       "               0         1         2         3\n",
       "0       0.646176  0.577186  0.392485  0.589834\n",
       "1       0.253335  0.103055  0.196437  0.338673\n",
       "2       0.326017  0.359602  0.635703  0.406051\n",
       "3       0.032104  0.024899  0.125853  0.058693\n",
       "4       0.623254  0.491689  0.650709  0.587023\n",
       "...          ...       ...       ...       ...\n",
       "106166  0.737690  0.577726  0.495644  0.654107\n",
       "106167  0.540210  0.572138  0.666842  0.668875\n",
       "106168  0.412677  0.473954  0.408072  0.507633\n",
       "106169  0.102517  0.094198  0.133300  0.144453\n",
       "106170  0.036594  0.027108  0.079437  0.011902\n",
       "\n",
       "[106171 rows x 4 columns]"
      ]
     },
     "execution_count": 208,
     "metadata": {},
     "output_type": "execute_result"
    }
   ],
   "source": [
    "X_test_stacking = stacking.predict_proba(X_test, X_test_scaled)\n",
    "pd.DataFrame(X_test_stacking)"
   ]
  },
  {
   "cell_type": "code",
   "execution_count": 209,
   "metadata": {
    "ExecuteTime": {
     "end_time": "2023-11-08T00:10:07.810074Z",
     "start_time": "2023-11-08T00:05:23.425786Z"
    }
   },
   "outputs": [
    {
     "name": "stderr",
     "output_type": "stream",
     "text": [
      "/home/stepa/.local/lib/python3.6/site-packages/xgboost/sklearn.py:1224: UserWarning: The use of label encoder in XGBClassifier is deprecated and will be removed in a future release. To remove this warning, do the following: 1) Pass option use_label_encoder=False when constructing XGBClassifier object; and 2) Encode your labels (y) as integers starting with 0, i.e. 0, 1, 2, ..., [num_class - 1].\n",
      "  warnings.warn(label_encoder_deprecation_msg, UserWarning)\n"
     ]
    },
    {
     "name": "stdout",
     "output_type": "stream",
     "text": [
      "[03:05:23] WARNING: ../src/learner.cc:1115: Starting in XGBoost 1.3.0, the default evaluation metric used with the objective 'binary:logistic' was changed from 'error' to 'logloss'. Explicitly set eval_metric if you'd like to restore the old behavior.\n"
     ]
    },
    {
     "data": {
      "text/plain": [
       "XGBClassifier(base_score=0.5, booster='gbtree', colsample_bylevel=1,\n",
       "              colsample_bynode=1, colsample_bytree=0.16999716191331965,\n",
       "              enable_categorical=False, gamma=0.8999999999999999, gpu_id=-1,\n",
       "              importance_type=None, interaction_constraints='',\n",
       "              learning_rate=0.01562020794850652, max_delta_step=0, max_depth=6,\n",
       "              min_child_weight=7, missing=nan, monotone_constraints='()',\n",
       "              n_estimators=8500, n_jobs=12, num_parallel_tree=1,\n",
       "              predictor='auto', random_state=0, reg_alpha=3.4576146388015996,\n",
       "              reg_lambda=5.597056682360282, scale_pos_weight=1,\n",
       "              subsample=0.9936797243169001, tree_method='exact',\n",
       "              validate_parameters=1, verbosity=None)"
      ]
     },
     "execution_count": 209,
     "metadata": {},
     "output_type": "execute_result"
    }
   ],
   "source": [
    "best_params = {'n_estimators': 8500, 'max_depth': 6, 'min_child_weight': 7, 'learning_rate': 0.01562020794850652, 'subsample': 0.9936797243169001, 'colsample_bytree': 0.16999716191331965, 'reg_alpha': 3.4576146388015996, 'reg_lambda': 5.597056682360282, 'gamma': 0.8999999999999999}\n",
    "final_xgboost_model = xgb.XGBClassifier(**best_params)\n",
    "final_xgboost_model.fit(X_train_stacking, y_train)"
   ]
  },
  {
   "cell_type": "code",
   "execution_count": 210,
   "metadata": {
    "ExecuteTime": {
     "end_time": "2023-11-08T00:10:07.825500Z",
     "start_time": "2023-11-08T00:10:07.812287Z"
    }
   },
   "outputs": [
    {
     "ename": "ValueError",
     "evalue": "Feature shape mismatch, expected: 23, got 4",
     "output_type": "error",
     "traceback": [
      "\u001b[0;31m---------------------------------------------------------------------------\u001b[0m",
      "\u001b[0;31mValueError\u001b[0m                                Traceback (most recent call last)",
      "\u001b[0;32m<ipython-input-210-a32d445778fe>\u001b[0m in \u001b[0;36m<module>\u001b[0;34m\u001b[0m\n\u001b[0;32m----> 1\u001b[0;31m \u001b[0mfinal_pred\u001b[0m \u001b[0;34m=\u001b[0m \u001b[0mxgboost_model\u001b[0m\u001b[0;34m.\u001b[0m\u001b[0mpredict_proba\u001b[0m\u001b[0;34m(\u001b[0m\u001b[0mX_test_stacking\u001b[0m\u001b[0;34m)\u001b[0m\u001b[0;34m[\u001b[0m\u001b[0;34m:\u001b[0m\u001b[0;34m,\u001b[0m \u001b[0;36m1\u001b[0m\u001b[0;34m]\u001b[0m\u001b[0;34m\u001b[0m\u001b[0;34m\u001b[0m\u001b[0m\n\u001b[0m\u001b[1;32m      2\u001b[0m \u001b[0;34m\u001b[0m\u001b[0m\n\u001b[1;32m      3\u001b[0m df = pd.DataFrame({'id': range(159256, 265426 + 1),\n\u001b[1;32m      4\u001b[0m                    'smoking': final_pred})\n\u001b[1;32m      5\u001b[0m \u001b[0;34m\u001b[0m\u001b[0m\n",
      "\u001b[0;32m~/.local/lib/python3.6/site-packages/xgboost/sklearn.py\u001b[0m in \u001b[0;36mpredict_proba\u001b[0;34m(self, X, ntree_limit, validate_features, base_margin, iteration_range)\u001b[0m\n\u001b[1;32m   1352\u001b[0m             \u001b[0mvalidate_features\u001b[0m\u001b[0;34m=\u001b[0m\u001b[0mvalidate_features\u001b[0m\u001b[0;34m,\u001b[0m\u001b[0;34m\u001b[0m\u001b[0;34m\u001b[0m\u001b[0m\n\u001b[1;32m   1353\u001b[0m             \u001b[0mbase_margin\u001b[0m\u001b[0;34m=\u001b[0m\u001b[0mbase_margin\u001b[0m\u001b[0;34m,\u001b[0m\u001b[0;34m\u001b[0m\u001b[0;34m\u001b[0m\u001b[0m\n\u001b[0;32m-> 1354\u001b[0;31m             \u001b[0miteration_range\u001b[0m\u001b[0;34m=\u001b[0m\u001b[0miteration_range\u001b[0m\u001b[0;34m\u001b[0m\u001b[0;34m\u001b[0m\u001b[0m\n\u001b[0m\u001b[1;32m   1355\u001b[0m         )\n\u001b[1;32m   1356\u001b[0m         \u001b[0;31m# If model is loaded from a raw booster there's no `n_classes_`\u001b[0m\u001b[0;34m\u001b[0m\u001b[0;34m\u001b[0m\u001b[0;34m\u001b[0m\u001b[0m\n",
      "\u001b[0;32m~/.local/lib/python3.6/site-packages/xgboost/sklearn.py\u001b[0m in \u001b[0;36mpredict\u001b[0;34m(self, X, output_margin, ntree_limit, validate_features, base_margin, iteration_range)\u001b[0m\n\u001b[1;32m    885\u001b[0m                     \u001b[0mmissing\u001b[0m\u001b[0;34m=\u001b[0m\u001b[0mself\u001b[0m\u001b[0;34m.\u001b[0m\u001b[0mmissing\u001b[0m\u001b[0;34m,\u001b[0m\u001b[0;34m\u001b[0m\u001b[0;34m\u001b[0m\u001b[0m\n\u001b[1;32m    886\u001b[0m                     \u001b[0mbase_margin\u001b[0m\u001b[0;34m=\u001b[0m\u001b[0mbase_margin\u001b[0m\u001b[0;34m,\u001b[0m\u001b[0;34m\u001b[0m\u001b[0;34m\u001b[0m\u001b[0m\n\u001b[0;32m--> 887\u001b[0;31m                     \u001b[0mvalidate_features\u001b[0m\u001b[0;34m=\u001b[0m\u001b[0mvalidate_features\u001b[0m\u001b[0;34m,\u001b[0m\u001b[0;34m\u001b[0m\u001b[0;34m\u001b[0m\u001b[0m\n\u001b[0m\u001b[1;32m    888\u001b[0m                 )\n\u001b[1;32m    889\u001b[0m                 \u001b[0;32mif\u001b[0m \u001b[0m_is_cupy_array\u001b[0m\u001b[0;34m(\u001b[0m\u001b[0mpredts\u001b[0m\u001b[0;34m)\u001b[0m\u001b[0;34m:\u001b[0m\u001b[0;34m\u001b[0m\u001b[0;34m\u001b[0m\u001b[0m\n",
      "\u001b[0;32m~/.local/lib/python3.6/site-packages/xgboost/core.py\u001b[0m in \u001b[0;36minplace_predict\u001b[0;34m(self, data, iteration_range, predict_type, missing, validate_features, base_margin, strict_shape)\u001b[0m\n\u001b[1;32m   2017\u001b[0m             \u001b[0;32mif\u001b[0m \u001b[0mlen\u001b[0m\u001b[0;34m(\u001b[0m\u001b[0mdata\u001b[0m\u001b[0;34m.\u001b[0m\u001b[0mshape\u001b[0m\u001b[0;34m)\u001b[0m \u001b[0;34m!=\u001b[0m \u001b[0;36m1\u001b[0m \u001b[0;32mand\u001b[0m \u001b[0mself\u001b[0m\u001b[0;34m.\u001b[0m\u001b[0mnum_features\u001b[0m\u001b[0;34m(\u001b[0m\u001b[0;34m)\u001b[0m \u001b[0;34m!=\u001b[0m \u001b[0mdata\u001b[0m\u001b[0;34m.\u001b[0m\u001b[0mshape\u001b[0m\u001b[0;34m[\u001b[0m\u001b[0;36m1\u001b[0m\u001b[0;34m]\u001b[0m\u001b[0;34m:\u001b[0m\u001b[0;34m\u001b[0m\u001b[0;34m\u001b[0m\u001b[0m\n\u001b[1;32m   2018\u001b[0m                 raise ValueError(\n\u001b[0;32m-> 2019\u001b[0;31m                     \u001b[0;34mf\"Feature shape mismatch, expected: {self.num_features()}, \"\u001b[0m\u001b[0;34m\u001b[0m\u001b[0;34m\u001b[0m\u001b[0m\n\u001b[0m\u001b[1;32m   2020\u001b[0m                     \u001b[0;34mf\"got {data.shape[1]}\"\u001b[0m\u001b[0;34m\u001b[0m\u001b[0;34m\u001b[0m\u001b[0m\n\u001b[1;32m   2021\u001b[0m                 )\n",
      "\u001b[0;31mValueError\u001b[0m: Feature shape mismatch, expected: 23, got 4"
     ]
    }
   ],
   "source": [
    "final_pred = xgboost_model.predict_proba(X_test_stacking)[:, 1]\n",
    "\n",
    "df = pd.DataFrame({'id': range(159256, 265426 + 1),\n",
    "                   'smoking': final_pred})\n",
    "\n",
    "df.to_csv(output_name, index=False)"
   ]
  }
 ],
 "metadata": {
  "accelerator": "GPU",
  "colab": {
   "gpuType": "T4",
   "provenance": [
    {
     "file_id": "1AsY4_V9haXugcjqritn3FVyy1AviE8cR",
     "timestamp": 1697716351902
    },
    {
     "file_id": "1VdASalgMNPBAgqsjowm9cMjzL_9mmZol",
     "timestamp": 1697704715230
    },
    {
     "file_id": "1HDSYBX4fh-TzgAwvKLd5myGzV8a1eSqX",
     "timestamp": 1697640442996
    }
   ]
  },
  "kernelspec": {
   "display_name": "Python 3",
   "language": "python",
   "name": "python3"
  },
  "language_info": {
   "codemirror_mode": {
    "name": "ipython",
    "version": 3
   },
   "file_extension": ".py",
   "mimetype": "text/x-python",
   "name": "python",
   "nbconvert_exporter": "python",
   "pygments_lexer": "ipython3",
   "version": "3.6.9"
  }
 },
 "nbformat": 4,
 "nbformat_minor": 1
}
