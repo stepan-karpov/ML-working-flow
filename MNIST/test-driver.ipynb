{
  "cells": [
    {
      "cell_type": "code",
      "execution_count": 6,
      "metadata": {
        "colab": {
          "base_uri": "https://localhost:8080/"
        },
        "id": "E-NsNF2FPidw",
        "outputId": "3d5a5436-817c-4901-8769-17c66077e156"
      },
      "outputs": [
        {
          "name": "stdout",
          "output_type": "stream",
          "text": [
            "cuda\n",
            "----------------------------------------------------------------\n",
            "        Layer (type)               Output Shape         Param #\n",
            "================================================================\n",
            "           Flatten-1                 [128, 784]               0\n",
            "            Linear-2                 [128, 128]         100,480\n",
            "               ELU-3                 [128, 128]               0\n",
            "            Linear-4                 [128, 128]          16,512\n",
            "               ELU-5                 [128, 128]               0\n",
            "            Linear-6                  [128, 10]           1,290\n",
            "================================================================\n",
            "Total params: 118,282\n",
            "Trainable params: 118,282\n",
            "Non-trainable params: 0\n",
            "----------------------------------------------------------------\n",
            "Input size (MB): 0.38\n",
            "Forward/backward pass size (MB): 1.28\n",
            "Params size (MB): 0.45\n",
            "Estimated Total Size (MB): 2.11\n",
            "----------------------------------------------------------------\n"
          ]
        }
      ],
      "source": [
        "import numpy as np\n",
        "import pandas as pd\n",
        "\n",
        "import seaborn as sns\n",
        "from matplotlib import pyplot as plt\n",
        "\n",
        "from sklearn.datasets import make_moons\n",
        "from sklearn.model_selection import train_test_split\n",
        "\n",
        "import torch\n",
        "from torch import nn\n",
        "from torch.nn import functional as F\n",
        "\n",
        "from torch.utils.data import TensorDataset, DataLoader\n",
        "\n",
        "sns.set(style=\"darkgrid\", font_scale=1.4)\n",
        "\n",
        "import os\n",
        "from torchvision.datasets import MNIST\n",
        "from torchvision import transforms as tfs\n",
        "from torchsummary import summary\n",
        "\n",
        "device = \"cuda\" if torch.cuda.is_available() else \"cpu\"\n",
        "\n",
        "data_tfs = tfs.Compose([\n",
        "    tfs.ToTensor(),\n",
        "    tfs.Normalize((0.5), (0.5))\n",
        "])\n",
        "\n",
        "\n",
        "# install for train and test\n",
        "root = './'\n",
        "train_dataset = MNIST(root, train=True,  transform=data_tfs, download=True)\n",
        "val_dataset  = MNIST(root, train=False, transform=data_tfs, download=True)\n",
        "\n",
        "batch_size = 128\n",
        "\n",
        "train_dataloader = DataLoader(train_dataset, batch_size=batch_size, drop_last=True)\n",
        "valid_dataloader = DataLoader(val_dataset, batch_size=batch_size, drop_last=True)\n",
        "\n",
        "activation = nn.ELU\n",
        "features = 784  # number of flattened array\n",
        "classes = 10    # number of classes\n",
        "\n",
        "model = nn.Sequential(\n",
        "    nn.Flatten(),\n",
        "    nn.Linear(features, 128),\n",
        "    activation(),\n",
        "    nn.Linear(128, 128),\n",
        "    activation(),\n",
        "    nn.Linear(128, classes),\n",
        "    # don't need softmax here!\n",
        ")\n",
        "model.to(device)\n",
        "print(device)\n",
        "summary(model, (features,), batch_size=batch_size)"
      ]
    },
    {
      "cell_type": "code",
      "execution_count": 7,
      "metadata": {
        "colab": {
          "base_uri": "https://localhost:8080/"
        },
        "id": "a7CyKVv1Q_RV",
        "outputId": "e2aaa330-5408-4b5d-9ee3-ae3eb50a7e38"
      },
      "outputs": [
        {
          "name": "stdout",
          "output_type": "stream",
          "text": [
            "Epoch: 1\n",
            "Loader: train. Accuracy: 0.8780048489570618\n",
            "Loader: valid. Accuracy: 0.9273838400840759\n",
            "Epoch: 2\n",
            "Loader: train. Accuracy: 0.9411725997924805\n",
            "Loader: valid. Accuracy: 0.9491186141967773\n",
            "Epoch: 3\n",
            "Loader: train. Accuracy: 0.9594685435295105\n",
            "Loader: valid. Accuracy: 0.9564303159713745\n",
            "Epoch: 4\n",
            "Loader: train. Accuracy: 0.9686498641967773\n",
            "Loader: valid. Accuracy: 0.9640424847602844\n",
            "Epoch: 5\n",
            "Loader: train. Accuracy: 0.9743590354919434\n",
            "Loader: valid. Accuracy: 0.9672476053237915\n",
            "Epoch: 6\n",
            "Loader: train. Accuracy: 0.9792001247406006\n",
            "Loader: valid. Accuracy: 0.9639423489570618\n",
            "Epoch: 7\n",
            "Loader: train. Accuracy: 0.9825554490089417\n",
            "Loader: valid. Accuracy: 0.9639423489570618\n",
            "Epoch: 8\n",
            "Loader: train. Accuracy: 0.984408438205719\n",
            "Loader: valid. Accuracy: 0.9640424847602844\n",
            "Epoch: 9\n",
            "Loader: train. Accuracy: 0.9850093722343445\n",
            "Loader: valid. Accuracy: 0.9621394276618958\n",
            "Epoch: 10\n",
            "Loader: train. Accuracy: 0.9859775900840759\n",
            "Loader: valid. Accuracy: 0.9704527258872986\n"
          ]
        }
      ],
      "source": [
        "criterion = nn.CrossEntropyLoss()\n",
        "optimizer = torch.optim.Adam(model.parameters())\n",
        "\n",
        "loaders = {\"train\": train_dataloader, \"valid\": valid_dataloader}\n",
        "max_epochs = 10\n",
        "accuracy = {\"train\": [], \"valid\": []}\n",
        "for epoch in range(max_epochs):\n",
        "    for k, dataloader in loaders.items():\n",
        "        epoch_correct = 0\n",
        "        epoch_all = 0\n",
        "        for x_batch, y_batch in dataloader:\n",
        "            x_batch = x_batch.to(device)\n",
        "            y_batch = y_batch.to(device)\n",
        "            if k == \"train\":\n",
        "                model.train()\n",
        "                optimizer.zero_grad()\n",
        "                outp = model(x_batch)\n",
        "            else:\n",
        "                model.eval()\n",
        "                with torch.no_grad():\n",
        "                  outp = model(x_batch)\n",
        "            preds = outp.argmax(-1)\n",
        "            correct = (preds == y_batch).sum()\n",
        "            all =  len(y_batch)\n",
        "            epoch_correct += correct\n",
        "            epoch_all += all\n",
        "            if k == \"train\":\n",
        "                loss = criterion(outp, y_batch)\n",
        "                loss.backward()\n",
        "                optimizer.step()\n",
        "        if k == \"train\":\n",
        "            print(f\"Epoch: {epoch+1}\")\n",
        "        print(f\"Loader: {k}. Accuracy: {epoch_correct/epoch_all}\")\n",
        "        accuracy[k].append(epoch_correct/epoch_all)\n"
      ]
    }
  ],
  "metadata": {
    "accelerator": "GPU",
    "colab": {
      "gpuType": "T4",
      "provenance": []
    },
    "kernelspec": {
      "display_name": "Python 3",
      "name": "python3"
    }
  },
  "nbformat": 4,
  "nbformat_minor": 0
}
