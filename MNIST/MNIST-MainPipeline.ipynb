{
 "cells": [
  {
   "cell_type": "code",
   "execution_count": 39,
   "metadata": {
    "ExecuteTime": {
     "end_time": "2023-11-03T21:39:02.166772Z",
     "start_time": "2023-11-03T21:39:01.188133Z"
    }
   },
   "outputs": [
    {
     "name": "stdout",
     "output_type": "stream",
     "text": [
      "Defaulting to user installation because normal site-packages is not writeable\n",
      "Requirement already satisfied: torchsummary in /home/stepa/.local/lib/python3.6/site-packages (1.5.1)\n"
     ]
    }
   ],
   "source": [
    "!pip install torchsummary"
   ]
  },
  {
   "cell_type": "code",
   "execution_count": 40,
   "metadata": {
    "ExecuteTime": {
     "end_time": "2023-11-03T21:39:04.563109Z",
     "start_time": "2023-11-03T21:39:04.560343Z"
    }
   },
   "outputs": [],
   "source": [
    "train_filename = \"./train.csv\"\n",
    "test_filename = \"./test.csv\""
   ]
  },
  {
   "cell_type": "markdown",
   "metadata": {
    "id": "KBeojQNTzwY-"
   },
   "source": [
    "<h3 style=\"text-align: center;\"><b>Computer Vision BaseLine</b></h3>\n",
    "\n",
    "This BaseLine contains simple CV methods which allow to solve simple tasks\n",
    "\n",
    "\n",
    "\n",
    "\n",
    "\n"
   ]
  },
  {
   "cell_type": "code",
   "execution_count": 41,
   "metadata": {
    "ExecuteTime": {
     "end_time": "2023-11-03T21:39:06.362336Z",
     "start_time": "2023-11-03T21:39:06.357119Z"
    },
    "cell_style": "center",
    "executionInfo": {
     "elapsed": 5936,
     "status": "ok",
     "timestamp": 1699037970671,
     "user": {
      "displayName": "Степан Карпов",
      "userId": "08179695351102028322"
     },
     "user_tz": -180
    },
    "hide_input": false,
    "id": "Kd-KUTc1CBXm"
   },
   "outputs": [],
   "source": [
    "\n",
    "import numpy as np\n",
    "import pandas as pd\n",
    "\n",
    "import seaborn as sns\n",
    "from matplotlib import pyplot as plt\n",
    "\n",
    "from sklearn.datasets import make_moons\n",
    "from sklearn.model_selection import train_test_split\n",
    "\n",
    "import torch\n",
    "from torch import nn\n",
    "from torch.nn import functional as F\n",
    "\n",
    "from torch.utils.data import TensorDataset, DataLoader\n",
    "\n",
    "sns.set(style=\"darkgrid\", font_scale=1.4)"
   ]
  },
  {
   "cell_type": "markdown",
   "metadata": {
    "id": "cyivMZBZC0Ha"
   },
   "source": [
    "# MNIST Dataset\n"
   ]
  },
  {
   "cell_type": "markdown",
   "metadata": {
    "id": "C1WaU-LHEchj"
   },
   "source": [
    "`train.csv` - file with training data\n",
    "\n",
    "`test.csv` - file with test data (no target here)"
   ]
  },
  {
   "cell_type": "code",
   "execution_count": 42,
   "metadata": {
    "ExecuteTime": {
     "end_time": "2023-11-03T21:39:09.586542Z",
     "start_time": "2023-11-03T21:39:08.455028Z"
    },
    "colab": {
     "base_uri": "https://localhost:8080/",
     "height": 443
    },
    "executionInfo": {
     "elapsed": 5349,
     "status": "ok",
     "timestamp": 1699037980850,
     "user": {
      "displayName": "Степан Карпов",
      "userId": "08179695351102028322"
     },
     "user_tz": -180
    },
    "id": "AfYJZXu4vcBd",
    "outputId": "2cc10dfc-09e7-4714-98cd-a782bc0ae8b8"
   },
   "outputs": [
    {
     "data": {
      "text/html": [
       "<div>\n",
       "<style scoped>\n",
       "    .dataframe tbody tr th:only-of-type {\n",
       "        vertical-align: middle;\n",
       "    }\n",
       "\n",
       "    .dataframe tbody tr th {\n",
       "        vertical-align: top;\n",
       "    }\n",
       "\n",
       "    .dataframe thead th {\n",
       "        text-align: right;\n",
       "    }\n",
       "</style>\n",
       "<table border=\"1\" class=\"dataframe\">\n",
       "  <thead>\n",
       "    <tr style=\"text-align: right;\">\n",
       "      <th></th>\n",
       "      <th>label</th>\n",
       "      <th>pixel0</th>\n",
       "      <th>pixel1</th>\n",
       "      <th>pixel2</th>\n",
       "      <th>pixel3</th>\n",
       "      <th>pixel4</th>\n",
       "      <th>pixel5</th>\n",
       "      <th>pixel6</th>\n",
       "      <th>pixel7</th>\n",
       "      <th>pixel8</th>\n",
       "      <th>...</th>\n",
       "      <th>pixel774</th>\n",
       "      <th>pixel775</th>\n",
       "      <th>pixel776</th>\n",
       "      <th>pixel777</th>\n",
       "      <th>pixel778</th>\n",
       "      <th>pixel779</th>\n",
       "      <th>pixel780</th>\n",
       "      <th>pixel781</th>\n",
       "      <th>pixel782</th>\n",
       "      <th>pixel783</th>\n",
       "    </tr>\n",
       "  </thead>\n",
       "  <tbody>\n",
       "    <tr>\n",
       "      <th>0</th>\n",
       "      <td>1</td>\n",
       "      <td>0</td>\n",
       "      <td>0</td>\n",
       "      <td>0</td>\n",
       "      <td>0</td>\n",
       "      <td>0</td>\n",
       "      <td>0</td>\n",
       "      <td>0</td>\n",
       "      <td>0</td>\n",
       "      <td>0</td>\n",
       "      <td>...</td>\n",
       "      <td>0</td>\n",
       "      <td>0</td>\n",
       "      <td>0</td>\n",
       "      <td>0</td>\n",
       "      <td>0</td>\n",
       "      <td>0</td>\n",
       "      <td>0</td>\n",
       "      <td>0</td>\n",
       "      <td>0</td>\n",
       "      <td>0</td>\n",
       "    </tr>\n",
       "    <tr>\n",
       "      <th>1</th>\n",
       "      <td>0</td>\n",
       "      <td>0</td>\n",
       "      <td>0</td>\n",
       "      <td>0</td>\n",
       "      <td>0</td>\n",
       "      <td>0</td>\n",
       "      <td>0</td>\n",
       "      <td>0</td>\n",
       "      <td>0</td>\n",
       "      <td>0</td>\n",
       "      <td>...</td>\n",
       "      <td>0</td>\n",
       "      <td>0</td>\n",
       "      <td>0</td>\n",
       "      <td>0</td>\n",
       "      <td>0</td>\n",
       "      <td>0</td>\n",
       "      <td>0</td>\n",
       "      <td>0</td>\n",
       "      <td>0</td>\n",
       "      <td>0</td>\n",
       "    </tr>\n",
       "    <tr>\n",
       "      <th>2</th>\n",
       "      <td>1</td>\n",
       "      <td>0</td>\n",
       "      <td>0</td>\n",
       "      <td>0</td>\n",
       "      <td>0</td>\n",
       "      <td>0</td>\n",
       "      <td>0</td>\n",
       "      <td>0</td>\n",
       "      <td>0</td>\n",
       "      <td>0</td>\n",
       "      <td>...</td>\n",
       "      <td>0</td>\n",
       "      <td>0</td>\n",
       "      <td>0</td>\n",
       "      <td>0</td>\n",
       "      <td>0</td>\n",
       "      <td>0</td>\n",
       "      <td>0</td>\n",
       "      <td>0</td>\n",
       "      <td>0</td>\n",
       "      <td>0</td>\n",
       "    </tr>\n",
       "    <tr>\n",
       "      <th>3</th>\n",
       "      <td>4</td>\n",
       "      <td>0</td>\n",
       "      <td>0</td>\n",
       "      <td>0</td>\n",
       "      <td>0</td>\n",
       "      <td>0</td>\n",
       "      <td>0</td>\n",
       "      <td>0</td>\n",
       "      <td>0</td>\n",
       "      <td>0</td>\n",
       "      <td>...</td>\n",
       "      <td>0</td>\n",
       "      <td>0</td>\n",
       "      <td>0</td>\n",
       "      <td>0</td>\n",
       "      <td>0</td>\n",
       "      <td>0</td>\n",
       "      <td>0</td>\n",
       "      <td>0</td>\n",
       "      <td>0</td>\n",
       "      <td>0</td>\n",
       "    </tr>\n",
       "    <tr>\n",
       "      <th>4</th>\n",
       "      <td>0</td>\n",
       "      <td>0</td>\n",
       "      <td>0</td>\n",
       "      <td>0</td>\n",
       "      <td>0</td>\n",
       "      <td>0</td>\n",
       "      <td>0</td>\n",
       "      <td>0</td>\n",
       "      <td>0</td>\n",
       "      <td>0</td>\n",
       "      <td>...</td>\n",
       "      <td>0</td>\n",
       "      <td>0</td>\n",
       "      <td>0</td>\n",
       "      <td>0</td>\n",
       "      <td>0</td>\n",
       "      <td>0</td>\n",
       "      <td>0</td>\n",
       "      <td>0</td>\n",
       "      <td>0</td>\n",
       "      <td>0</td>\n",
       "    </tr>\n",
       "    <tr>\n",
       "      <th>...</th>\n",
       "      <td>...</td>\n",
       "      <td>...</td>\n",
       "      <td>...</td>\n",
       "      <td>...</td>\n",
       "      <td>...</td>\n",
       "      <td>...</td>\n",
       "      <td>...</td>\n",
       "      <td>...</td>\n",
       "      <td>...</td>\n",
       "      <td>...</td>\n",
       "      <td>...</td>\n",
       "      <td>...</td>\n",
       "      <td>...</td>\n",
       "      <td>...</td>\n",
       "      <td>...</td>\n",
       "      <td>...</td>\n",
       "      <td>...</td>\n",
       "      <td>...</td>\n",
       "      <td>...</td>\n",
       "      <td>...</td>\n",
       "      <td>...</td>\n",
       "    </tr>\n",
       "    <tr>\n",
       "      <th>41995</th>\n",
       "      <td>0</td>\n",
       "      <td>0</td>\n",
       "      <td>0</td>\n",
       "      <td>0</td>\n",
       "      <td>0</td>\n",
       "      <td>0</td>\n",
       "      <td>0</td>\n",
       "      <td>0</td>\n",
       "      <td>0</td>\n",
       "      <td>0</td>\n",
       "      <td>...</td>\n",
       "      <td>0</td>\n",
       "      <td>0</td>\n",
       "      <td>0</td>\n",
       "      <td>0</td>\n",
       "      <td>0</td>\n",
       "      <td>0</td>\n",
       "      <td>0</td>\n",
       "      <td>0</td>\n",
       "      <td>0</td>\n",
       "      <td>0</td>\n",
       "    </tr>\n",
       "    <tr>\n",
       "      <th>41996</th>\n",
       "      <td>1</td>\n",
       "      <td>0</td>\n",
       "      <td>0</td>\n",
       "      <td>0</td>\n",
       "      <td>0</td>\n",
       "      <td>0</td>\n",
       "      <td>0</td>\n",
       "      <td>0</td>\n",
       "      <td>0</td>\n",
       "      <td>0</td>\n",
       "      <td>...</td>\n",
       "      <td>0</td>\n",
       "      <td>0</td>\n",
       "      <td>0</td>\n",
       "      <td>0</td>\n",
       "      <td>0</td>\n",
       "      <td>0</td>\n",
       "      <td>0</td>\n",
       "      <td>0</td>\n",
       "      <td>0</td>\n",
       "      <td>0</td>\n",
       "    </tr>\n",
       "    <tr>\n",
       "      <th>41997</th>\n",
       "      <td>7</td>\n",
       "      <td>0</td>\n",
       "      <td>0</td>\n",
       "      <td>0</td>\n",
       "      <td>0</td>\n",
       "      <td>0</td>\n",
       "      <td>0</td>\n",
       "      <td>0</td>\n",
       "      <td>0</td>\n",
       "      <td>0</td>\n",
       "      <td>...</td>\n",
       "      <td>0</td>\n",
       "      <td>0</td>\n",
       "      <td>0</td>\n",
       "      <td>0</td>\n",
       "      <td>0</td>\n",
       "      <td>0</td>\n",
       "      <td>0</td>\n",
       "      <td>0</td>\n",
       "      <td>0</td>\n",
       "      <td>0</td>\n",
       "    </tr>\n",
       "    <tr>\n",
       "      <th>41998</th>\n",
       "      <td>6</td>\n",
       "      <td>0</td>\n",
       "      <td>0</td>\n",
       "      <td>0</td>\n",
       "      <td>0</td>\n",
       "      <td>0</td>\n",
       "      <td>0</td>\n",
       "      <td>0</td>\n",
       "      <td>0</td>\n",
       "      <td>0</td>\n",
       "      <td>...</td>\n",
       "      <td>0</td>\n",
       "      <td>0</td>\n",
       "      <td>0</td>\n",
       "      <td>0</td>\n",
       "      <td>0</td>\n",
       "      <td>0</td>\n",
       "      <td>0</td>\n",
       "      <td>0</td>\n",
       "      <td>0</td>\n",
       "      <td>0</td>\n",
       "    </tr>\n",
       "    <tr>\n",
       "      <th>41999</th>\n",
       "      <td>9</td>\n",
       "      <td>0</td>\n",
       "      <td>0</td>\n",
       "      <td>0</td>\n",
       "      <td>0</td>\n",
       "      <td>0</td>\n",
       "      <td>0</td>\n",
       "      <td>0</td>\n",
       "      <td>0</td>\n",
       "      <td>0</td>\n",
       "      <td>...</td>\n",
       "      <td>0</td>\n",
       "      <td>0</td>\n",
       "      <td>0</td>\n",
       "      <td>0</td>\n",
       "      <td>0</td>\n",
       "      <td>0</td>\n",
       "      <td>0</td>\n",
       "      <td>0</td>\n",
       "      <td>0</td>\n",
       "      <td>0</td>\n",
       "    </tr>\n",
       "  </tbody>\n",
       "</table>\n",
       "<p>42000 rows × 785 columns</p>\n",
       "</div>"
      ],
      "text/plain": [
       "       label  pixel0  pixel1  pixel2  pixel3  pixel4  pixel5  pixel6  pixel7  \\\n",
       "0          1       0       0       0       0       0       0       0       0   \n",
       "1          0       0       0       0       0       0       0       0       0   \n",
       "2          1       0       0       0       0       0       0       0       0   \n",
       "3          4       0       0       0       0       0       0       0       0   \n",
       "4          0       0       0       0       0       0       0       0       0   \n",
       "...      ...     ...     ...     ...     ...     ...     ...     ...     ...   \n",
       "41995      0       0       0       0       0       0       0       0       0   \n",
       "41996      1       0       0       0       0       0       0       0       0   \n",
       "41997      7       0       0       0       0       0       0       0       0   \n",
       "41998      6       0       0       0       0       0       0       0       0   \n",
       "41999      9       0       0       0       0       0       0       0       0   \n",
       "\n",
       "       pixel8  ...  pixel774  pixel775  pixel776  pixel777  pixel778  \\\n",
       "0           0  ...         0         0         0         0         0   \n",
       "1           0  ...         0         0         0         0         0   \n",
       "2           0  ...         0         0         0         0         0   \n",
       "3           0  ...         0         0         0         0         0   \n",
       "4           0  ...         0         0         0         0         0   \n",
       "...       ...  ...       ...       ...       ...       ...       ...   \n",
       "41995       0  ...         0         0         0         0         0   \n",
       "41996       0  ...         0         0         0         0         0   \n",
       "41997       0  ...         0         0         0         0         0   \n",
       "41998       0  ...         0         0         0         0         0   \n",
       "41999       0  ...         0         0         0         0         0   \n",
       "\n",
       "       pixel779  pixel780  pixel781  pixel782  pixel783  \n",
       "0             0         0         0         0         0  \n",
       "1             0         0         0         0         0  \n",
       "2             0         0         0         0         0  \n",
       "3             0         0         0         0         0  \n",
       "4             0         0         0         0         0  \n",
       "...         ...       ...       ...       ...       ...  \n",
       "41995         0         0         0         0         0  \n",
       "41996         0         0         0         0         0  \n",
       "41997         0         0         0         0         0  \n",
       "41998         0         0         0         0         0  \n",
       "41999         0         0         0         0         0  \n",
       "\n",
       "[42000 rows x 785 columns]"
      ]
     },
     "execution_count": 42,
     "metadata": {},
     "output_type": "execute_result"
    }
   ],
   "source": [
    "dataset = pd.read_csv(train_filename, low_memory=False)\n",
    "dataset"
   ]
  },
  {
   "cell_type": "code",
   "execution_count": 43,
   "metadata": {
    "ExecuteTime": {
     "end_time": "2023-11-03T21:39:09.695225Z",
     "start_time": "2023-11-03T21:39:09.588295Z"
    },
    "colab": {
     "base_uri": "https://localhost:8080/",
     "height": 494
    },
    "executionInfo": {
     "elapsed": 445,
     "status": "ok",
     "timestamp": 1699037984621,
     "user": {
      "displayName": "Степан Карпов",
      "userId": "08179695351102028322"
     },
     "user_tz": -180
    },
    "id": "BBc5ge7n62Ta",
    "outputId": "5bfff014-2438-479b-8f51-ff4213754362"
   },
   "outputs": [
    {
     "data": {
      "image/png": "[encoded data removed]",
      "text/plain": [
       "<Figure size 432x288 with 1 Axes>"
      ]
     },
     "metadata": {},
     "output_type": "display_data"
    }
   ],
   "source": [
    "numpy_array = dataset['label'].values\n",
    "\n",
    "plt.hist(numpy_array, bins=30)\n",
    "plt.title(\"Distribution of Tensor Values\")\n",
    "plt.xlabel(\"Value\")\n",
    "plt.ylabel(\"Frequency\")\n",
    "plt.show()"
   ]
  },
  {
   "cell_type": "code",
   "execution_count": 44,
   "metadata": {
    "ExecuteTime": {
     "end_time": "2023-11-03T21:39:12.396873Z",
     "start_time": "2023-11-03T21:39:09.810826Z"
    },
    "executionInfo": {
     "elapsed": 7463,
     "status": "ok",
     "timestamp": 1699037995893,
     "user": {
      "displayName": "Степан Карпов",
      "userId": "08179695351102028322"
     },
     "user_tz": -180
    },
    "id": "w_CUFk-B_Ylr"
   },
   "outputs": [],
   "source": [
    "test_size = 0.2\n",
    "train_data, test_data = train_test_split(dataset, test_size=test_size, random_state=42)\n",
    "\n",
    "# lets split train dataset on temp_train and test_train\n",
    "# temp_train will contain training data to train our model\n",
    "# and temp_test will contain test data with targets to estimate our score\n",
    "train_data.to_csv(\"./temp_train.csv\", index=False)\n",
    "test_data.to_csv(\"./temp_test.csv\", index=False)"
   ]
  },
  {
   "cell_type": "code",
   "execution_count": 45,
   "metadata": {
    "ExecuteTime": {
     "end_time": "2023-11-03T21:39:13.207198Z",
     "start_time": "2023-11-03T21:39:12.398319Z"
    },
    "colab": {
     "base_uri": "https://localhost:8080/",
     "height": 443
    },
    "executionInfo": {
     "elapsed": 4178,
     "status": "ok",
     "timestamp": 1699038000047,
     "user": {
      "displayName": "Степан Карпов",
      "userId": "08179695351102028322"
     },
     "user_tz": -180
    },
    "id": "ibYSeFdjAmKc",
    "outputId": "d0476837-b4c3-4516-c8e2-3c32ec8d0a7c"
   },
   "outputs": [
    {
     "data": {
      "text/html": [
       "<div>\n",
       "<style scoped>\n",
       "    .dataframe tbody tr th:only-of-type {\n",
       "        vertical-align: middle;\n",
       "    }\n",
       "\n",
       "    .dataframe tbody tr th {\n",
       "        vertical-align: top;\n",
       "    }\n",
       "\n",
       "    .dataframe thead th {\n",
       "        text-align: right;\n",
       "    }\n",
       "</style>\n",
       "<table border=\"1\" class=\"dataframe\">\n",
       "  <thead>\n",
       "    <tr style=\"text-align: right;\">\n",
       "      <th></th>\n",
       "      <th>label</th>\n",
       "      <th>pixel0</th>\n",
       "      <th>pixel1</th>\n",
       "      <th>pixel2</th>\n",
       "      <th>pixel3</th>\n",
       "      <th>pixel4</th>\n",
       "      <th>pixel5</th>\n",
       "      <th>pixel6</th>\n",
       "      <th>pixel7</th>\n",
       "      <th>pixel8</th>\n",
       "      <th>...</th>\n",
       "      <th>pixel774</th>\n",
       "      <th>pixel775</th>\n",
       "      <th>pixel776</th>\n",
       "      <th>pixel777</th>\n",
       "      <th>pixel778</th>\n",
       "      <th>pixel779</th>\n",
       "      <th>pixel780</th>\n",
       "      <th>pixel781</th>\n",
       "      <th>pixel782</th>\n",
       "      <th>pixel783</th>\n",
       "    </tr>\n",
       "  </thead>\n",
       "  <tbody>\n",
       "    <tr>\n",
       "      <th>0</th>\n",
       "      <td>6</td>\n",
       "      <td>0</td>\n",
       "      <td>0</td>\n",
       "      <td>0</td>\n",
       "      <td>0</td>\n",
       "      <td>0</td>\n",
       "      <td>0</td>\n",
       "      <td>0</td>\n",
       "      <td>0</td>\n",
       "      <td>0</td>\n",
       "      <td>...</td>\n",
       "      <td>0</td>\n",
       "      <td>0</td>\n",
       "      <td>0</td>\n",
       "      <td>0</td>\n",
       "      <td>0</td>\n",
       "      <td>0</td>\n",
       "      <td>0</td>\n",
       "      <td>0</td>\n",
       "      <td>0</td>\n",
       "      <td>0</td>\n",
       "    </tr>\n",
       "    <tr>\n",
       "      <th>1</th>\n",
       "      <td>5</td>\n",
       "      <td>0</td>\n",
       "      <td>0</td>\n",
       "      <td>0</td>\n",
       "      <td>0</td>\n",
       "      <td>0</td>\n",
       "      <td>0</td>\n",
       "      <td>0</td>\n",
       "      <td>0</td>\n",
       "      <td>0</td>\n",
       "      <td>...</td>\n",
       "      <td>0</td>\n",
       "      <td>0</td>\n",
       "      <td>0</td>\n",
       "      <td>0</td>\n",
       "      <td>0</td>\n",
       "      <td>0</td>\n",
       "      <td>0</td>\n",
       "      <td>0</td>\n",
       "      <td>0</td>\n",
       "      <td>0</td>\n",
       "    </tr>\n",
       "    <tr>\n",
       "      <th>2</th>\n",
       "      <td>3</td>\n",
       "      <td>0</td>\n",
       "      <td>0</td>\n",
       "      <td>0</td>\n",
       "      <td>0</td>\n",
       "      <td>0</td>\n",
       "      <td>0</td>\n",
       "      <td>0</td>\n",
       "      <td>0</td>\n",
       "      <td>0</td>\n",
       "      <td>...</td>\n",
       "      <td>0</td>\n",
       "      <td>0</td>\n",
       "      <td>0</td>\n",
       "      <td>0</td>\n",
       "      <td>0</td>\n",
       "      <td>0</td>\n",
       "      <td>0</td>\n",
       "      <td>0</td>\n",
       "      <td>0</td>\n",
       "      <td>0</td>\n",
       "    </tr>\n",
       "    <tr>\n",
       "      <th>3</th>\n",
       "      <td>4</td>\n",
       "      <td>0</td>\n",
       "      <td>0</td>\n",
       "      <td>0</td>\n",
       "      <td>0</td>\n",
       "      <td>0</td>\n",
       "      <td>0</td>\n",
       "      <td>0</td>\n",
       "      <td>0</td>\n",
       "      <td>0</td>\n",
       "      <td>...</td>\n",
       "      <td>0</td>\n",
       "      <td>0</td>\n",
       "      <td>0</td>\n",
       "      <td>0</td>\n",
       "      <td>0</td>\n",
       "      <td>0</td>\n",
       "      <td>0</td>\n",
       "      <td>0</td>\n",
       "      <td>0</td>\n",
       "      <td>0</td>\n",
       "    </tr>\n",
       "    <tr>\n",
       "      <th>4</th>\n",
       "      <td>7</td>\n",
       "      <td>0</td>\n",
       "      <td>0</td>\n",
       "      <td>0</td>\n",
       "      <td>0</td>\n",
       "      <td>0</td>\n",
       "      <td>0</td>\n",
       "      <td>0</td>\n",
       "      <td>0</td>\n",
       "      <td>0</td>\n",
       "      <td>...</td>\n",
       "      <td>0</td>\n",
       "      <td>0</td>\n",
       "      <td>0</td>\n",
       "      <td>0</td>\n",
       "      <td>0</td>\n",
       "      <td>0</td>\n",
       "      <td>0</td>\n",
       "      <td>0</td>\n",
       "      <td>0</td>\n",
       "      <td>0</td>\n",
       "    </tr>\n",
       "    <tr>\n",
       "      <th>...</th>\n",
       "      <td>...</td>\n",
       "      <td>...</td>\n",
       "      <td>...</td>\n",
       "      <td>...</td>\n",
       "      <td>...</td>\n",
       "      <td>...</td>\n",
       "      <td>...</td>\n",
       "      <td>...</td>\n",
       "      <td>...</td>\n",
       "      <td>...</td>\n",
       "      <td>...</td>\n",
       "      <td>...</td>\n",
       "      <td>...</td>\n",
       "      <td>...</td>\n",
       "      <td>...</td>\n",
       "      <td>...</td>\n",
       "      <td>...</td>\n",
       "      <td>...</td>\n",
       "      <td>...</td>\n",
       "      <td>...</td>\n",
       "      <td>...</td>\n",
       "    </tr>\n",
       "    <tr>\n",
       "      <th>33595</th>\n",
       "      <td>9</td>\n",
       "      <td>0</td>\n",
       "      <td>0</td>\n",
       "      <td>0</td>\n",
       "      <td>0</td>\n",
       "      <td>0</td>\n",
       "      <td>0</td>\n",
       "      <td>0</td>\n",
       "      <td>0</td>\n",
       "      <td>0</td>\n",
       "      <td>...</td>\n",
       "      <td>0</td>\n",
       "      <td>0</td>\n",
       "      <td>0</td>\n",
       "      <td>0</td>\n",
       "      <td>0</td>\n",
       "      <td>0</td>\n",
       "      <td>0</td>\n",
       "      <td>0</td>\n",
       "      <td>0</td>\n",
       "      <td>0</td>\n",
       "    </tr>\n",
       "    <tr>\n",
       "      <th>33596</th>\n",
       "      <td>9</td>\n",
       "      <td>0</td>\n",
       "      <td>0</td>\n",
       "      <td>0</td>\n",
       "      <td>0</td>\n",
       "      <td>0</td>\n",
       "      <td>0</td>\n",
       "      <td>0</td>\n",
       "      <td>0</td>\n",
       "      <td>0</td>\n",
       "      <td>...</td>\n",
       "      <td>0</td>\n",
       "      <td>0</td>\n",
       "      <td>0</td>\n",
       "      <td>0</td>\n",
       "      <td>0</td>\n",
       "      <td>0</td>\n",
       "      <td>0</td>\n",
       "      <td>0</td>\n",
       "      <td>0</td>\n",
       "      <td>0</td>\n",
       "    </tr>\n",
       "    <tr>\n",
       "      <th>33597</th>\n",
       "      <td>2</td>\n",
       "      <td>0</td>\n",
       "      <td>0</td>\n",
       "      <td>0</td>\n",
       "      <td>0</td>\n",
       "      <td>0</td>\n",
       "      <td>0</td>\n",
       "      <td>0</td>\n",
       "      <td>0</td>\n",
       "      <td>0</td>\n",
       "      <td>...</td>\n",
       "      <td>0</td>\n",
       "      <td>0</td>\n",
       "      <td>0</td>\n",
       "      <td>0</td>\n",
       "      <td>0</td>\n",
       "      <td>0</td>\n",
       "      <td>0</td>\n",
       "      <td>0</td>\n",
       "      <td>0</td>\n",
       "      <td>0</td>\n",
       "    </tr>\n",
       "    <tr>\n",
       "      <th>33598</th>\n",
       "      <td>6</td>\n",
       "      <td>0</td>\n",
       "      <td>0</td>\n",
       "      <td>0</td>\n",
       "      <td>0</td>\n",
       "      <td>0</td>\n",
       "      <td>0</td>\n",
       "      <td>0</td>\n",
       "      <td>0</td>\n",
       "      <td>0</td>\n",
       "      <td>...</td>\n",
       "      <td>0</td>\n",
       "      <td>0</td>\n",
       "      <td>0</td>\n",
       "      <td>0</td>\n",
       "      <td>0</td>\n",
       "      <td>0</td>\n",
       "      <td>0</td>\n",
       "      <td>0</td>\n",
       "      <td>0</td>\n",
       "      <td>0</td>\n",
       "    </tr>\n",
       "    <tr>\n",
       "      <th>33599</th>\n",
       "      <td>0</td>\n",
       "      <td>0</td>\n",
       "      <td>0</td>\n",
       "      <td>0</td>\n",
       "      <td>0</td>\n",
       "      <td>0</td>\n",
       "      <td>0</td>\n",
       "      <td>0</td>\n",
       "      <td>0</td>\n",
       "      <td>0</td>\n",
       "      <td>...</td>\n",
       "      <td>0</td>\n",
       "      <td>0</td>\n",
       "      <td>0</td>\n",
       "      <td>0</td>\n",
       "      <td>0</td>\n",
       "      <td>0</td>\n",
       "      <td>0</td>\n",
       "      <td>0</td>\n",
       "      <td>0</td>\n",
       "      <td>0</td>\n",
       "    </tr>\n",
       "  </tbody>\n",
       "</table>\n",
       "<p>33600 rows × 785 columns</p>\n",
       "</div>"
      ],
      "text/plain": [
       "       label  pixel0  pixel1  pixel2  pixel3  pixel4  pixel5  pixel6  pixel7  \\\n",
       "0          6       0       0       0       0       0       0       0       0   \n",
       "1          5       0       0       0       0       0       0       0       0   \n",
       "2          3       0       0       0       0       0       0       0       0   \n",
       "3          4       0       0       0       0       0       0       0       0   \n",
       "4          7       0       0       0       0       0       0       0       0   \n",
       "...      ...     ...     ...     ...     ...     ...     ...     ...     ...   \n",
       "33595      9       0       0       0       0       0       0       0       0   \n",
       "33596      9       0       0       0       0       0       0       0       0   \n",
       "33597      2       0       0       0       0       0       0       0       0   \n",
       "33598      6       0       0       0       0       0       0       0       0   \n",
       "33599      0       0       0       0       0       0       0       0       0   \n",
       "\n",
       "       pixel8  ...  pixel774  pixel775  pixel776  pixel777  pixel778  \\\n",
       "0           0  ...         0         0         0         0         0   \n",
       "1           0  ...         0         0         0         0         0   \n",
       "2           0  ...         0         0         0         0         0   \n",
       "3           0  ...         0         0         0         0         0   \n",
       "4           0  ...         0         0         0         0         0   \n",
       "...       ...  ...       ...       ...       ...       ...       ...   \n",
       "33595       0  ...         0         0         0         0         0   \n",
       "33596       0  ...         0         0         0         0         0   \n",
       "33597       0  ...         0         0         0         0         0   \n",
       "33598       0  ...         0         0         0         0         0   \n",
       "33599       0  ...         0         0         0         0         0   \n",
       "\n",
       "       pixel779  pixel780  pixel781  pixel782  pixel783  \n",
       "0             0         0         0         0         0  \n",
       "1             0         0         0         0         0  \n",
       "2             0         0         0         0         0  \n",
       "3             0         0         0         0         0  \n",
       "4             0         0         0         0         0  \n",
       "...         ...       ...       ...       ...       ...  \n",
       "33595         0         0         0         0         0  \n",
       "33596         0         0         0         0         0  \n",
       "33597         0         0         0         0         0  \n",
       "33598         0         0         0         0         0  \n",
       "33599         0         0         0         0         0  \n",
       "\n",
       "[33600 rows x 785 columns]"
      ]
     },
     "execution_count": 45,
     "metadata": {},
     "output_type": "execute_result"
    }
   ],
   "source": [
    "to_watch_on = pd.read_csv(\"./temp_train.csv\", low_memory=False)\n",
    "to_watch_on"
   ]
  },
  {
   "cell_type": "code",
   "execution_count": 46,
   "metadata": {
    "ExecuteTime": {
     "end_time": "2023-11-03T21:39:14.248525Z",
     "start_time": "2023-11-03T21:39:13.209003Z"
    },
    "executionInfo": {
     "elapsed": 8262,
     "status": "ok",
     "timestamp": 1699038048435,
     "user": {
      "displayName": "Степан Карпов",
      "userId": "08179695351102028322"
     },
     "user_tz": -180
    },
    "id": "LuUE2wihC4GW"
   },
   "outputs": [
    {
     "name": "stdout",
     "output_type": "stream",
     "text": [
      "Downloaded dataset with size:  (33600, 785)\n",
      "Downloaded dataset with size:  (8400, 785)\n"
     ]
    }
   ],
   "source": [
    "import os\n",
    "from torchvision.datasets import MNIST\n",
    "from torchvision import transforms as tfs\n",
    "from torch.utils.data import Dataset, DataLoader\n",
    "from torchsummary import summary\n",
    "\n",
    "data_tfs = tfs.Compose([\n",
    "    tfs.ToTensor(),\n",
    "    tfs.Normalize((0.5), (0.5))\n",
    "])\n",
    "\n",
    "# TARGET should be the first column\n",
    "\n",
    "picture_height = 28\n",
    "picture_width = 28\n",
    "\n",
    "device = \"cuda\" if torch.cuda.is_available() else \"cpu\"\n",
    "\n",
    "class CustomDataset(Dataset):\n",
    "    def __init__(self, csv_file, is_train: bool, transform=None):\n",
    "        self.is_train = is_train\n",
    "        self.data = pd.read_csv(csv_file, low_memory=False)\n",
    "        self.transform = transform\n",
    "        print(\"Downloaded dataset with size: \", self.data.shape)\n",
    "\n",
    "    def __len__(self):\n",
    "        return len(self.data)\n",
    "\n",
    "    def __getitem__(self, idx):\n",
    "        if (self.is_train):\n",
    "          features = self.data.iloc[idx, 1:].values.reshape(picture_height, picture_width).astype(np.float32)\n",
    "          target = torch.tensor(self.data.iloc[idx, 0], dtype=torch.int64)\n",
    "          target = target.to(device)\n",
    "        else:\n",
    "          features = self.data.iloc[idx, 0:].values.reshape(picture_height, picture_width).astype(np.float32)\n",
    "          target = torch.tensor(-1, dtype=torch.int32)\n",
    "\n",
    "        if self.transform:\n",
    "            features = self.transform(features)\n",
    "\n",
    "        features = features.to(dtype=torch.float32)\n",
    "        features = features.to(device)\n",
    "\n",
    "        return features, target\n",
    "\n",
    "\n",
    "train_dataset = CustomDataset(\"./temp_train.csv\", True, transform=data_tfs)\n",
    "test_dataset = CustomDataset(\"./temp_test.csv\", True, transform=data_tfs)\n",
    "\n",
    "batch_size = 128\n",
    "\n",
    "train_dataloader = DataLoader(train_dataset, batch_size=batch_size, drop_last=True, shuffle=True)\n",
    "test_dataloader = DataLoader(test_dataset, batch_size=batch_size, drop_last=True, shuffle=True)"
   ]
  },
  {
   "cell_type": "code",
   "execution_count": 47,
   "metadata": {
    "ExecuteTime": {
     "end_time": "2023-11-03T21:39:14.252825Z",
     "start_time": "2023-11-03T21:39:14.250054Z"
    },
    "colab": {
     "base_uri": "https://localhost:8080/",
     "height": 35
    },
    "executionInfo": {
     "elapsed": 7,
     "status": "ok",
     "timestamp": 1699038051822,
     "user": {
      "displayName": "Степан Карпов",
      "userId": "08179695351102028322"
     },
     "user_tz": -180
    },
    "id": "8mTlfcAyv5qq",
    "outputId": "1245acfa-1c29-4694-f4b8-c2605804b902"
   },
   "outputs": [
    {
     "data": {
      "text/plain": [
       "'cpu'"
      ]
     },
     "execution_count": 47,
     "metadata": {},
     "output_type": "execute_result"
    }
   ],
   "source": [
    "device"
   ]
  },
  {
   "cell_type": "code",
   "execution_count": 48,
   "metadata": {
    "ExecuteTime": {
     "end_time": "2023-11-03T21:39:14.314899Z",
     "start_time": "2023-11-03T21:39:14.253918Z"
    },
    "colab": {
     "base_uri": "https://localhost:8080/"
    },
    "executionInfo": {
     "elapsed": 5208,
     "status": "ok",
     "timestamp": 1699038059547,
     "user": {
      "displayName": "Степан Карпов",
      "userId": "08179695351102028322"
     },
     "user_tz": -180
    },
    "id": "QaXsbUeqwmsq",
    "outputId": "0d75d91b-62cf-46f5-c921-cd8a389474c6"
   },
   "outputs": [
    {
     "name": "stdout",
     "output_type": "stream",
     "text": [
      "------train-----\n",
      "torch.Size([128, 1, 28, 28])\n",
      "torch.float32\n",
      "torch.int64\n",
      "tensor([4, 9, 5, 7, 0, 5, 7, 4, 7, 7, 9, 5, 2, 2, 1, 8, 8, 1, 1, 3, 2, 8, 1, 4,\n",
      "        4, 5, 8, 3, 1, 2, 1, 8, 0, 6, 7, 6, 9, 9, 2, 3, 0, 3, 9, 3, 8, 2, 3, 0,\n",
      "        5, 4, 0, 6, 3, 2, 5, 7, 7, 5, 9, 7, 0, 5, 2, 7, 8, 1, 2, 5, 6, 2, 4, 6,\n",
      "        1, 2, 3, 4, 3, 4, 6, 0, 4, 4, 7, 1, 5, 7, 8, 0, 5, 2, 7, 7, 4, 5, 0, 4,\n",
      "        7, 0, 0, 8, 1, 9, 5, 0, 2, 1, 1, 4, 0, 2, 9, 5, 9, 4, 9, 1, 1, 0, 9, 4,\n",
      "        2, 3, 8, 3, 4, 9, 8, 5])\n",
      "------test-----\n",
      "torch.Size([128, 1, 28, 28])\n",
      "torch.float32\n",
      "tensor([1, 0, 6, 1, 4, 4, 8, 5, 7, 9, 0, 1, 7, 2, 1, 8, 3, 4, 0, 4, 5, 3, 2, 5,\n",
      "        9, 9, 1, 5, 8, 6, 6, 4, 0, 8, 0, 1, 3, 6, 7, 1, 0, 3, 6, 5, 8, 1, 2, 8,\n",
      "        7, 0, 0, 5, 8, 7, 8, 1, 4, 2, 4, 3, 4, 9, 3, 8, 5, 2, 4, 2, 0, 1, 2, 2,\n",
      "        9, 1, 2, 8, 7, 3, 1, 2, 9, 3, 1, 2, 5, 8, 5, 3, 7, 9, 8, 6, 7, 0, 5, 9,\n",
      "        7, 6, 2, 0, 1, 4, 4, 3, 1, 2, 3, 6, 1, 1, 1, 1, 1, 1, 4, 8, 2, 1, 6, 4,\n",
      "        4, 8, 4, 3, 5, 8, 9, 5])\n"
     ]
    }
   ],
   "source": [
    "print(\"------train-----\")\n",
    "for x, y in train_dataloader:\n",
    "  print(x.shape)\n",
    "  print(x.dtype)\n",
    "  print(y.dtype)\n",
    "  print(y)\n",
    "  break\n",
    "print(\"------test-----\")\n",
    "for x, y in test_dataloader:\n",
    "  print(x.shape)\n",
    "  print(x.dtype)\n",
    "  print(y)\n",
    "  break"
   ]
  },
  {
   "cell_type": "markdown",
   "metadata": {
    "id": "4t2w2XtSB1Hd"
   },
   "source": [
    "## Part 1 - fully-connected neural networks\n",
    "Lets solve MNIST with FC NN."
   ]
  },
  {
   "cell_type": "markdown",
   "metadata": {
    "id": "HMtCBdCA-4bj"
   },
   "source": [
    "### Here is a simple neural network\n",
    "\n",
    "Lets build simple network with Sequential class. The network itself contains:\n",
    "* (nn.Flatten);\n",
    "* Two hidden layers 128 neurons each with nn.ELU activation\n",
    "* Output layer with 10 neurons\n",
    "\n",
    "We will use cross-entropy loss function\n"
   ]
  },
  {
   "cell_type": "code",
   "execution_count": 49,
   "metadata": {
    "ExecuteTime": {
     "end_time": "2023-11-03T21:39:14.321003Z",
     "start_time": "2023-11-03T21:39:14.316266Z"
    },
    "colab": {
     "base_uri": "https://localhost:8080/"
    },
    "executionInfo": {
     "elapsed": 409,
     "status": "ok",
     "timestamp": 1699038063660,
     "user": {
      "displayName": "Степан Карпов",
      "userId": "08179695351102028322"
     },
     "user_tz": -180
    },
    "id": "ulxWHddEiQCr",
    "outputId": "29b1bcc6-4cfc-42a1-d4d1-e5e659dbac68"
   },
   "outputs": [
    {
     "data": {
      "text/plain": [
       "Sequential(\n",
       "  (0): Flatten(start_dim=1, end_dim=-1)\n",
       "  (1): Linear(in_features=784, out_features=128, bias=True)\n",
       "  (2): ELU(alpha=1.0)\n",
       "  (3): Linear(in_features=128, out_features=128, bias=True)\n",
       "  (4): ELU(alpha=1.0)\n",
       "  (5): Linear(in_features=128, out_features=10, bias=True)\n",
       ")"
      ]
     },
     "execution_count": 49,
     "metadata": {},
     "output_type": "execute_result"
    }
   ],
   "source": [
    "activation = nn.ELU\n",
    "features = picture_height * picture_width   # number of flattened array\n",
    "classes = 10                                # number of classes\n",
    "\n",
    "model = nn.Sequential(\n",
    "    nn.Flatten(),\n",
    "    nn.Linear(features, 128),\n",
    "    activation(),\n",
    "    nn.Linear(128, 128),\n",
    "    activation(),\n",
    "    nn.Linear(128, classes),\n",
    "    # don't need softmax here!\n",
    ")\n",
    "model.to(device)"
   ]
  },
  {
   "cell_type": "code",
   "execution_count": 50,
   "metadata": {
    "ExecuteTime": {
     "end_time": "2023-11-03T21:39:14.327911Z",
     "start_time": "2023-11-03T21:39:14.322599Z"
    },
    "colab": {
     "base_uri": "https://localhost:8080/"
    },
    "executionInfo": {
     "elapsed": 3069,
     "status": "ok",
     "timestamp": 1699038070726,
     "user": {
      "displayName": "Степан Карпов",
      "userId": "08179695351102028322"
     },
     "user_tz": -180
    },
    "id": "ejw0_G4vYgSO",
    "outputId": "683f8161-529a-4e71-9fae-64df35f5ec74"
   },
   "outputs": [
    {
     "name": "stdout",
     "output_type": "stream",
     "text": [
      "----------------------------------------------------------------\n",
      "        Layer (type)               Output Shape         Param #\n",
      "================================================================\n",
      "           Flatten-1                 [128, 784]               0\n",
      "            Linear-2                 [128, 128]         100,480\n",
      "               ELU-3                 [128, 128]               0\n",
      "            Linear-4                 [128, 128]          16,512\n",
      "               ELU-5                 [128, 128]               0\n",
      "            Linear-6                  [128, 10]           1,290\n",
      "================================================================\n",
      "Total params: 118,282\n",
      "Trainable params: 118,282\n",
      "Non-trainable params: 0\n",
      "----------------------------------------------------------------\n",
      "Input size (MB): 0.38\n",
      "Forward/backward pass size (MB): 1.28\n",
      "Params size (MB): 0.45\n",
      "Estimated Total Size (MB): 2.11\n",
      "----------------------------------------------------------------\n"
     ]
    }
   ],
   "source": [
    "summary(model, (features,), batch_size=batch_size)"
   ]
  },
  {
   "cell_type": "code",
   "execution_count": 51,
   "metadata": {
    "ExecuteTime": {
     "end_time": "2023-11-03T21:39:14.333020Z",
     "start_time": "2023-11-03T21:39:14.330231Z"
    },
    "executionInfo": {
     "elapsed": 478,
     "status": "ok",
     "timestamp": 1699038076111,
     "user": {
      "displayName": "Степан Карпов",
      "userId": "08179695351102028322"
     },
     "user_tz": -180
    },
    "id": "FIl6z-AfivcK"
   },
   "outputs": [],
   "source": [
    "criterion = nn.CrossEntropyLoss()\n",
    "optimizer = torch.optim.Adam(model.parameters())\n",
    "\n",
    "loaders = {\"train\": train_dataloader, \"test\": test_dataloader}"
   ]
  },
  {
   "cell_type": "markdown",
   "metadata": {
    "id": "4Xl_HawRGRAe"
   },
   "source": [
    "### Train loop\n",
    "\n",
    "\n",
    "```python\n",
    "for epoch in range(max_epochs):  # <--------------- итерируемся по датасету несколько раз\n",
    "    for k, dataloader in loaders.items():  # <----- несколько dataloader для train / valid / test\n",
    "        for x_batch, y_batch in dataloader:  # <--- итерируемся по датасету. Так как мы используем SGD а не GD, то берем батчи заданного размера\n",
    "            if k == \"train\":\n",
    "                model.train()  # <------------------ переводим модель в режим train\n",
    "                optimizer.zero_grad()  # <--------- обнуляем градиенты модели\n",
    "                outp = model(x_batch)\n",
    "                loss = criterion(outp, y_batch) # <-считаем \"лосс\" для логистической регрессии\n",
    "                loss.backward()  # <--------------- считаем градиенты\n",
    "                optimizer.step()  # <-------------- делаем шаг градиентного спуска\n",
    "            else:  # <----------------------------- test/eval\n",
    "                model.eval()  # <------------------ переводим модель в режим eval\n",
    "                with torch.no_grad():  # <--------- НЕ считаем градиенты\n",
    "                    outp = model(x_batch)  # <------------- получаем \"логиты\" из модели\n",
    "            count_metrics(outp, y_batch)  # <-------------- считаем метрики\n",
    "```"
   ]
  },
  {
   "cell_type": "markdown",
   "metadata": {
    "id": "raKQWwQm_9Ff"
   },
   "source": [
    "### Training process"
   ]
  },
  {
   "cell_type": "code",
   "execution_count": 52,
   "metadata": {
    "ExecuteTime": {
     "end_time": "2023-11-03T21:40:36.774243Z",
     "start_time": "2023-11-03T21:39:14.334538Z"
    },
    "colab": {
     "base_uri": "https://localhost:8080/"
    },
    "executionInfo": {
     "elapsed": 277796,
     "status": "ok",
     "timestamp": 1699038356425,
     "user": {
      "displayName": "Степан Карпов",
      "userId": "08179695351102028322"
     },
     "user_tz": -180
    },
    "id": "3Tmo1lsHjBE6",
    "outputId": "89b21ac6-3896-4876-80a8-85da8d3a0ee6"
   },
   "outputs": [
    {
     "name": "stdout",
     "output_type": "stream",
     "text": [
      "Epoch: 1\n",
      "Loader: train. Accuracy: 0.863668893129771\n",
      "Loader: test. Accuracy: 0.9252403846153846\n",
      "Epoch: 2\n",
      "Loader: train. Accuracy: 0.9419429866412213\n",
      "Loader: test. Accuracy: 0.9346153846153846\n",
      "Epoch: 3\n",
      "Loader: train. Accuracy: 0.9518427958015268\n",
      "Loader: test. Accuracy: 0.940264423076923\n",
      "Epoch: 4\n",
      "Loader: train. Accuracy: 0.9641579198473282\n",
      "Loader: test. Accuracy: 0.9497596153846154\n",
      "Epoch: 5\n",
      "Loader: train. Accuracy: 0.9684518129770993\n",
      "Loader: test. Accuracy: 0.9485576923076923\n",
      "Epoch: 6\n",
      "Loader: train. Accuracy: 0.9732824427480916\n",
      "Loader: test. Accuracy: 0.9474759615384616\n",
      "Epoch: 7\n",
      "Loader: train. Accuracy: 0.9725667938931297\n",
      "Loader: test. Accuracy: 0.9556490384615385\n",
      "Epoch: 8\n",
      "Loader: train. Accuracy: 0.9753101145038168\n",
      "Loader: test. Accuracy: 0.9526442307692308\n",
      "Epoch: 9\n",
      "Loader: train. Accuracy: 0.9782621660305344\n",
      "Loader: test. Accuracy: 0.9568509615384615\n",
      "Epoch: 10\n",
      "Loader: train. Accuracy: 0.9795443702290076\n",
      "Loader: test. Accuracy: 0.9597355769230769\n"
     ]
    }
   ],
   "source": [
    "max_epochs = 10\n",
    "accuracy = {\"train\": [], \"test\": []}\n",
    "for epoch in range(max_epochs):\n",
    "    for k, dataloader in loaders.items():\n",
    "        epoch_correct = 0\n",
    "        epoch_all = 0\n",
    "        for x_batch, y_batch in dataloader:\n",
    "            x_batch = x_batch.to(device)\n",
    "            y_batch = y_batch.to(device)\n",
    "            if k == \"train\":\n",
    "                model.train()\n",
    "                optimizer.zero_grad()\n",
    "                outp = model(x_batch)\n",
    "            else:\n",
    "                model.eval()\n",
    "                with torch.no_grad():\n",
    "                  outp = model(x_batch)\n",
    "            preds = outp.argmax(-1)\n",
    "            correct = (preds == y_batch).sum()\n",
    "            all =  batch_size\n",
    "            epoch_correct += correct.item()\n",
    "            epoch_all += all\n",
    "            if k == \"train\":\n",
    "                loss = criterion(outp, y_batch)\n",
    "                loss.backward()\n",
    "                optimizer.step()\n",
    "        if k == \"train\":\n",
    "            print(f\"Epoch: {epoch+1}\")\n",
    "        print(f\"Loader: {k}. Accuracy: {epoch_correct/epoch_all}\")\n",
    "        accuracy[k].append(epoch_correct/epoch_all)\n"
   ]
  },
  {
   "cell_type": "markdown",
   "metadata": {
    "id": "fFRxO1-FK9U9"
   },
   "source": [
    "### Задание. Протестируйте разные функции активации.\n",
    "Попробуйте разные функции активации. Для каждой функции активации посчитайте массив validation accuracy. Лучше реализовать это в виде функции, берущей на вход активацию и получающей массив из accuracies."
   ]
  },
  {
   "cell_type": "code",
   "execution_count": 58,
   "metadata": {
    "ExecuteTime": {
     "end_time": "2023-11-03T21:41:37.335381Z",
     "start_time": "2023-11-03T21:41:37.332989Z"
    },
    "id": "SezseDhEqhm2"
   },
   "outputs": [],
   "source": [
    "elu_accuracy = accuracy"
   ]
  },
  {
   "cell_type": "code",
   "execution_count": 59,
   "metadata": {
    "ExecuteTime": {
     "end_time": "2023-11-03T21:41:37.799412Z",
     "start_time": "2023-11-03T21:41:37.789530Z"
    },
    "id": "lSVBlHtuAUAh"
   },
   "outputs": [],
   "source": [
    "def test_activation_function(activation):\n",
    "  print(\"Testing new activation function: \", activation)\n",
    "  features = 784  # number of flattened array\n",
    "  classes = 10    # number of classes\n",
    "\n",
    "  model = nn.Sequential(\n",
    "      nn.Flatten(),\n",
    "      nn.Linear(features, 128),\n",
    "      activation(),\n",
    "      nn.Linear(128, 128),\n",
    "      activation(),\n",
    "      nn.Linear(128, classes),\n",
    "      # don't need softmax here!\n",
    "  )\n",
    "  model.to(device)\n",
    "  criterion = nn.CrossEntropyLoss()\n",
    "  optimizer = torch.optim.Adam(model.parameters())\n",
    "\n",
    "  loaders = {\"train\": train_dataloader, \"test\": test_dataloader}\n",
    "\n",
    "  max_epochs = 5\n",
    "  accuracy = {\"train\": [], \"test\": []}\n",
    "  for epoch in range(max_epochs):\n",
    "      for k, dataloader in loaders.items():\n",
    "          epoch_correct = 0\n",
    "          epoch_all = 0\n",
    "          for x_batch, y_batch in dataloader:\n",
    "              x_batch = x_batch.to(device)\n",
    "              y_batch = y_batch.to(device)\n",
    "              if k == \"train\":\n",
    "                  model.train()\n",
    "                  optimizer.zero_grad()\n",
    "                  outp = model(x_batch)\n",
    "              else:\n",
    "                  model.eval()\n",
    "                  with torch.no_grad():\n",
    "                    outp = model(x_batch)\n",
    "              preds = outp.argmax(-1)\n",
    "              correct = (preds == y_batch).sum()\n",
    "              all =  batch_size\n",
    "              epoch_correct += correct.item()\n",
    "              epoch_all += all\n",
    "              if k == \"train\":\n",
    "                  loss = criterion(outp, y_batch)\n",
    "                  loss.backward()\n",
    "                  optimizer.step()\n",
    "          if k == \"train\":\n",
    "              print(f\"Epoch: {epoch+1}\")\n",
    "          print(f\"Loader: {k}. Accuracy: {epoch_correct/epoch_all}\")\n",
    "          accuracy[k].append(epoch_correct/epoch_all)\n",
    "  return accuracy"
   ]
  },
  {
   "cell_type": "code",
   "execution_count": 60,
   "metadata": {
    "ExecuteTime": {
     "end_time": "2023-11-03T21:41:39.051380Z",
     "start_time": "2023-11-03T21:41:39.048617Z"
    },
    "id": "pbdeZ9myx2Cz"
   },
   "outputs": [],
   "source": [
    "class Identical(nn.Module):\n",
    "    def forward(self, x):\n",
    "        return x"
   ]
  },
  {
   "cell_type": "code",
   "execution_count": 61,
   "metadata": {
    "ExecuteTime": {
     "end_time": "2023-11-03T21:45:05.838299Z",
     "start_time": "2023-11-03T21:41:39.669532Z"
    },
    "colab": {
     "base_uri": "https://localhost:8080/"
    },
    "executionInfo": {
     "elapsed": 1002151,
     "status": "ok",
     "timestamp": 1698925349741,
     "user": {
      "displayName": "Степан Карпов",
      "userId": "08179695351102028322"
     },
     "user_tz": -180
    },
    "id": "a1iXow0Tqsri",
    "outputId": "19fa42e0-3830-49f3-f15f-f363928dcc73"
   },
   "outputs": [
    {
     "name": "stdout",
     "output_type": "stream",
     "text": [
      "Testing new activation function:  <class '__main__.Identical'>\n",
      "Epoch: 1\n",
      "Loader: train. Accuracy: 0.8440780057251909\n",
      "Loader: test. Accuracy: 0.8641826923076923\n",
      "Epoch: 2\n",
      "Loader: train. Accuracy: 0.8642950858778626\n",
      "Loader: test. Accuracy: 0.8579326923076923\n",
      "Epoch: 3\n",
      "Loader: train. Accuracy: 0.8688871660305344\n",
      "Loader: test. Accuracy: 0.8600961538461539\n",
      "Epoch: 4\n",
      "Loader: train. Accuracy: 0.8745229007633588\n",
      "Loader: test. Accuracy: 0.8606971153846154\n",
      "Epoch: 5\n",
      "Loader: train. Accuracy: 0.885555820610687\n",
      "Loader: test. Accuracy: 0.8849759615384616\n",
      "Testing new activation function:  <class 'torch.nn.modules.activation.ReLU'>\n",
      "Epoch: 1\n",
      "Loader: train. Accuracy: 0.8784291507633588\n",
      "Loader: test. Accuracy: 0.9229567307692308\n",
      "Epoch: 2\n",
      "Loader: train. Accuracy: 0.9436426526717557\n",
      "Loader: test. Accuracy: 0.9389423076923077\n",
      "Epoch: 3\n",
      "Loader: train. Accuracy: 0.9599236641221374\n",
      "Loader: test. Accuracy: 0.9432692307692307\n",
      "Epoch: 4\n",
      "Loader: train. Accuracy: 0.9673485209923665\n",
      "Loader: test. Accuracy: 0.9557692307692308\n",
      "Epoch: 5\n",
      "Loader: train. Accuracy: 0.9718809637404581\n",
      "Loader: test. Accuracy: 0.9544471153846154\n",
      "Testing new activation function:  <class 'torch.nn.modules.activation.LeakyReLU'>\n",
      "Epoch: 1\n",
      "Loader: train. Accuracy: 0.8689766221374046\n",
      "Loader: test. Accuracy: 0.9245192307692308\n",
      "Epoch: 2\n",
      "Loader: train. Accuracy: 0.9425989980916031\n",
      "Loader: test. Accuracy: 0.9371394230769231\n",
      "Epoch: 3\n",
      "Loader: train. Accuracy: 0.9575381679389313\n",
      "Loader: test. Accuracy: 0.9443509615384615\n",
      "Epoch: 4\n",
      "Loader: train. Accuracy: 0.9667223282442748\n",
      "Loader: test. Accuracy: 0.9555288461538461\n",
      "Epoch: 5\n",
      "Loader: train. Accuracy: 0.9718511450381679\n",
      "Loader: test. Accuracy: 0.9512019230769231\n",
      "Testing new activation function:  <class 'torch.nn.modules.activation.Tanh'>\n",
      "Epoch: 1\n",
      "Loader: train. Accuracy: 0.8167640744274809\n",
      "Loader: test. Accuracy: 0.8570913461538462\n",
      "Epoch: 2\n",
      "Loader: train. Accuracy: 0.8607764790076335\n",
      "Loader: test. Accuracy: 0.8728365384615384\n",
      "Epoch: 3\n",
      "Loader: train. Accuracy: 0.8693344465648855\n",
      "Loader: test. Accuracy: 0.8578125\n",
      "Epoch: 4\n",
      "Loader: train. Accuracy: 0.8725846851145038\n",
      "Loader: test. Accuracy: 0.8769230769230769\n",
      "Epoch: 5\n",
      "Loader: train. Accuracy: 0.8776538645038168\n",
      "Loader: test. Accuracy: 0.8794471153846154\n",
      "Testing new activation function:  <class 'torch.nn.modules.activation.Sigmoid'>\n",
      "Epoch: 1\n",
      "Loader: train. Accuracy: 0.7572161259541985\n",
      "Loader: test. Accuracy: 0.8742788461538461\n",
      "Epoch: 2\n",
      "Loader: train. Accuracy: 0.8848699904580153\n",
      "Loader: test. Accuracy: 0.8870192307692307\n",
      "Epoch: 3\n",
      "Loader: train. Accuracy: 0.8908337309160306\n",
      "Loader: test. Accuracy: 0.8899038461538461\n",
      "Epoch: 4\n",
      "Loader: train. Accuracy: 0.8970360209923665\n",
      "Loader: test. Accuracy: 0.8842548076923077\n",
      "Epoch: 5\n",
      "Loader: train. Accuracy: 0.9011211832061069\n",
      "Loader: test. Accuracy: 0.9051682692307692\n"
     ]
    }
   ],
   "source": [
    "plain_accuracy = test_activation_function(Identical)\n",
    "relu_accuracy = test_activation_function(nn.ReLU)\n",
    "leaky_relu_accuracy = test_activation_function(nn.LeakyReLU)\n",
    "tanh_accuracy = test_activation_function(nn.Tanh)\n",
    "sigmoid_accuracy = test_activation_function(nn.Sigmoid)"
   ]
  },
  {
   "cell_type": "markdown",
   "metadata": {
    "id": "FK07mms3FwNd"
   },
   "source": [
    "### Accuracy\n",
    "Lets build accuracy/epoch plot for each activation function"
   ]
  },
  {
   "cell_type": "code",
   "execution_count": 62,
   "metadata": {
    "ExecuteTime": {
     "end_time": "2023-11-03T21:45:13.116978Z",
     "start_time": "2023-11-03T21:45:12.958021Z"
    },
    "colab": {
     "base_uri": "https://localhost:8080/",
     "height": 702
    },
    "executionInfo": {
     "elapsed": 860,
     "status": "ok",
     "timestamp": 1698927890037,
     "user": {
      "displayName": "Степан Карпов",
      "userId": "08179695351102028322"
     },
     "user_tz": -180
    },
    "id": "cvKclpM5r-P3",
    "outputId": "70b126c7-a738-4f59-f7d4-4b8718373913"
   },
   "outputs": [
    {
     "data": {
      "image/png": "[encoded data removed]",
      "text/plain": [
       "<Figure size 1152x720 with 1 Axes>"
      ]
     },
     "metadata": {},
     "output_type": "display_data"
    }
   ],
   "source": [
    "sns.set(style=\"darkgrid\", font_scale=1.4)\n",
    "\n",
    "x_size = len(relu_accuracy['test'])\n",
    "\n",
    "plt.figure(figsize=(16, 10))\n",
    "plt.title(\"Test accuracy\")\n",
    "plt.plot(range(x_size), plain_accuracy['test'], label=\"No activation\", linewidth=2)\n",
    "plt.plot(range(x_size), relu_accuracy['test'], label=\"ReLU activation\", linewidth=2)\n",
    "plt.plot(range(x_size), leaky_relu_accuracy['test'], label=\"LeakyReLU activation\", linewidth=2)\n",
    "plt.plot(range(x_size), tanh_accuracy['test'], label=\"tanh activation\", linewidth=2)\n",
    "plt.plot(range(x_size), sigmoid_accuracy['test'], label=\"sigmoid activation\", linewidth=2)\n",
    "plt.plot(range(x_size), elu_accuracy['test'][:x_size], label=\"ELU activation\", linewidth=2)\n",
    "plt.legend()\n",
    "plt.xlabel(\"Epoch\")\n",
    "plt.show()"
   ]
  },
  {
   "cell_type": "markdown",
   "metadata": {
    "id": "ebq7icV8CbrU"
   },
   "source": [
    "## Part 2 - convolutional neural networks"
   ]
  },
  {
   "cell_type": "markdown",
   "metadata": {
    "id": "4b9ib9saC9Vb"
   },
   "source": [
    "### LeNet\n",
    "\n",
    "Convolutional NN shows much better results in CV. Lets use them!\n",
    "\n",
    "Our CNN has:\n",
    "* Convilution 3x3 (1 input, 6 output) with ReLU activation\n",
    "* MaxPooling-а 2x2\n",
    "* Convilution 3x3 (6 input, 16 output) with ReLU activation\n",
    "* MaxPooling-а 2x2\n",
    "* (nn.Flatten)\n",
    "* Fully-connected layer with 120 neurons and ReLU activation\n",
    "* Fully-connected layer with 84  neurons and ReLU activation\n",
    "* Output layer with 10 neurons\n",
    "\n",
    "\n"
   ]
  },
  {
   "cell_type": "code",
   "execution_count": 66,
   "metadata": {
    "ExecuteTime": {
     "end_time": "2023-11-03T21:45:52.121982Z",
     "start_time": "2023-11-03T21:45:52.114441Z"
    },
    "id": "lE8qJByKC-u0"
   },
   "outputs": [],
   "source": [
    "class LeNet(nn.Module):\n",
    "    def __init__(self):\n",
    "        super(LeNet, self).__init__()\n",
    "        # 1 input image channel, 6 output channels, 3x3 square conv kernel\n",
    "        self.conv1 = nn.Conv2d(1, 6, 3)\n",
    "        self.pool1 = nn.MaxPool2d(kernel_size=2, stride=2)\n",
    "        self.conv2 = nn.Conv2d(6, 16, 3)\n",
    "        self.pool2 = nn.MaxPool2d(kernel_size=2, stride=2)\n",
    "        self.fc1 = nn.Linear(16 * 5 * 5, 300)\n",
    "        self.fc2 = nn.Linear(300, 200)\n",
    "        self.fc3 = nn.Linear(200, 10)\n",
    "\n",
    "    def forward(self, x):\n",
    "        x = self.pool1(F.relu(self.conv1(x)))\n",
    "        x = self.pool2(F.relu(self.conv2(x)))\n",
    "        x = x.view(-1, 5 * 5 * 16)\n",
    "        x = F.relu(self.fc1(x))\n",
    "        x = F.relu(self.fc2(x))\n",
    "        x = self.fc3(x)\n",
    "        return x"
   ]
  },
  {
   "cell_type": "code",
   "execution_count": 67,
   "metadata": {
    "ExecuteTime": {
     "end_time": "2023-11-03T21:45:54.217259Z",
     "start_time": "2023-11-03T21:45:54.211549Z"
    },
    "id": "dgfBX_HPyd_z"
   },
   "outputs": [],
   "source": [
    "model = LeNet().to(device)\n",
    "\n",
    "criterion = nn.CrossEntropyLoss()\n",
    "optimizer = torch.optim.Adam(model.parameters())\n",
    "\n",
    "loaders = {\"train\": train_dataloader, \"test\": test_dataloader}"
   ]
  },
  {
   "cell_type": "markdown",
   "metadata": {
    "id": "J21MIKtjRNWA"
   },
   "source": [
    "### CNN training"
   ]
  },
  {
   "cell_type": "code",
   "execution_count": 68,
   "metadata": {
    "ExecuteTime": {
     "end_time": "2023-11-03T21:47:35.180713Z",
     "start_time": "2023-11-03T21:46:00.117183Z"
    },
    "colab": {
     "base_uri": "https://localhost:8080/"
    },
    "executionInfo": {
     "elapsed": 193443,
     "status": "ok",
     "timestamp": 1698928090877,
     "user": {
      "displayName": "Степан Карпов",
      "userId": "08179695351102028322"
     },
     "user_tz": -180
    },
    "id": "X06XkVKiFQLi",
    "outputId": "d10bd69f-1771-4961-a515-a4bff67bee01"
   },
   "outputs": [
    {
     "name": "stdout",
     "output_type": "stream",
     "text": [
      "Epoch: 1\n",
      "Loader: train. Accuracy: 0.8987655057251909\n",
      "Loader: test. Accuracy: 0.9564903846153846\n",
      "Epoch: 2\n",
      "Loader: train. Accuracy: 0.9717616889312977\n",
      "Loader: test. Accuracy: 0.9742788461538462\n",
      "Epoch: 3\n",
      "Loader: train. Accuracy: 0.9808265744274809\n",
      "Loader: test. Accuracy: 0.9787259615384616\n",
      "Epoch: 4\n",
      "Loader: train. Accuracy: 0.9846731870229007\n",
      "Loader: test. Accuracy: 0.9814903846153846\n",
      "Epoch: 5\n",
      "Loader: train. Accuracy: 0.9883110687022901\n",
      "Loader: test. Accuracy: 0.9770432692307692\n",
      "Epoch: 6\n",
      "Loader: train. Accuracy: 0.9899510973282443\n",
      "Loader: test. Accuracy: 0.9801682692307693\n",
      "Epoch: 7\n",
      "Loader: train. Accuracy: 0.9908158396946565\n",
      "Loader: test. Accuracy: 0.9828125\n",
      "Epoch: 8\n",
      "Loader: train. Accuracy: 0.9931416984732825\n",
      "Loader: test. Accuracy: 0.9829326923076923\n",
      "Epoch: 9\n",
      "Loader: train. Accuracy: 0.9931715171755725\n",
      "Loader: test. Accuracy: 0.9823317307692307\n",
      "Epoch: 10\n",
      "Loader: train. Accuracy: 0.9946326335877863\n",
      "Loader: test. Accuracy: 0.9807692307692307\n"
     ]
    }
   ],
   "source": [
    "max_epochs = 10\n",
    "accuracy = {\"train\": [], \"test\": []}\n",
    "for epoch in range(max_epochs):\n",
    "    for k, dataloader in loaders.items():\n",
    "        epoch_correct = 0\n",
    "        epoch_all = 0\n",
    "        for x_batch, y_batch in dataloader:\n",
    "            x_batch = x_batch.to(device)\n",
    "            y_batch = y_batch.to(device)\n",
    "            if k == \"train\":\n",
    "                model.train()\n",
    "                optimizer.zero_grad()\n",
    "                outp = model(x_batch)\n",
    "            else:\n",
    "                model.eval()\n",
    "                with torch.no_grad():\n",
    "                  outp = model(x_batch)\n",
    "            preds = outp.argmax(-1)\n",
    "            correct = (preds == y_batch).sum()\n",
    "            all =  batch_size\n",
    "            epoch_correct += correct.item()\n",
    "            epoch_all += all\n",
    "            if k == \"train\":\n",
    "                loss = criterion(outp, y_batch)\n",
    "                loss.backward()\n",
    "                optimizer.step()\n",
    "        if k == \"train\":\n",
    "            print(f\"Epoch: {epoch+1}\")\n",
    "        print(f\"Loader: {k}. Accuracy: {epoch_correct/epoch_all}\")\n",
    "        accuracy[k].append(epoch_correct/epoch_all)"
   ]
  },
  {
   "cell_type": "code",
   "execution_count": 69,
   "metadata": {
    "ExecuteTime": {
     "end_time": "2023-11-03T21:47:38.726810Z",
     "start_time": "2023-11-03T21:47:38.724408Z"
    },
    "id": "uFT5XKS1ytA2"
   },
   "outputs": [],
   "source": [
    "lenet_accuracy = accuracy"
   ]
  },
  {
   "cell_type": "code",
   "execution_count": 70,
   "metadata": {
    "ExecuteTime": {
     "end_time": "2023-11-03T21:47:40.291649Z",
     "start_time": "2023-11-03T21:47:40.123660Z"
    },
    "colab": {
     "base_uri": "https://localhost:8080/",
     "height": 702
    },
    "executionInfo": {
     "elapsed": 607,
     "status": "ok",
     "timestamp": 1698928097517,
     "user": {
      "displayName": "Степан Карпов",
      "userId": "08179695351102028322"
     },
     "user_tz": -180
    },
    "id": "VDq6pSi_yytp",
    "outputId": "83d12355-351d-4e9e-bbf3-c2c42edf7b14"
   },
   "outputs": [
    {
     "data": {
      "image/png": "[encoded data removed]",
      "text/plain": [
       "<Figure size 1152x720 with 1 Axes>"
      ]
     },
     "metadata": {},
     "output_type": "display_data"
    }
   ],
   "source": [
    "plt.figure(figsize=(16, 10))\n",
    "plt.title(\"Test accuracy\")\n",
    "plt.plot(range(x_size), plain_accuracy['test'], label=\"No activation\", linewidth=2)\n",
    "plt.plot(range(x_size), relu_accuracy['test'], label=\"ReLU activation\", linewidth=2)\n",
    "plt.plot(range(x_size), leaky_relu_accuracy['test'], label=\"LeakyReLU activation\", linewidth=2)\n",
    "plt.plot(range(x_size), tanh_accuracy['test'], label=\"tanh activation\", linewidth=2)\n",
    "plt.plot(range(x_size), sigmoid_accuracy['test'], label=\"sigmoid activation\", linewidth=2)\n",
    "plt.plot(range(x_size), elu_accuracy['test'][:x_size], label=\"ELU activation\", linewidth=2)\n",
    "plt.plot(range(x_size), lenet_accuracy['test'][:x_size], label=\"LeNet\", linewidth=2)\n",
    "plt.legend()\n",
    "plt.xlabel(\"Epoch\")\n",
    "plt.show()"
   ]
  },
  {
   "cell_type": "markdown",
   "metadata": {
    "id": "A3NCpTE3726m"
   },
   "source": [
    "\n",
    "\n",
    "**Result:** `epochs = 10 -> accuracy = 0.988`"
   ]
  },
  {
   "cell_type": "markdown",
   "metadata": {
    "id": "WfixibQW9Ten"
   },
   "source": [
    "# Training on the full dataset\n"
   ]
  },
  {
   "cell_type": "code",
   "execution_count": 71,
   "metadata": {
    "ExecuteTime": {
     "end_time": "2023-11-03T21:50:23.290043Z",
     "start_time": "2023-11-03T21:47:46.772323Z"
    },
    "colab": {
     "base_uri": "https://localhost:8080/"
    },
    "executionInfo": {
     "elapsed": 184092,
     "status": "ok",
     "timestamp": 1698930383574,
     "user": {
      "displayName": "Степан Карпов",
      "userId": "08179695351102028322"
     },
     "user_tz": -180
    },
    "id": "9QtxKryW9XHL",
    "outputId": "2aebf6fe-f654-41ec-bb73-dc829cda0f2f"
   },
   "outputs": [
    {
     "name": "stdout",
     "output_type": "stream",
     "text": [
      "Downloaded dataset with size:  (42000, 785)\n",
      "Epoch: 1\n",
      "Loader: train. Accuracy: 0.8677380952380952\n",
      "Epoch: 2\n",
      "Loader: train. Accuracy: 0.9688809523809524\n",
      "Epoch: 3\n",
      "Loader: train. Accuracy: 0.9793809523809524\n",
      "Epoch: 4\n",
      "Loader: train. Accuracy: 0.9851666666666666\n",
      "Epoch: 5\n",
      "Loader: train. Accuracy: 0.987904761904762\n",
      "Epoch: 6\n",
      "Loader: train. Accuracy: 0.9895952380952381\n",
      "Epoch: 7\n",
      "Loader: train. Accuracy: 0.9926190476190476\n",
      "Epoch: 8\n",
      "Loader: train. Accuracy: 0.9935\n",
      "Epoch: 9\n",
      "Loader: train. Accuracy: 0.9943571428571428\n",
      "Epoch: 10\n",
      "Loader: train. Accuracy: 0.9950238095238095\n",
      "Epoch: 11\n",
      "Loader: train. Accuracy: 0.9945714285714286\n",
      "Epoch: 12\n",
      "Loader: train. Accuracy: 0.9955238095238095\n",
      "Epoch: 13\n",
      "Loader: train. Accuracy: 0.9962857142857143\n",
      "Epoch: 14\n",
      "Loader: train. Accuracy: 0.9961666666666666\n",
      "Epoch: 15\n",
      "Loader: train. Accuracy: 0.9962857142857143\n",
      "Epoch: 16\n",
      "Loader: train. Accuracy: 0.9979285714285714\n",
      "Epoch: 17\n",
      "Loader: train. Accuracy: 0.9955238095238095\n",
      "Epoch: 18\n",
      "Loader: train. Accuracy: 0.9958571428571429\n",
      "Epoch: 19\n",
      "Loader: train. Accuracy: 0.9949523809523809\n",
      "Epoch: 20\n",
      "Loader: train. Accuracy: 0.9983809523809524\n",
      "Epoch: 21\n",
      "Loader: train. Accuracy: 0.9978571428571429\n",
      "Epoch: 22\n",
      "Loader: train. Accuracy: 0.9969523809523809\n",
      "Epoch: 23\n",
      "Loader: train. Accuracy: 0.9962142857142857\n",
      "Epoch: 24\n",
      "Loader: train. Accuracy: 0.9971190476190476\n",
      "Epoch: 25\n",
      "Loader: train. Accuracy: 0.9967380952380952\n",
      "Epoch: 26\n",
      "Loader: train. Accuracy: 0.9958809523809524\n",
      "Epoch: 27\n",
      "Loader: train. Accuracy: 0.9977619047619047\n",
      "Epoch: 28\n",
      "Loader: train. Accuracy: 0.9991904761904762\n",
      "Epoch: 29\n",
      "Loader: train. Accuracy: 0.9980714285714286\n",
      "Epoch: 30\n",
      "Loader: train. Accuracy: 0.9970952380952381\n",
      "Epoch: 31\n",
      "Loader: train. Accuracy: 0.9961190476190476\n",
      "Epoch: 32\n",
      "Loader: train. Accuracy: 0.9976666666666667\n",
      "Epoch: 33\n",
      "Loader: train. Accuracy: 0.9971190476190476\n",
      "Epoch: 34\n",
      "Loader: train. Accuracy: 0.9989761904761905\n",
      "Epoch: 35\n",
      "Loader: train. Accuracy: 0.9978809523809524\n"
     ]
    }
   ],
   "source": [
    "class LeNet(nn.Module):\n",
    "    def __init__(self):\n",
    "        super(LeNet, self).__init__()\n",
    "        # 1 input image channel, 6 output channels, 3x3 square conv kernel\n",
    "        self.conv1 = nn.Conv2d(1, 6, 3)\n",
    "        self.pool1 = nn.MaxPool2d(kernel_size=2, stride=2)\n",
    "        self.conv2 = nn.Conv2d(6, 16, 3)\n",
    "        self.pool2 = nn.MaxPool2d(kernel_size=2, stride=2)\n",
    "        self.fc1 = nn.Linear(16 * 5 * 5, 300)\n",
    "        self.fc2 = nn.Linear(300, 200)\n",
    "        self.fc3 = nn.Linear(200, 10)\n",
    "\n",
    "    def forward(self, x):\n",
    "        x = self.pool1(F.relu(self.conv1(x)))\n",
    "        x = self.pool2(F.relu(self.conv2(x)))\n",
    "        x = x.view(-1, 5 * 5 * 16)\n",
    "        x = F.relu(self.fc1(x))\n",
    "        x = F.relu(self.fc2(x))\n",
    "        x = self.fc3(x)\n",
    "        return x\n",
    "\n",
    "model = LeNet().to(device)\n",
    "\n",
    "criterion = nn.CrossEntropyLoss()\n",
    "optimizer = torch.optim.Adam(model.parameters())\n",
    "\n",
    "batch_size = 280 # this number should be a divider of test size!!\n",
    "train_dataset = CustomDataset(train_filename, True, transform=data_tfs)\n",
    "train_dataloader = DataLoader(train_dataset, batch_size=batch_size, drop_last=True, shuffle=True, num_workers=2)\n",
    "\n",
    "loaders = {\"train\": train_dataloader}\n",
    "max_epochs = 35\n",
    "accuracy = {\"train\": []}\n",
    "for epoch in range(max_epochs):\n",
    "    for k, dataloader in loaders.items():\n",
    "        epoch_correct = 0\n",
    "        epoch_all = 0\n",
    "        for x_batch, y_batch in dataloader:\n",
    "            x_batch = x_batch.to(device)\n",
    "            y_batch = y_batch.to(device)\n",
    "            model.train()\n",
    "            optimizer.zero_grad()\n",
    "            outp = model(x_batch)\n",
    "            preds = outp.argmax(-1)\n",
    "            correct = (preds == y_batch).sum()\n",
    "            all =  batch_size\n",
    "            epoch_correct += correct.item()\n",
    "            epoch_all += all\n",
    "            optimizer.zero_grad()\n",
    "            loss = criterion(outp, y_batch)\n",
    "            loss.backward()\n",
    "            optimizer.step()\n",
    "\n",
    "        print(f\"Epoch: {epoch+1}\")\n",
    "        print(f\"Loader: {k}. Accuracy: {epoch_correct/epoch_all}\")\n",
    "        accuracy[k].append(epoch_correct/epoch_all)"
   ]
  },
  {
   "cell_type": "code",
   "execution_count": 76,
   "metadata": {
    "ExecuteTime": {
     "end_time": "2023-11-03T21:50:49.996363Z",
     "start_time": "2023-11-03T21:50:49.292968Z"
    },
    "id": "kaxWuAPeAd3l"
   },
   "outputs": [
    {
     "name": "stdout",
     "output_type": "stream",
     "text": [
      "Downloaded dataset with size:  (28000, 784)\n"
     ]
    }
   ],
   "source": [
    "real_test_dataset = CustomDataset(test_filename, False, transform=data_tfs)\n",
    "real_test_dataloader = DataLoader(real_test_dataset, batch_size=batch_size, drop_last=True, num_workers=2)"
   ]
  },
  {
   "cell_type": "code",
   "execution_count": 77,
   "metadata": {
    "ExecuteTime": {
     "end_time": "2023-11-03T21:50:51.492513Z",
     "start_time": "2023-11-03T21:50:51.362641Z"
    },
    "colab": {
     "base_uri": "https://localhost:8080/"
    },
    "executionInfo": {
     "elapsed": 599,
     "status": "ok",
     "timestamp": 1698930457595,
     "user": {
      "displayName": "Степан Карпов",
      "userId": "08179695351102028322"
     },
     "user_tz": -180
    },
    "id": "eyDSTrUjBORf",
    "outputId": "f500c410-cc54-4e69-c52c-8eea77380a13"
   },
   "outputs": [
    {
     "name": "stdout",
     "output_type": "stream",
     "text": [
      "------real_test-----\n",
      "torch.Size([280, 1, 28, 28])\n",
      "torch.float32\n",
      "tensor([-1, -1, -1, -1, -1, -1, -1, -1, -1, -1, -1, -1, -1, -1, -1, -1, -1, -1,\n",
      "        -1, -1, -1, -1, -1, -1, -1, -1, -1, -1, -1, -1, -1, -1, -1, -1, -1, -1,\n",
      "        -1, -1, -1, -1, -1, -1, -1, -1, -1, -1, -1, -1, -1, -1, -1, -1, -1, -1,\n",
      "        -1, -1, -1, -1, -1, -1, -1, -1, -1, -1, -1, -1, -1, -1, -1, -1, -1, -1,\n",
      "        -1, -1, -1, -1, -1, -1, -1, -1, -1, -1, -1, -1, -1, -1, -1, -1, -1, -1,\n",
      "        -1, -1, -1, -1, -1, -1, -1, -1, -1, -1, -1, -1, -1, -1, -1, -1, -1, -1,\n",
      "        -1, -1, -1, -1, -1, -1, -1, -1, -1, -1, -1, -1, -1, -1, -1, -1, -1, -1,\n",
      "        -1, -1, -1, -1, -1, -1, -1, -1, -1, -1, -1, -1, -1, -1, -1, -1, -1, -1,\n",
      "        -1, -1, -1, -1, -1, -1, -1, -1, -1, -1, -1, -1, -1, -1, -1, -1, -1, -1,\n",
      "        -1, -1, -1, -1, -1, -1, -1, -1, -1, -1, -1, -1, -1, -1, -1, -1, -1, -1,\n",
      "        -1, -1, -1, -1, -1, -1, -1, -1, -1, -1, -1, -1, -1, -1, -1, -1, -1, -1,\n",
      "        -1, -1, -1, -1, -1, -1, -1, -1, -1, -1, -1, -1, -1, -1, -1, -1, -1, -1,\n",
      "        -1, -1, -1, -1, -1, -1, -1, -1, -1, -1, -1, -1, -1, -1, -1, -1, -1, -1,\n",
      "        -1, -1, -1, -1, -1, -1, -1, -1, -1, -1, -1, -1, -1, -1, -1, -1, -1, -1,\n",
      "        -1, -1, -1, -1, -1, -1, -1, -1, -1, -1, -1, -1, -1, -1, -1, -1, -1, -1,\n",
      "        -1, -1, -1, -1, -1, -1, -1, -1, -1, -1], dtype=torch.int32)\n"
     ]
    }
   ],
   "source": [
    "print(\"------real_test-----\")\n",
    "for x, y in real_test_dataloader:\n",
    "  print(x.shape)\n",
    "  print(x.dtype)\n",
    "  print(y)\n",
    "  break"
   ]
  },
  {
   "cell_type": "code",
   "execution_count": 79,
   "metadata": {
    "ExecuteTime": {
     "end_time": "2023-11-03T21:51:03.455584Z",
     "start_time": "2023-11-03T21:51:01.020628Z"
    },
    "colab": {
     "base_uri": "https://localhost:8080/"
    },
    "executionInfo": {
     "elapsed": 8535,
     "status": "ok",
     "timestamp": 1698930471122,
     "user": {
      "displayName": "Степан Карпов",
      "userId": "08179695351102028322"
     },
     "user_tz": -180
    },
    "id": "u5Qy22OzBgC1",
    "outputId": "b57ff7f6-8f64-41c8-dd75-d9bc1e42fa59"
   },
   "outputs": [
    {
     "name": "stdout",
     "output_type": "stream",
     "text": [
      "Calculated answers for 28000 rows\n"
     ]
    }
   ],
   "source": [
    "model.eval()\n",
    "preds = []\n",
    "total_tests = 0\n",
    "\n",
    "for x_batch, _ in real_test_dataloader:\n",
    "    total_tests += len(_)\n",
    "    x_batch = x_batch.to(device)\n",
    "    outp = model(x_batch)\n",
    "    current_preds = outp.argmax(-1)\n",
    "    preds += current_preds.cpu().tolist()\n",
    "\n",
    "print(\"Calculated answers for\", total_tests, \"rows\")"
   ]
  },
  {
   "cell_type": "code",
   "execution_count": 80,
   "metadata": {
    "ExecuteTime": {
     "end_time": "2023-11-03T21:51:03.468201Z",
     "start_time": "2023-11-03T21:51:03.456742Z"
    },
    "colab": {
     "base_uri": "https://localhost:8080/",
     "height": 423
    },
    "executionInfo": {
     "elapsed": 21,
     "status": "ok",
     "timestamp": 1698930471122,
     "user": {
      "displayName": "Степан Карпов",
      "userId": "08179695351102028322"
     },
     "user_tz": -180
    },
    "id": "mNxbAP_uH-x9",
    "outputId": "460bf7e4-f1e5-40c7-92cf-99144a2a5b5f"
   },
   "outputs": [
    {
     "data": {
      "text/html": [
       "<div>\n",
       "<style scoped>\n",
       "    .dataframe tbody tr th:only-of-type {\n",
       "        vertical-align: middle;\n",
       "    }\n",
       "\n",
       "    .dataframe tbody tr th {\n",
       "        vertical-align: top;\n",
       "    }\n",
       "\n",
       "    .dataframe thead th {\n",
       "        text-align: right;\n",
       "    }\n",
       "</style>\n",
       "<table border=\"1\" class=\"dataframe\">\n",
       "  <thead>\n",
       "    <tr style=\"text-align: right;\">\n",
       "      <th></th>\n",
       "      <th>0</th>\n",
       "    </tr>\n",
       "  </thead>\n",
       "  <tbody>\n",
       "    <tr>\n",
       "      <th>0</th>\n",
       "      <td>2</td>\n",
       "    </tr>\n",
       "    <tr>\n",
       "      <th>1</th>\n",
       "      <td>0</td>\n",
       "    </tr>\n",
       "    <tr>\n",
       "      <th>2</th>\n",
       "      <td>9</td>\n",
       "    </tr>\n",
       "    <tr>\n",
       "      <th>3</th>\n",
       "      <td>9</td>\n",
       "    </tr>\n",
       "    <tr>\n",
       "      <th>4</th>\n",
       "      <td>3</td>\n",
       "    </tr>\n",
       "    <tr>\n",
       "      <th>...</th>\n",
       "      <td>...</td>\n",
       "    </tr>\n",
       "    <tr>\n",
       "      <th>27995</th>\n",
       "      <td>9</td>\n",
       "    </tr>\n",
       "    <tr>\n",
       "      <th>27996</th>\n",
       "      <td>7</td>\n",
       "    </tr>\n",
       "    <tr>\n",
       "      <th>27997</th>\n",
       "      <td>3</td>\n",
       "    </tr>\n",
       "    <tr>\n",
       "      <th>27998</th>\n",
       "      <td>9</td>\n",
       "    </tr>\n",
       "    <tr>\n",
       "      <th>27999</th>\n",
       "      <td>2</td>\n",
       "    </tr>\n",
       "  </tbody>\n",
       "</table>\n",
       "<p>28000 rows × 1 columns</p>\n",
       "</div>"
      ],
      "text/plain": [
       "       0\n",
       "0      2\n",
       "1      0\n",
       "2      9\n",
       "3      9\n",
       "4      3\n",
       "...   ..\n",
       "27995  9\n",
       "27996  7\n",
       "27997  3\n",
       "27998  9\n",
       "27999  2\n",
       "\n",
       "[28000 rows x 1 columns]"
      ]
     },
     "execution_count": 80,
     "metadata": {},
     "output_type": "execute_result"
    }
   ],
   "source": [
    "pd.DataFrame(preds)"
   ]
  },
  {
   "cell_type": "code",
   "execution_count": 81,
   "metadata": {
    "ExecuteTime": {
     "end_time": "2023-11-03T21:51:05.418961Z",
     "start_time": "2023-11-03T21:51:05.222240Z"
    },
    "colab": {
     "base_uri": "https://localhost:8080/",
     "height": 494
    },
    "executionInfo": {
     "elapsed": 656,
     "status": "ok",
     "timestamp": 1698930478694,
     "user": {
      "displayName": "Степан Карпов",
      "userId": "08179695351102028322"
     },
     "user_tz": -180
    },
    "id": "1JRIDrsYJ3LV",
    "outputId": "55ebd22a-f4ef-4572-baa3-f42126a11893"
   },
   "outputs": [
    {
     "data": {
      "image/png": "[encoded data removed]",
      "text/plain": [
       "<Figure size 432x288 with 1 Axes>"
      ]
     },
     "metadata": {},
     "output_type": "display_data"
    }
   ],
   "source": [
    "numpy_array = preds\n",
    "\n",
    "plt.hist(numpy_array, bins=30)\n",
    "plt.title(\"Distribution of Tensor Values\")\n",
    "plt.xlabel(\"Value\")\n",
    "plt.ylabel(\"Frequency\")\n",
    "plt.show()"
   ]
  },
  {
   "cell_type": "code",
   "execution_count": 82,
   "metadata": {
    "ExecuteTime": {
     "end_time": "2023-11-03T21:51:07.762832Z",
     "start_time": "2023-11-03T21:51:07.731811Z"
    },
    "id": "iBBMVr8hKScz"
   },
   "outputs": [],
   "source": [
    "export = pd.DataFrame({'ImageId': range(1, 28001),\n",
    "                       'Label': preds})\n",
    "\n",
    "export.to_csv(\"./answers.csv\", index=False)"
   ]
  }
 ],
 "metadata": {
  "accelerator": "GPU",
  "colab": {
   "gpuType": "T4",
   "provenance": []
  },
  "hide_input": false,
  "kernelspec": {
   "display_name": "Python 3",
   "language": "python",
   "name": "python3"
  },
  "language_info": {
   "codemirror_mode": {
    "name": "ipython",
    "version": 3
   },
   "file_extension": ".py",
   "mimetype": "text/x-python",
   "name": "python",
   "nbconvert_exporter": "python",
   "pygments_lexer": "ipython3",
   "version": "3.6.9"
  },
  "nbTranslate": {
   "displayLangs": [
    "*"
   ],
   "hotkey": "alt-t",
   "langInMainMenu": true,
   "sourceLang": "en",
   "targetLang": "fr",
   "useGoogleTranslate": true
  },
  "toc": {
   "base_numbering": 1,
   "nav_menu": {},
   "number_sections": true,
   "sideBar": true,
   "skip_h1_title": false,
   "title_cell": "Table of Contents",
   "title_sidebar": "Contents",
   "toc_cell": false,
   "toc_position": {},
   "toc_section_display": true,
   "toc_window_display": false
  },
  "varInspector": {
   "cols": {
    "lenName": 16,
    "lenType": 16,
    "lenVar": 40
   },
   "kernels_config": {
    "python": {
     "delete_cmd_postfix": "",
     "delete_cmd_prefix": "del ",
     "library": "var_list.py",
     "varRefreshCmd": "print(var_dic_list())"
    },
    "r": {
     "delete_cmd_postfix": ") ",
     "delete_cmd_prefix": "rm(",
     "library": "var_list.r",
     "varRefreshCmd": "cat(var_dic_list()) "
    }
   },
   "types_to_exclude": [
    "module",
    "function",
    "builtin_function_or_method",
    "instance",
    "_Feature"
   ],
   "window_display": false
  }
 },
 "nbformat": 4,
 "nbformat_minor": 1
}
